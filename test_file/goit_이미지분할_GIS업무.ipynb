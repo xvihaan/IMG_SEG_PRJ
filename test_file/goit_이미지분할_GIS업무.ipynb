{
  "cells": [
    {
      "cell_type": "markdown",
      "metadata": {
        "id": "TDEvogvmoLNB"
      },
      "source": [
        "# 이미지 분할_GIS 업무 파이프라인\n",
        "## 개요)\n",
        "1. 이미지 분할 모델 조사 기준 환경 구축\n",
        "2. 오픈소스 데이터셋 기반 테스트 추론 및 분류 연구\n",
        "3. QGIS GIS 샘플 데이터 테스트 시도"
      ]
    },
    {
      "cell_type": "markdown",
      "metadata": {
        "id": "4f473da2"
      },
      "source": [
        "## 학습 과정\n",
        "\"38-cloud\" 데이터 세트에서 학습된 U-Net(EfficientNet-B0) 모델을 사용하여 원본 비디오 프레임에서 구름을 감지하는 이미지 분할 프로젝트를 구현합니다. 최종 출력은 구름이 감지되지 않은 원본 이미지, 구름이 감지된 원본 이미지, 예측된 구름 마스크 이미지의 세 가지 이미지로 구성되어야 합니다."
      ]
    },
    {
      "cell_type": "markdown",
      "metadata": {
        "id": "d1c577de"
      },
      "source": [
        "## 환경 설정 및 데이터 로딩\n",
        "\n",
        "### Subtask:\n",
        "필요한 라이브러리를 설치하고 '38-cloud' 데이터셋을 로드합니다. 데이터셋의 구조를 확인하고 시각화하여 이해를 돕습니다.\n"
      ]
    },
    {
      "cell_type": "markdown",
      "metadata": {
        "id": "e3ac1360"
      },
      "source": [
        "**Reasoning**:\n",
        "Install necessary libraries for data loading and visualization.\n",
        "\n"
      ]
    },
    {
      "cell_type": "code",
      "execution_count": 1,
      "metadata": {
        "colab": {
          "base_uri": "https://localhost:8080/"
        },
        "id": "4301917f",
        "outputId": "dcf65b3c-8792-4753-b6f4-82b7f5c558af"
      },
      "outputs": [
        {
          "name": "stdout",
          "output_type": "stream",
          "text": [
            "Requirement already satisfied: opencv-python in /home/goit/miniconda3/envs/img_cl/lib/python3.13/site-packages (4.12.0.88)\n",
            "Requirement already satisfied: scikit-image in /home/goit/miniconda3/envs/img_cl/lib/python3.13/site-packages (0.25.2)\n",
            "Requirement already satisfied: numpy<2.3.0,>=2 in /home/goit/miniconda3/envs/img_cl/lib/python3.13/site-packages (from opencv-python) (2.2.6)\n",
            "Requirement already satisfied: scipy>=1.11.4 in /home/goit/miniconda3/envs/img_cl/lib/python3.13/site-packages (from scikit-image) (1.16.1)\n",
            "Requirement already satisfied: networkx>=3.0 in /home/goit/miniconda3/envs/img_cl/lib/python3.13/site-packages (from scikit-image) (3.5)\n",
            "Requirement already satisfied: pillow>=10.1 in /home/goit/miniconda3/envs/img_cl/lib/python3.13/site-packages (from scikit-image) (11.3.0)\n",
            "Requirement already satisfied: imageio!=2.35.0,>=2.33 in /home/goit/miniconda3/envs/img_cl/lib/python3.13/site-packages (from scikit-image) (2.37.0)\n",
            "Requirement already satisfied: tifffile>=2022.8.12 in /home/goit/miniconda3/envs/img_cl/lib/python3.13/site-packages (from scikit-image) (2025.9.9)\n",
            "Requirement already satisfied: packaging>=21 in /home/goit/miniconda3/envs/img_cl/lib/python3.13/site-packages (from scikit-image) (25.0)\n",
            "Requirement already satisfied: lazy-loader>=0.4 in /home/goit/miniconda3/envs/img_cl/lib/python3.13/site-packages (from scikit-image) (0.4)\n",
            "Note: you may need to restart the kernel to use updated packages.\n"
          ]
        }
      ],
      "source": [
        "%pip install opencv-python scikit-image"
      ]
    },
    {
      "cell_type": "markdown",
      "metadata": {
        "id": "ba466ec7"
      },
      "source": [
        "**추론**:\n",
        "'38-cloud' 데이터 집합을 로드하고 구조를 확인한 후 샘플 이미지와 마스크를 시각화합니다.\n",
        "\n"
      ]
    },
    {
      "cell_type": "markdown",
      "metadata": {
        "id": "af3d6760"
      },
      "source": [
        "# 작업\n",
        "U-net(Efficientnet-B0) 모델과 \"38-cloud\" 데이터 세트를 사용하여 클라우드 세분화 프로젝트를 구현합니다. 목표는 원본 비디오 이미지에서 클라우드를 식별하고 이미지 분할을 통해 클라우드 마스크를 생성하는 것입니다. 최종 출력물은 세 부분으로 구성되어야 합니다: \"구름이 감지되지 않은 원본 비디오\", \"구름이 감지된 원본 비디오\", \"구름이 감지된 비디오(예측된 구름 마스크)\"로 구성됩니다. \"구름이 감지된 비디오(예상 구름 마스크)\"는 후처리용 소스로 간주됩니다. \"38-cloud\" 데이터 세트로 모델을 학습시키기 위한 코드와 프로세스에 대한 자세한 설명을 마크다운 형식으로 제공합니다. Kaggle API를 사용하여 \"https://www.kaggle.com/datasets/sorour/38cloud-cloud-segmentation-in-satellite-images?resource=download\"에서 \"38-cloud\" 데이터 세트를 다운로드합니다.\n"
      ]
    },
    {
      "cell_type": "markdown",
      "metadata": {
        "id": "85797c9e"
      },
      "source": [
        "## Kaggle api 토큰 발급\n",
        "\n",
        "### Subtask:\n",
        "Kaggle 웹사이트에서 API 토큰을 발급받고 다운로드합니다.\n"
      ]
    },
    {
      "cell_type": "markdown",
      "metadata": {
        "id": "fff9a3d8"
      },
      "source": [
        "## Kaggle api 설정\n",
        "\n",
        "### Subtask:\n",
        "발급받은 Kaggle API 토큰을 코랩 환경에 설정합니다.\n"
      ]
    },
    {
      "cell_type": "code",
      "execution_count": 2,
      "metadata": {},
      "outputs": [
        {
          "name": "stdout",
          "output_type": "stream",
          "text": [
            "Requirement already satisfied: kagglehub in /home/goit/miniconda3/envs/img_cl/lib/python3.13/site-packages (0.3.13)\n",
            "Requirement already satisfied: packaging in /home/goit/miniconda3/envs/img_cl/lib/python3.13/site-packages (from kagglehub) (25.0)\n",
            "Requirement already satisfied: pyyaml in /home/goit/miniconda3/envs/img_cl/lib/python3.13/site-packages (from kagglehub) (6.0.2)\n",
            "Requirement already satisfied: requests in /home/goit/miniconda3/envs/img_cl/lib/python3.13/site-packages (from kagglehub) (2.32.5)\n",
            "Requirement already satisfied: tqdm in /home/goit/miniconda3/envs/img_cl/lib/python3.13/site-packages (from kagglehub) (4.67.1)\n",
            "Requirement already satisfied: charset_normalizer<4,>=2 in /home/goit/miniconda3/envs/img_cl/lib/python3.13/site-packages (from requests->kagglehub) (3.4.3)\n",
            "Requirement already satisfied: idna<4,>=2.5 in /home/goit/miniconda3/envs/img_cl/lib/python3.13/site-packages (from requests->kagglehub) (3.10)\n",
            "Requirement already satisfied: urllib3<3,>=1.21.1 in /home/goit/miniconda3/envs/img_cl/lib/python3.13/site-packages (from requests->kagglehub) (2.5.0)\n",
            "Requirement already satisfied: certifi>=2017.4.17 in /home/goit/miniconda3/envs/img_cl/lib/python3.13/site-packages (from requests->kagglehub) (2025.8.3)\n",
            "Note: you may need to restart the kernel to use updated packages.\n"
          ]
        }
      ],
      "source": [
        "%pip install kagglehub"
      ]
    },
    {
      "cell_type": "code",
      "execution_count": 3,
      "metadata": {
        "colab": {
          "base_uri": "https://localhost:8080/"
        },
        "id": "1vOFKp-9rkJq",
        "outputId": "6a2d5eff-4508-455d-b1a7-5b113a6df65f"
      },
      "outputs": [
        {
          "name": "stdout",
          "output_type": "stream",
          "text": [
            "Dataset already exists.\n",
            "Path to dataset files: /home/goit/.cache/kagglehub/datasets/sorour/38cloud-cloud-segmentation-in-satellite-images/versions/4\n",
            "Image directory set to: /home/goit/.cache/kagglehub/datasets/sorour/38cloud-cloud-segmentation-in-satellite-images/versions/4/38-Cloud_training/train_red\n",
            "Mask directory set to: /home/goit/.cache/kagglehub/datasets/sorour/38cloud-cloud-segmentation-in-satellite-images/versions/4/38-Cloud_training/train_gt\n"
          ]
        },
        {
          "name": "stderr",
          "output_type": "stream",
          "text": [
            "/home/goit/miniconda3/envs/img_cl/lib/python3.13/site-packages/tqdm/auto.py:21: TqdmWarning: IProgress not found. Please update jupyter and ipywidgets. See https://ipywidgets.readthedocs.io/en/stable/user_install.html\n",
            "  from .autonotebook import tqdm as notebook_tqdm\n"
          ]
        }
      ],
      "source": [
        "import kagglehub\n",
        "import os\n",
        "\n",
        "# Define the base path to the dataset after extraction by kagglehub\n",
        "# Use the same path as used in subsequent cells to ensure consistency\n",
        "dataset_path = '/home/goit/.cache/kagglehub/datasets/sorour/38cloud-cloud-segmentation-in-satellite-images/versions/4'\n",
        "train_data_path = os.path.join(dataset_path, '38-Cloud_training')\n",
        "\n",
        "# Check if the dataset is already downloaded and extracted\n",
        "if not os.path.exists(train_data_path):\n",
        "    print(\"Dataset not found, downloading...\")\n",
        "    # Download latest version\n",
        "    path = kagglehub.dataset_download(\"sorour/38cloud-cloud-segmentation-in-satellite-images\")\n",
        "    print(\"Path to dataset files:\", path)\n",
        "else:\n",
        "    print(\"Dataset already exists.\")\n",
        "    print(\"Path to dataset files:\", dataset_path)\n",
        "\n",
        "\n",
        "# Define the correct image and mask directories based on the file listing\n",
        "# We already confirmed these paths in previous steps\n",
        "image_dir = os.path.join(train_data_path, 'train_red') # Using one of the band directories as the image directory\n",
        "mask_dir = os.path.join(train_data_path, 'train_gt')   # Using the ground truth directory as the mask directory\n",
        "\n",
        "# Verify if the directories exist (re-check in case of unexpected issues)\n",
        "if not os.path.exists(image_dir):\n",
        "    print(f\"Error: Image directory not found at {image_dir}\")\n",
        "elif not os.path.exists(mask_dir):\n",
        "    print(f\"Error: Mask directory not found at {mask_dir}\")\n",
        "else:\n",
        "    print(f\"Image directory set to: {image_dir}\")\n",
        "    print(f\"Mask directory set to: {mask_dir}\")"
      ]
    },
    {
      "cell_type": "markdown",
      "metadata": {
        "id": "21fb175f"
      },
      "source": [
        "**추론**:\n",
        "Colab 환경에 kaggle.json 파일을 업로드하고 .kaggle 디렉터리를 생성한 후 업로드한 파일을 .kaggle 디렉터리로 이동하고 적절한 권한을 설정합니다.\n",
        "\n"
      ]
    },
    {
      "cell_type": "code",
      "execution_count": 4,
      "metadata": {},
      "outputs": [
        {
          "name": "stdout",
          "output_type": "stream",
          "text": [
            "Requirement already satisfied: matplotlib in /home/goit/miniconda3/envs/img_cl/lib/python3.13/site-packages (3.10.6)\n",
            "Requirement already satisfied: contourpy>=1.0.1 in /home/goit/miniconda3/envs/img_cl/lib/python3.13/site-packages (from matplotlib) (1.3.3)\n",
            "Requirement already satisfied: cycler>=0.10 in /home/goit/miniconda3/envs/img_cl/lib/python3.13/site-packages (from matplotlib) (0.12.1)\n",
            "Requirement already satisfied: fonttools>=4.22.0 in /home/goit/miniconda3/envs/img_cl/lib/python3.13/site-packages (from matplotlib) (4.59.2)\n",
            "Requirement already satisfied: kiwisolver>=1.3.1 in /home/goit/miniconda3/envs/img_cl/lib/python3.13/site-packages (from matplotlib) (1.4.9)\n",
            "Requirement already satisfied: numpy>=1.23 in /home/goit/miniconda3/envs/img_cl/lib/python3.13/site-packages (from matplotlib) (2.2.6)\n",
            "Requirement already satisfied: packaging>=20.0 in /home/goit/miniconda3/envs/img_cl/lib/python3.13/site-packages (from matplotlib) (25.0)\n",
            "Requirement already satisfied: pillow>=8 in /home/goit/miniconda3/envs/img_cl/lib/python3.13/site-packages (from matplotlib) (11.3.0)\n",
            "Requirement already satisfied: pyparsing>=2.3.1 in /home/goit/miniconda3/envs/img_cl/lib/python3.13/site-packages (from matplotlib) (3.2.3)\n",
            "Requirement already satisfied: python-dateutil>=2.7 in /home/goit/miniconda3/envs/img_cl/lib/python3.13/site-packages (from matplotlib) (2.9.0.post0)\n",
            "Requirement already satisfied: six>=1.5 in /home/goit/miniconda3/envs/img_cl/lib/python3.13/site-packages (from python-dateutil>=2.7->matplotlib) (1.17.0)\n",
            "Note: you may need to restart the kernel to use updated packages.\n",
            "Requirement already satisfied: opencv-python in /home/goit/miniconda3/envs/img_cl/lib/python3.13/site-packages (4.12.0.88)\n",
            "Requirement already satisfied: numpy<2.3.0,>=2 in /home/goit/miniconda3/envs/img_cl/lib/python3.13/site-packages (from opencv-python) (2.2.6)\n",
            "Note: you may need to restart the kernel to use updated packages.\n"
          ]
        }
      ],
      "source": [
        "%pip install matplotlib\n",
        "%pip install opencv-python"
      ]
    },
    {
      "cell_type": "code",
      "execution_count": 5,
      "metadata": {
        "colab": {
          "base_uri": "https://localhost:8080/",
          "height": 35
        },
        "id": "c437d5cb",
        "outputId": "52b6baa3-392e-4ca6-bad5-538c7896f9be"
      },
      "outputs": [
        {
          "data": {
            "text/plain": [
              "<Figure size 1500x1000 with 0 Axes>"
            ]
          },
          "metadata": {},
          "output_type": "display_data"
        }
      ],
      "source": [
        "import matplotlib.pyplot as plt\n",
        "import cv2\n",
        "import os\n",
        "\n",
        "# Define the base path to the dataset\n",
        "dataset_path = '/home/goit/.cache/kagglehub/datasets/sorour/38cloud-cloud-segmentation-in-satellite-images/versions/4'\n",
        "train_data_path = os.path.join(dataset_path, '38-Cloud_training')\n",
        "\n",
        "# Correct image and mask directories based on the file listing\n",
        "image_dir = os.path.join(train_data_path, 'train_red') # Using 'train_red' as an example image directory\n",
        "mask_dir = os.path.join(train_data_path, 'train_gt')   # Using 'train_gt' as the mask directory\n",
        "\n",
        "# Check if the directories exist before listing files\n",
        "if not os.path.exists(image_dir):\n",
        "    print(f\"Error: Image directory not found at {image_dir}\")\n",
        "elif not os.path.exists(mask_dir):\n",
        "    print(f\"Error: Mask directory not found at {mask_dir}\")\n",
        "else:\n",
        "    # Get list of image and mask files\n",
        "    image_files = [f for f in os.listdir(image_dir) if f.endswith('.jpg')]\n",
        "    mask_files = [f for f in os.listdir(mask_dir) if f.endswith('.jpg')]\n",
        "\n",
        "    # Sort files to ensure corresponding images and masks are selected\n",
        "    # Assuming image and mask files have corresponding names (e.g., same base name)\n",
        "    image_files.sort()\n",
        "    mask_files.sort()\n",
        "\n",
        "    # Select a few sample images and masks to display\n",
        "    num_samples = 5\n",
        "    # Ensure we don't request more samples than available files\n",
        "    num_samples = min(num_samples, len(image_files), len(mask_files))\n",
        "    sample_images = image_files[:num_samples]\n",
        "    sample_masks = mask_files[:num_samples]\n",
        "\n",
        "    plt.figure(figsize=(15, 10))\n",
        "\n",
        "    for i in range(num_samples):\n",
        "        # Load image (using the red band as a representative image)\n",
        "        img_path = os.path.join(image_dir, sample_images[i])\n",
        "        img = cv2.imread(img_path)\n",
        "        # If using a single band, it's grayscale, but matplotlib imshow can display it.\n",
        "        # If you need a color image, you would need to combine bands.\n",
        "        # For simple visualization of one band, keep it as is or convert to RGB if needed for consistency.\n",
        "        # Let's display it as is (likely grayscale) for simplicity here.\n",
        "\n",
        "        # Load mask\n",
        "        mask_path = os.path.join(mask_dir, sample_masks[i])\n",
        "        mask = cv2.imread(mask_path, cv2.IMREAD_GRAYSCALE) # Load as grayscale\n",
        "\n",
        "        # Display original image (red band)\n",
        "        plt.subplot(num_samples, 2, 2*i + 1)\n",
        "        plt.imshow(img, cmap='gray') # Use grayscale colormap for single band\n",
        "        plt.title(f'Image (Red Band): {sample_images[i]}')\n",
        "        plt.axis('off')\n",
        "\n",
        "        # Display mask\n",
        "        plt.subplot(num_samples, 2, 2*i + 2)\n",
        "        plt.imshow(mask, cmap='gray')\n",
        "        plt.title(f'Mask: {sample_masks[i]}')\n",
        "        plt.axis('off')\n",
        "\n",
        "    plt.tight_layout()\n",
        "    plt.show()"
      ]
    },
    {
      "cell_type": "code",
      "execution_count": null,
      "metadata": {
        "id": "Q4BAGBKzvZ5L"
      },
      "outputs": [],
      "source": []
    },
    {
      "cell_type": "markdown",
      "metadata": {
        "id": "b0ace927"
      },
      "source": [
        "# 작업\n",
        "\"38-cloud\" 데이터 세트에서 U-Net(EfficientNet-B0) 모델을 사용해 이미지 분할을 수행하여 구름을 식별합니다. 최종 출력은 감지된 구름이 없는 원본 이미지, 감지된 구름이 있는 원본 이미지, 예측된 구름 마스크의 세 가지 이미지로 구성되어야 합니다. 모델 학습을 위한 코드와 프로세스에 대한 자세한 마크다운 설명을 제공합니다. Kaggle API를 사용하여 \"https://www.kaggle.com/datasets/sorour/38cloud-cloud-segmentation-in-satellite-images?resource=download\"에서 \"38-cloud\" 데이터 세트를 다운로드합니다. 다운로드 후 데이터 세트 구조를 탐색하고 몇 가지 대표 이미지를 시각화합니다. 이전에 데이터 세트 파일에 액세스하려고 시도하는 동안 발생한 `FileNotFoundError`를 처리합니다."
      ]
    },
    {
      "cell_type": "markdown",
      "metadata": {
        "id": "4371dc35"
      },
      "source": [
        "## 데이터셋 경로 설정\n",
        "\n",
        "### Subtask:\n",
        "이미지 및 마스크 파일이 포함된 데이터셋 디렉토리의 정확한 경로를 설정합니다.\n"
      ]
    },
    {
      "cell_type": "markdown",
      "metadata": {
        "id": "8111a097"
      },
      "source": [
        "**Reasoning**:\n",
        "Set the correct paths for the image and mask directories based on the extracted dataset structure and verify their existence.\n",
        "\n"
      ]
    },
    {
      "cell_type": "code",
      "execution_count": 6,
      "metadata": {
        "colab": {
          "base_uri": "https://localhost:8080/"
        },
        "id": "929d1752",
        "outputId": "7e05f156-f399-4fff-e931-34aaa72fa478"
      },
      "outputs": [
        {
          "name": "stdout",
          "output_type": "stream",
          "text": [
            "Contents of /home/goit/.cache/kagglehub/datasets/sorour/38cloud-cloud-segmentation-in-satellite-images/versions/4:\n",
            "bibtex.txt\n",
            "38-Cloud_Training_Metadata_Files\n",
            "training_patches_38-cloud_nonempty.csv\n",
            "38-Cloud_test\n",
            "38-Cloud_95-Cloud_Test_Metadata_Files\n",
            "38-Cloud_training\n"
          ]
        }
      ],
      "source": [
        "import os\n",
        "\n",
        "# Define the base path to the dataset after extraction by kagglehub\n",
        "dataset_path = '/home/goit/.cache/kagglehub/datasets/sorour/38cloud-cloud-segmentation-in-satellite-images/versions/4'\n",
        "\n",
        "# List the contents of the base dataset directory to understand the structure\n",
        "print(f\"Contents of {dataset_path}:\")\n",
        "try:\n",
        "    for item in os.listdir(dataset_path):\n",
        "        print(item)\n",
        "except FileNotFoundError:\n",
        "    print(f\"Error: Base dataset path not found at {dataset_path}\")\n"
      ]
    },
    {
      "cell_type": "markdown",
      "metadata": {
        "id": "4e8f189e"
      },
      "source": [
        "**Reasoning**:\n",
        "Based on the directory listing, the training data is located in the '38-Cloud_training' subdirectory. I will now set the `image_dir` and `mask_dir` variables based on this finding and verify their existence again.\n",
        "\n"
      ]
    },
    {
      "cell_type": "code",
      "execution_count": 7,
      "metadata": {
        "colab": {
          "base_uri": "https://localhost:8080/"
        },
        "id": "29aa03da",
        "outputId": "857daedd-4633-4a27-925a-bf62bf171d2c"
      },
      "outputs": [
        {
          "name": "stdout",
          "output_type": "stream",
          "text": [
            "Contents of /home/goit/.cache/kagglehub/datasets/sorour/38cloud-cloud-segmentation-in-satellite-images/versions/4/38-Cloud_training:\n",
            "train_nir\n",
            "Natural_False_Color\n",
            "train_gt\n",
            "training_sceneids_38-Cloud.csv\n",
            "train_blue\n",
            "Entire_scene_gts\n",
            "train_green\n",
            "training_patches_38-Cloud.csv\n",
            "train_red\n"
          ]
        }
      ],
      "source": [
        "import os\n",
        "\n",
        "# Define the path to the training data directory\n",
        "train_data_path = '/home/goit/.cache/kagglehub/datasets/sorour/38cloud-cloud-segmentation-in-satellite-images/versions/4/38-Cloud_training'\n",
        "\n",
        "# List the contents of the training data directory\n",
        "print(f\"Contents of {train_data_path}:\")\n",
        "try:\n",
        "    for item in os.listdir(train_data_path):\n",
        "        print(item)\n",
        "except FileNotFoundError:\n",
        "    print(f\"Error: Training data path not found at {train_data_path}\")\n"
      ]
    },
    {
      "cell_type": "code",
      "execution_count": 8,
      "metadata": {
        "colab": {
          "base_uri": "https://localhost:8080/"
        },
        "id": "a661b7de",
        "outputId": "e7786f30-4767-4762-cf62-711423e26d5c"
      },
      "outputs": [
        {
          "name": "stdout",
          "output_type": "stream",
          "text": [
            "Image directory found at: /home/goit/.cache/kagglehub/datasets/sorour/38cloud-cloud-segmentation-in-satellite-images/versions/4/38-Cloud_training/train_red\n",
            "Mask directory found at: /home/goit/.cache/kagglehub/datasets/sorour/38cloud-cloud-segmentation-in-satellite-images/versions/4/38-Cloud_training/train_gt\n"
          ]
        }
      ],
      "source": [
        "import os\n",
        "\n",
        "# Define the base path to the training data directory\n",
        "train_data_path = '/home/goit/.cache/kagglehub/datasets/sorour/38cloud-cloud-segmentation-in-satellite-images/versions/4/38-Cloud_training'\n",
        "\n",
        "# Corrected paths based on the directory listing of 38-Cloud_training\n",
        "image_dir = os.path.join(train_data_path, 'train_red') # Using one of the band directories as the image directory\n",
        "mask_dir = os.path.join(train_data_path, 'train_gt')   # Using the ground truth directory as the mask directory\n",
        "\n",
        "# Verify if the directories exist\n",
        "if not os.path.exists(image_dir):\n",
        "    print(f\"Error: Image directory not found at {image_dir}\")\n",
        "elif not os.path.exists(mask_dir):\n",
        "    print(f\"Error: Mask directory not found at {mask_dir}\")\n",
        "else:\n",
        "    print(f\"Image directory found at: {image_dir}\")\n",
        "    print(f\"Mask directory found at: {mask_dir}\")\n"
      ]
    },
    {
      "cell_type": "markdown",
      "metadata": {
        "id": "913f11f8"
      },
      "source": [
        "## 데이터 로딩 함수 정의\n",
        "\n",
        "### Subtask:\n",
        "이미지 및 마스크를 로드하고 전처리하는 함수를 정의합니다.\n"
      ]
    },
    {
      "cell_type": "markdown",
      "metadata": {
        "id": "829a902e"
      },
      "source": [
        "**추론**:\n",
        "이미지와 마스크를 로드, 전처리, 크기 조정하고 픽셀 값을 정규화하는 함수를 정의합니다.\n",
        "\n"
      ]
    },
    {
      "cell_type": "code",
      "execution_count": 9,
      "metadata": {
        "id": "035da49a"
      },
      "outputs": [],
      "source": [
        "import cv2\n",
        "import numpy as np\n",
        "\n",
        "def load_and_preprocess_image_mask(image_path, mask_path, target_size=(256, 256)):\n",
        "    \"\"\"\n",
        "    Loads and preprocesses an image and its corresponding mask.\n",
        "\n",
        "    Args:\n",
        "        image_path (str): Path to the image file.\n",
        "        mask_path (str): Path to the mask file.\n",
        "        target_size (tuple): The target size (width, height) for resizing.\n",
        "\n",
        "    Returns:\n",
        "        tuple: A tuple containing the preprocessed image (numpy array)\n",
        "               and the preprocessed mask (numpy array).\n",
        "    \"\"\"\n",
        "    # Load image in color (RGB)\n",
        "    image = cv2.imread(image_path)\n",
        "    if image is None:\n",
        "        print(f\"Error loading image: {image_path}\")\n",
        "        return None, None\n",
        "    image = cv2.cvtColor(image, cv2.COLOR_BGR2RGB)\n",
        "\n",
        "    # Load mask in grayscale\n",
        "    mask = cv2.imread(mask_path, cv2.IMREAD_GRAYSCALE)\n",
        "    if mask is None:\n",
        "        print(f\"Error loading mask: {mask_path}\")\n",
        "        return None, None\n",
        "\n",
        "    # Resize image and mask\n",
        "    image = cv2.resize(image, target_size)\n",
        "    mask = cv2.resize(mask, target_size, interpolation=cv2.INTER_NEAREST) # Use nearest neighbor for masks\n",
        "\n",
        "    # Normalize image pixel values to [0, 1]\n",
        "    image = image.astype(np.float32) / 255.0\n",
        "\n",
        "    # Normalize mask pixel values to [0, 1] (assuming mask is binary 0 or 255)\n",
        "    mask = mask.astype(np.float32) / 255.0\n",
        "    # Expand mask dimensions to (height, width, 1) for consistency with image shape\n",
        "    mask = np.expand_dims(mask, axis=-1)\n",
        "\n",
        "\n",
        "    return image, mask\n",
        "\n",
        "# Example usage (assuming image_dir and mask_dir are defined from previous steps)\n",
        "# Replace with actual file names from your dataset\n",
        "# sample_image_name = os.listdir(image_dir)[0]\n",
        "# sample_mask_name = os.listdir(mask_dir)[0] # Assuming mask files have corresponding names\n",
        "\n",
        "# sample_image_path = os.path.join(image_dir, sample_image_name)\n",
        "# sample_mask_path = os.path.join(mask_dir, sample_mask_name)\n",
        "\n",
        "# preprocessed_image, preprocessed_mask = load_and_preprocess_image_mask(sample_image_path, sample_mask_path)\n",
        "\n",
        "# if preprocessed_image is not None and preprocessed_mask is not None:\n",
        "#     print(\"Image shape after preprocessing:\", preprocessed_image.shape)\n",
        "#     print(\"Mask shape after preprocessing:\", preprocessed_mask.shape)\n",
        "#     print(\"Image data type:\", preprocessed_image.dtype)\n",
        "#     print(\"Mask data type:\", preprocessed_mask.dtype)\n",
        "#     print(\"Image pixel range:\", np.min(preprocessed_image), np.max(preprocessed_image))\n",
        "#     print(\"Mask pixel range:\", np.min(preprocessed_mask), np.max(preprocessed_mask))\n"
      ]
    },
    {
      "cell_type": "markdown",
      "metadata": {
        "id": "0ff00170"
      },
      "source": [
        "## 데이터셋 클래스 정의\n",
        "\n",
        "### Subtask:\n",
        "PyTorch의 `Dataset` 클래스를 상속받아 커스텀 데이터셋 클래스를 정의합니다.\n"
      ]
    },
    {
      "cell_type": "markdown",
      "metadata": {
        "id": "1e72698d"
      },
      "source": [
        "**추론**:\n",
        "이전에 정의한 함수를 사용하여 이미지와 마스크 데이터를 로드하고 전처리하는 사용자 정의 PyTorch 데이터 세트 클래스를 정의합니다.\n",
        "\n"
      ]
    },
    {
      "cell_type": "code",
      "execution_count": 10,
      "metadata": {},
      "outputs": [
        {
          "name": "stdout",
          "output_type": "stream",
          "text": [
            "Requirement already satisfied: torch in /home/goit/miniconda3/envs/img_cl/lib/python3.13/site-packages (2.8.0)\n",
            "Requirement already satisfied: filelock in /home/goit/miniconda3/envs/img_cl/lib/python3.13/site-packages (from torch) (3.19.1)\n",
            "Requirement already satisfied: typing-extensions>=4.10.0 in /home/goit/miniconda3/envs/img_cl/lib/python3.13/site-packages (from torch) (4.15.0)\n",
            "Requirement already satisfied: setuptools in /home/goit/miniconda3/envs/img_cl/lib/python3.13/site-packages (from torch) (80.9.0)\n",
            "Requirement already satisfied: sympy>=1.13.3 in /home/goit/miniconda3/envs/img_cl/lib/python3.13/site-packages (from torch) (1.14.0)\n",
            "Requirement already satisfied: networkx in /home/goit/miniconda3/envs/img_cl/lib/python3.13/site-packages (from torch) (3.5)\n",
            "Requirement already satisfied: jinja2 in /home/goit/miniconda3/envs/img_cl/lib/python3.13/site-packages (from torch) (3.1.6)\n",
            "Requirement already satisfied: fsspec in /home/goit/miniconda3/envs/img_cl/lib/python3.13/site-packages (from torch) (2025.9.0)\n",
            "Requirement already satisfied: nvidia-cuda-nvrtc-cu12==12.8.93 in /home/goit/miniconda3/envs/img_cl/lib/python3.13/site-packages (from torch) (12.8.93)\n",
            "Requirement already satisfied: nvidia-cuda-runtime-cu12==12.8.90 in /home/goit/miniconda3/envs/img_cl/lib/python3.13/site-packages (from torch) (12.8.90)\n",
            "Requirement already satisfied: nvidia-cuda-cupti-cu12==12.8.90 in /home/goit/miniconda3/envs/img_cl/lib/python3.13/site-packages (from torch) (12.8.90)\n",
            "Requirement already satisfied: nvidia-cudnn-cu12==9.10.2.21 in /home/goit/miniconda3/envs/img_cl/lib/python3.13/site-packages (from torch) (9.10.2.21)\n",
            "Requirement already satisfied: nvidia-cublas-cu12==12.8.4.1 in /home/goit/miniconda3/envs/img_cl/lib/python3.13/site-packages (from torch) (12.8.4.1)\n",
            "Requirement already satisfied: nvidia-cufft-cu12==11.3.3.83 in /home/goit/miniconda3/envs/img_cl/lib/python3.13/site-packages (from torch) (11.3.3.83)\n",
            "Requirement already satisfied: nvidia-curand-cu12==10.3.9.90 in /home/goit/miniconda3/envs/img_cl/lib/python3.13/site-packages (from torch) (10.3.9.90)\n",
            "Requirement already satisfied: nvidia-cusolver-cu12==11.7.3.90 in /home/goit/miniconda3/envs/img_cl/lib/python3.13/site-packages (from torch) (11.7.3.90)\n",
            "Requirement already satisfied: nvidia-cusparse-cu12==12.5.8.93 in /home/goit/miniconda3/envs/img_cl/lib/python3.13/site-packages (from torch) (12.5.8.93)\n",
            "Requirement already satisfied: nvidia-cusparselt-cu12==0.7.1 in /home/goit/miniconda3/envs/img_cl/lib/python3.13/site-packages (from torch) (0.7.1)\n",
            "Requirement already satisfied: nvidia-nccl-cu12==2.27.3 in /home/goit/miniconda3/envs/img_cl/lib/python3.13/site-packages (from torch) (2.27.3)\n",
            "Requirement already satisfied: nvidia-nvtx-cu12==12.8.90 in /home/goit/miniconda3/envs/img_cl/lib/python3.13/site-packages (from torch) (12.8.90)\n",
            "Requirement already satisfied: nvidia-nvjitlink-cu12==12.8.93 in /home/goit/miniconda3/envs/img_cl/lib/python3.13/site-packages (from torch) (12.8.93)\n",
            "Requirement already satisfied: nvidia-cufile-cu12==1.13.1.3 in /home/goit/miniconda3/envs/img_cl/lib/python3.13/site-packages (from torch) (1.13.1.3)\n",
            "Requirement already satisfied: triton==3.4.0 in /home/goit/miniconda3/envs/img_cl/lib/python3.13/site-packages (from torch) (3.4.0)\n",
            "Requirement already satisfied: mpmath<1.4,>=1.1.0 in /home/goit/miniconda3/envs/img_cl/lib/python3.13/site-packages (from sympy>=1.13.3->torch) (1.3.0)\n",
            "Requirement already satisfied: MarkupSafe>=2.0 in /home/goit/miniconda3/envs/img_cl/lib/python3.13/site-packages (from jinja2->torch) (3.0.2)\n",
            "Note: you may need to restart the kernel to use updated packages.\n"
          ]
        }
      ],
      "source": [
        "%pip install torch"
      ]
    },
    {
      "cell_type": "code",
      "execution_count": null,
      "metadata": {
        "id": "d88f6ce0"
      },
      "outputs": [],
      "source": [
        "import torch\n",
        "from torch.utils.data import Dataset\n",
        "import os\n",
        "\n",
        "class CloudDataset(Dataset):\n",
        "    \"\"\"Custom Dataset for loading cloud images and masks.\"\"\"\n",
        "\n",
        "    def __init__(self, image_files, mask_files, preprocess_fn=None):\n",
        "        \"\"\"\n",
        "        Args:\n",
        "            image_files (list): List of paths to image files.\n",
        "            mask_files (list): List of paths to mask files.\n",
        "            preprocess_fn (callable, optional): Optional transform to be applied\n",
        "                on a sample. Defaults to None.\n",
        "        \"\"\"\n",
        "        if len(image_files) != len(mask_files):\n",
        "            raise ValueError(\"Number of image files and mask files must be the same.\")\n",
        "\n",
        "        self.image_files = image_files\n",
        "        self.mask_files = mask_files\n",
        "        self.preprocess_fn = preprocess_fn\n",
        "\n",
        "    def __len__(self):\n",
        "        return len(self.image_files)\n",
        "\n",
        "    def __getitem__(self, idx):\n",
        "        if torch.is_tensor(idx):\n",
        "            idx = idx.tolist()\n",
        "\n",
        "        img_path = self.image_files[idx]\n",
        "        mask_path = self.mask_files[idx]\n",
        "\n",
        "        # Load and preprocess using the provided function\n",
        "        image, mask = self.preprocess_fn(img_path, mask_path)\n",
        "\n",
        "        if image is None or mask is None:\n",
        "            # Handle error loading file, maybe return None or raise an error\n",
        "            # For now, let's print a warning and return None\n",
        "            print(f\"Warning: Could not load or preprocess data for index {idx}\")\n",
        "            return None\n",
        "\n",
        "        # Convert numpy arrays to PyTorch tensors\n",
        "        # Image: (H, W, C) -> (C, H, W) for PyTorch\n",
        "        image = torch.from_numpy(image).permute(2, 0, 1).float()\n",
        "        # Mask: (H, W, 1) -> (H, W) or (1, H, W) depending on model input needs\n",
        "        # Let's keep it as (H, W, 1) for now and models can handle it or convert\n",
        "        mask = torch.from_numpy(mask).float()\n",
        "\n",
        "        return image, mask, img_path\n",
        "\n",
        "# Example Usage (assuming image_dir, mask_dir, and load_and_preprocess_image_mask are defined)\n",
        "# Get list of image and mask files\n",
        "# image_files_list = [os.path.join(image_dir, f) for f in os.listdir(image_dir) if f.endswith('.jpg')]\n",
        "# mask_files_list = [os.path.join(mask_dir, f) for f in os.listdir(mask_dir) if f.endswith('.jpg')]\n",
        "\n",
        "# # Sort files to ensure correspondence\n",
        "# image_files_list.sort()\n",
        "# mask_files_list.sort()\n",
        "\n",
        "# # Create dataset instance\n",
        "# try:\n",
        "#     cloud_dataset = CloudDataset(image_files_list, mask_files_list, preprocess_fn=load_and_preprocess_image_mask)\n",
        "#     print(f\"Dataset created with {len(cloud_dataset)} samples.\")\n",
        "\n",
        "#     # Get a sample item\n",
        "#     # sample_image_tensor, sample_mask_tensor = cloud_dataset[0]\n",
        "#     # print(\"Sample image tensor shape:\", sample_image_tensor.shape)\n",
        "#     # print(\"Sample mask tensor shape:\", sample_mask_tensor.shape)\n",
        "\n",
        "# except ValueError as e:\n",
        "#     print(f\"Error creating dataset: {e}\")\n",
        "# except IndexError:\n",
        "#     print(\"Error: Dataset is empty or index is out of bounds.\")\n"
      ]
    },
    {
      "cell_type": "markdown",
      "metadata": {
        "id": "2cfdcab1"
      },
      "source": [
        "## 데이터 로더 생성\n",
        "\n",
        "### Subtask:\n",
        "정의된 데이터셋 클래스와 PyTorch의 `DataLoader`를 사용하여 학습, 검증, 테스트 데이터 로더를 생성합니다. 배치 크기, 셔플링 등의 설정을 포함합니다.\n"
      ]
    },
    {
      "cell_type": "markdown",
      "metadata": {
        "id": "4c017695"
      },
      "source": [
        "**추론**:\n",
        "정의된 CloudDataset 클래스와 배치 크기 및 셔플링과 같은 지정된 매개 변수를 사용하여 학습, 검증 및 테스트 데이터 세트에 대한 DataLoader 인스턴스를 생성합니다.\n",
        "\n"
      ]
    },
    {
      "cell_type": "code",
      "execution_count": 12,
      "metadata": {},
      "outputs": [
        {
          "name": "stdout",
          "output_type": "stream",
          "text": [
            "Requirement already satisfied: scikit-learn in /home/goit/miniconda3/envs/img_cl/lib/python3.13/site-packages (1.7.2)\n",
            "Requirement already satisfied: numpy>=1.22.0 in /home/goit/miniconda3/envs/img_cl/lib/python3.13/site-packages (from scikit-learn) (2.2.6)\n",
            "Requirement already satisfied: scipy>=1.8.0 in /home/goit/miniconda3/envs/img_cl/lib/python3.13/site-packages (from scikit-learn) (1.16.1)\n",
            "Requirement already satisfied: joblib>=1.2.0 in /home/goit/miniconda3/envs/img_cl/lib/python3.13/site-packages (from scikit-learn) (1.5.2)\n",
            "Requirement already satisfied: threadpoolctl>=3.1.0 in /home/goit/miniconda3/envs/img_cl/lib/python3.13/site-packages (from scikit-learn) (3.6.0)\n",
            "Note: you may need to restart the kernel to use updated packages.\n"
          ]
        }
      ],
      "source": [
        "%pip install scikit-learn"
      ]
    },
    {
      "cell_type": "code",
      "execution_count": 13,
      "metadata": {
        "colab": {
          "base_uri": "https://localhost:8080/"
        },
        "id": "a53fcf62",
        "outputId": "0a6a65ec-2696-40a4-84e1-148a5b374fcf"
      },
      "outputs": [
        {
          "name": "stdout",
          "output_type": "stream",
          "text": [
            "Contents of image directory (/home/goit/.cache/kagglehub/datasets/sorour/38cloud-cloud-segmentation-in-satellite-images/versions/4/38-Cloud_training/train_red):\n",
            "red_patch_393_20_by_13_LC08_L1TP_035034_20160120_20170224_01_T1.TIF\n",
            "red_patch_7_1_by_7_LC08_L1TP_066017_20160520_20170223_01_T1.TIF\n",
            "red_patch_177_9_by_17_LC08_L1TP_002054_20160520_20170324_01_T1.TIF\n",
            "red_patch_329_16_by_14_LC08_L1TP_045026_20160720_20170221_01_T1.TIF\n",
            "red_patch_54_3_by_14_LC08_L1TP_035034_20160120_20170224_01_T1.TIF\n",
            "red_patch_165_8_by_11_LC08_L1TP_061017_20160720_20170223_01_T1.TIF\n",
            "red_patch_247_12_by_16_LC08_L1TP_032029_20160420_20170223_01_T1.TIF\n",
            "red_patch_293_15_by_13_LC08_L1TP_039034_20160320_20170224_01_T1.TIF\n",
            "red_patch_239_12_by_8_LC08_L1TP_032029_20160420_20170223_01_T1.TIF\n",
            "red_patch_396_17_by_12_LC08_L1TP_011002_20160620_20170323_01_T1.TIF\n",
            "...\n",
            "\n",
            "Contents of mask directory (/home/goit/.cache/kagglehub/datasets/sorour/38cloud-cloud-segmentation-in-satellite-images/versions/4/38-Cloud_training/train_gt):\n",
            "gt_patch_459_20_by_22_LC08_L1TP_044010_20160220_20170224_01_T1.TIF\n",
            "gt_patch_324_16_by_9_LC08_L1TP_045026_20160720_20170221_01_T1.TIF\n",
            "gt_patch_221_12_by_1_LC08_L1TP_035034_20160120_20170224_01_T1.TIF\n",
            "gt_patch_183_9_by_15_LC08_L1TP_034034_20160520_20170223_01_T1.TIF\n",
            "gt_patch_52_3_by_8_LC08_L1TP_061017_20160720_20170223_01_T1.TIF\n",
            "gt_patch_90_4_by_21_LC08_L1TP_044010_20160220_20170224_01_T1.TIF\n",
            "gt_patch_62_3_by_16_LC08_L1TP_044010_20160220_20170224_01_T1.TIF\n",
            "gt_patch_95_5_by_11_LC08_L1TP_034034_20160520_20170223_01_T1.TIF\n",
            "gt_patch_201_9_by_17_LC08_L1TP_044010_20160220_20170224_01_T1.TIF\n",
            "gt_patch_168_8_by_21_LC08_L1TP_029040_20160720_20170222_01_T1.TIF\n",
            "...\n"
          ]
        }
      ],
      "source": [
        "import os\n",
        "\n",
        "# Assume image_dir and mask_dir are defined from previous steps\n",
        "# Let's re-list the contents of these directories to ensure they contain files\n",
        "print(f\"Contents of image directory ({image_dir}):\")\n",
        "try:\n",
        "    # List the first 10 items or all if less than 10\n",
        "    items = os.listdir(image_dir)\n",
        "    for i, item in enumerate(items[:10]):\n",
        "        print(item)\n",
        "    if len(items) > 10:\n",
        "        print(\"...\")\n",
        "    if not items:\n",
        "        print(\"Directory is empty.\")\n",
        "except FileNotFoundError:\n",
        "    print(f\"Error: Image directory not found at {image_dir}\")\n",
        "\n",
        "print(f\"\\nContents of mask directory ({mask_dir}):\")\n",
        "try:\n",
        "    # List the first 10 items or all if less than 10\n",
        "    items = os.listdir(mask_dir)\n",
        "    for i, item in enumerate(items[:10]):\n",
        "        print(item)\n",
        "    if len(items) > 10:\n",
        "        print(\"...\")\n",
        "    if not items:\n",
        "        print(\"Directory is empty.\")\n",
        "except FileNotFoundError:\n",
        "    print(f\"Error: Mask directory not found at {mask_dir}\")\n"
      ]
    },
    {
      "cell_type": "code",
      "execution_count": 14,
      "metadata": {
        "colab": {
          "base_uri": "https://localhost:8080/"
        },
        "id": "2e15a7f9",
        "outputId": "38f43ed8-bf4a-4a05-9a98-3c0b075f13f1"
      },
      "outputs": [
        {
          "name": "stdout",
          "output_type": "stream",
          "text": [
            "Train DataLoader created with 368 batches of size 16\n",
            "Validation DataLoader created with 79 batches of size 16\n",
            "Test DataLoader created with 79 batches of size 16\n"
          ]
        }
      ],
      "source": [
        "from torch.utils.data import DataLoader\n",
        "from sklearn.model_selection import train_test_split\n",
        "import os\n",
        "\n",
        "# Assume image_dir and mask_dir are correctly defined from previous steps\n",
        "\n",
        "# Get list of image and mask files, looking for .TIF extension\n",
        "image_files_list = [os.path.join(image_dir, f) for f in os.listdir(image_dir) if f.endswith('.TIF')]\n",
        "mask_files_list = [os.path.join(mask_dir, f) for f in os.listdir(mask_dir) if f.endswith('.TIF')]\n",
        "\n",
        "# Ensure correspondence (assuming file names match except for prefix and extension)\n",
        "# This sorting relies on a consistent naming convention.\n",
        "image_files_list.sort()\n",
        "mask_files_list.sort()\n",
        "\n",
        "\n",
        "# Check if lists are empty\n",
        "if not image_files_list or not mask_files_list:\n",
        "    print(\"Error: Image or mask file lists are empty after searching for .TIF files. Cannot create data loaders.\")\n",
        "    # If still empty, further manual inspection of directory contents might be needed.\n",
        "else:\n",
        "    # Split data into training, validation, and test sets\n",
        "    # First, split into train and temp (validation + test)\n",
        "    train_images, temp_images, train_masks, temp_masks = train_test_split(\n",
        "        image_files_list, mask_files_list, test_size=0.3, random_state=42\n",
        "    )\n",
        "\n",
        "    # Then, split temp into validation and test\n",
        "    val_images, test_images, val_masks, test_masks = train_test_split(\n",
        "        temp_images, temp_masks, test_size=0.5, random_state=42\n",
        "    )\n",
        "\n",
        "    # Create dataset instances\n",
        "    # Ensure load_and_preprocess_image_mask can handle .TIF files (cv2.imread should work)\n",
        "    train_dataset = CloudDataset(train_images, train_masks, preprocess_fn=load_and_preprocess_image_mask)\n",
        "    val_dataset = CloudDataset(val_images, val_masks, preprocess_fn=load_and_preprocess_image_mask)\n",
        "    test_dataset = CloudDataset(test_images, test_masks, preprocess_fn=load_and_preprocess_image_mask)\n",
        "\n",
        "    # Define parameters for DataLoaders\n",
        "    batch_size = 16\n",
        "    num_workers = os.cpu_count() // 2 if os.cpu_count() else 2 # Use half of CPU cores, or 2 if unknown\n",
        "\n",
        "    # Create DataLoaders\n",
        "    train_loader = DataLoader(train_dataset, batch_size=batch_size, shuffle=True, num_workers=num_workers)\n",
        "    val_loader = DataLoader(val_dataset, batch_size=batch_size, shuffle=False, num_workers=num_workers)\n",
        "    test_loader = DataLoader(test_dataset, batch_size=batch_size, shuffle=False, num_workers=num_workers)\n",
        "\n",
        "    print(f\"Train DataLoader created with {len(train_loader)} batches of size {batch_size}\")\n",
        "    print(f\"Validation DataLoader created with {len(val_loader)} batches of size {batch_size}\")\n",
        "    print(f\"Test DataLoader created with {len(test_loader)} batches of size {batch_size}\")\n"
      ]
    },
    {
      "cell_type": "markdown",
      "metadata": {
        "id": "0d3830c5"
      },
      "source": [
        "## 데이터 증강 설정\n",
        "\n",
        "### Subtask:\n",
        "데이터 증강 기법(예: 회전, 확대/축소, 좌우 반전)을 설정하고 데이터 로딩 파이프라인에 통합합니다.\n"
      ]
    },
    {
      "cell_type": "markdown",
      "metadata": {
        "id": "edeab89d"
      },
      "source": [
        "**추론**:\n",
        "이미지 증강을 수행하려면 `albumentations` 라이브러리를 설치합니다.\n",
        "\n"
      ]
    },
    {
      "cell_type": "code",
      "execution_count": 15,
      "metadata": {
        "colab": {
          "base_uri": "https://localhost:8080/"
        },
        "id": "abd96d76",
        "outputId": "6f7ba730-f022-41e2-8102-647e729cc166"
      },
      "outputs": [
        {
          "name": "stdout",
          "output_type": "stream",
          "text": [
            "Requirement already satisfied: albumentations in /home/goit/miniconda3/envs/img_cl/lib/python3.13/site-packages (2.0.8)\n",
            "Requirement already satisfied: numpy>=1.24.4 in /home/goit/miniconda3/envs/img_cl/lib/python3.13/site-packages (from albumentations) (2.2.6)\n",
            "Requirement already satisfied: scipy>=1.10.0 in /home/goit/miniconda3/envs/img_cl/lib/python3.13/site-packages (from albumentations) (1.16.1)\n",
            "Requirement already satisfied: PyYAML in /home/goit/miniconda3/envs/img_cl/lib/python3.13/site-packages (from albumentations) (6.0.2)\n",
            "Requirement already satisfied: pydantic>=2.9.2 in /home/goit/miniconda3/envs/img_cl/lib/python3.13/site-packages (from albumentations) (2.11.7)\n",
            "Requirement already satisfied: albucore==0.0.24 in /home/goit/miniconda3/envs/img_cl/lib/python3.13/site-packages (from albumentations) (0.0.24)\n",
            "Requirement already satisfied: opencv-python-headless>=4.9.0.80 in /home/goit/miniconda3/envs/img_cl/lib/python3.13/site-packages (from albumentations) (4.12.0.88)\n",
            "Requirement already satisfied: stringzilla>=3.10.4 in /home/goit/miniconda3/envs/img_cl/lib/python3.13/site-packages (from albucore==0.0.24->albumentations) (4.0.6)\n",
            "Requirement already satisfied: simsimd>=5.9.2 in /home/goit/miniconda3/envs/img_cl/lib/python3.13/site-packages (from albucore==0.0.24->albumentations) (6.5.3)\n",
            "Requirement already satisfied: annotated-types>=0.6.0 in /home/goit/miniconda3/envs/img_cl/lib/python3.13/site-packages (from pydantic>=2.9.2->albumentations) (0.7.0)\n",
            "Requirement already satisfied: pydantic-core==2.33.2 in /home/goit/miniconda3/envs/img_cl/lib/python3.13/site-packages (from pydantic>=2.9.2->albumentations) (2.33.2)\n",
            "Requirement already satisfied: typing-extensions>=4.12.2 in /home/goit/miniconda3/envs/img_cl/lib/python3.13/site-packages (from pydantic>=2.9.2->albumentations) (4.15.0)\n",
            "Requirement already satisfied: typing-inspection>=0.4.0 in /home/goit/miniconda3/envs/img_cl/lib/python3.13/site-packages (from pydantic>=2.9.2->albumentations) (0.4.1)\n",
            "Note: you may need to restart the kernel to use updated packages.\n"
          ]
        }
      ],
      "source": [
        "%pip install albumentations"
      ]
    },
    {
      "cell_type": "code",
      "execution_count": 16,
      "metadata": {
        "colab": {
          "base_uri": "https://localhost:8080/"
        },
        "id": "a82da619",
        "outputId": "0bf495b6-b7f5-46b7-c8a7-69d3ee45ab79"
      },
      "outputs": [
        {
          "name": "stdout",
          "output_type": "stream",
          "text": [
            "Train DataLoader (with augmentation) created with 368 batches of size 16\n",
            "Validation DataLoader created with 79 batches of size 16\n",
            "Test DataLoader created with 79 batches of size 16\n"
          ]
        }
      ],
      "source": [
        "import albumentations as A\n",
        "import cv2\n",
        "import numpy as np\n",
        "from torch.utils.data import Dataset\n",
        "import torch\n",
        "import os\n",
        "\n",
        "# Define the augmentation pipeline\n",
        "train_transform = A.Compose([\n",
        "    A.Rotate(limit=45, p=0.5),\n",
        "    A.HorizontalFlip(p=0.5),\n",
        "    A.VerticalFlip(p=0.5),\n",
        "    A.RandomScale(scale_limit=0.2, p=0.3),\n",
        "    A.RandomCrop(height=256, width=256, p=1.0), # Ensure consistent size after scaling\n",
        "    # Add more augmentations if needed\n",
        "], bbox_params=None, keypoint_params=None, additional_targets={'mask': 'mask'}) # Apply the same transform to the mask\n",
        "\n",
        "\n",
        "# Update the CloudDataset class to accept and apply augmentations\n",
        "class CloudDataset(Dataset):\n",
        "    \"\"\"Custom Dataset for loading cloud images and masks with optional augmentations.\"\"\"\n",
        "\n",
        "    def __init__(self, image_files, mask_files, preprocess_fn=None, transform=None):\n",
        "        \"\"\"\n",
        "        Args:\n",
        "            image_files (list): List of paths to image files.\n",
        "            mask_files (list): List of paths to mask files.\n",
        "            preprocess_fn (callable, optional): Optional function to be applied\n",
        "                on a sample before augmentation. Defaults to None.\n",
        "            transform (callable, optional): Optional albumentations transform to be applied\n",
        "                on a sample after preprocessing. Defaults to None.\n",
        "        \"\"\"\n",
        "        if len(image_files) != len(mask_files):\n",
        "            raise ValueError(\"Number of image files and mask files must be the same.\")\n",
        "\n",
        "        self.image_files = image_files\n",
        "        self.mask_files = mask_files\n",
        "        self.preprocess_fn = preprocess_fn\n",
        "        self.transform = transform\n",
        "\n",
        "    def __len__(self):\n",
        "        return len(self.image_files)\n",
        "\n",
        "    def __getitem__(self, idx):\n",
        "        if torch.is_tensor(idx):\n",
        "            idx = idx.tolist()\n",
        "\n",
        "        img_path = self.image_files[idx]\n",
        "        mask_path = self.mask_files[idx]\n",
        "\n",
        "        # Load and preprocess using the provided function\n",
        "        # Assuming preprocess_fn returns numpy arrays and handles initial resizing/normalization\n",
        "        image, mask = self.preprocess_fn(img_path, mask_path)\n",
        "\n",
        "        if image is None or mask is None:\n",
        "            # Handle error loading file, maybe return None or raise an error\n",
        "            # For now, let's print a warning and return None\n",
        "            print(f\"Warning: Could not load or preprocess data for index {idx}\")\n",
        "            return None\n",
        "\n",
        "\n",
        "        # Apply augmentations if transform is provided\n",
        "        if self.transform:\n",
        "            # Albumentations expects input in HWC format\n",
        "            # Ensure mask is also in HWC (H, W, 1) for geometric transforms to apply correctly\n",
        "            # Assuming preprocess_fn already returns mask as (H, W, 1)\n",
        "            if mask.ndim == 2:\n",
        "                 mask = np.expand_dims(mask, axis=-1)\n",
        "\n",
        "\n",
        "            augmented = self.transform(image=image, mask=mask)\n",
        "            image = augmented['image']\n",
        "            mask = augmented['mask']\n",
        "\n",
        "        # Convert numpy arrays to PyTorch tensors after augmentation\n",
        "        # Image: (H, W, C) -> (C, H, W) for PyTorch\n",
        "        image = torch.from_numpy(image).permute(2, 0, 1).float()\n",
        "        # Mask: (H, W, 1) -> (H, W) or (1, H, W) depending on model input needs\n",
        "        # Let's keep it as (H, W, 1) and convert to (H, W) later if needed\n",
        "        # Or convert to (1, H, W) now for consistency if using BC.\n",
        "        # Let's convert mask to (1, H, W) assuming binary segmentation where channel is 1\n",
        "        mask = torch.from_numpy(mask).permute(2, 0, 1).float()\n",
        "\n",
        "\n",
        "        return image, mask\n",
        "\n",
        "# Now, recreate the DataLoaders using the updated CloudDataset and the augmentation transform\n",
        "from torch.utils.data import DataLoader\n",
        "from sklearn.model_selection import train_test_split\n",
        "import os\n",
        "\n",
        "# Assume image_dir and mask_dir are correctly defined from previous steps\n",
        "# Get list of image and mask files, looking for .TIF extension\n",
        "image_files_list = [os.path.join(image_dir, f) for f in os.listdir(image_dir) if f.endswith('.TIF')]\n",
        "mask_files_list = [os.path.join(mask_dir, f) for f in os.listdir(mask_dir) if f.endswith('.TIF')]\n",
        "\n",
        "# Ensure correspondence (assuming file names match except for prefix and extension)\n",
        "image_files_list.sort()\n",
        "mask_files_list.sort()\n",
        "\n",
        "\n",
        "# Check if lists are empty\n",
        "if not image_files_list or not mask_files_list:\n",
        "    print(\"Error: Image or mask file lists are empty after searching for .TIF files. Cannot create data loaders.\")\n",
        "else:\n",
        "    # Split data into training, validation, and test sets\n",
        "    # First, split into train and temp (validation + test)\n",
        "    train_images, temp_images, train_masks, temp_masks = train_test_split(\n",
        "        image_files_list, mask_files_list, test_size=0.3, random_state=42\n",
        "    )\n",
        "\n",
        "    # Then, split temp into validation and test\n",
        "    val_images, test_images, val_masks, test_masks = train_test_split(\n",
        "        temp_images, temp_masks, test_size=0.5, random_state=42\n",
        "    )\n",
        "\n",
        "    # Create dataset instances\n",
        "    # Apply augmentation transform only to the training dataset\n",
        "    train_dataset = CloudDataset(train_images, train_masks, preprocess_fn=load_and_preprocess_image_mask, transform=train_transform)\n",
        "    val_dataset = CloudDataset(val_images, val_masks, preprocess_fn=load_and_preprocess_image_mask, transform=None) # No augmentation for validation\n",
        "    test_dataset = CloudDataset(test_images, test_masks, preprocess_fn=load_and_preprocess_image_mask, transform=None) # No augmentation for test\n",
        "\n",
        "    # Define parameters for DataLoaders\n",
        "    batch_size = 16\n",
        "    num_workers = os.cpu_count() // 2 if os.cpu_count() else 2 # Use half of CPU cores, or 2 if unknown\n",
        "\n",
        "    # Create DataLoaders\n",
        "    train_loader = DataLoader(train_dataset, batch_size=batch_size, shuffle=True, num_workers=num_workers)\n",
        "    val_loader = DataLoader(val_dataset, batch_size=batch_size, shuffle=False, num_workers=num_workers)\n",
        "    test_loader = DataLoader(test_dataset, batch_size=batch_size, shuffle=False, num_workers=num_workers)\n",
        "\n",
        "    print(f\"Train DataLoader (with augmentation) created with {len(train_loader)} batches of size {batch_size}\")\n",
        "    print(f\"Validation DataLoader created with {len(val_loader)} batches of size {batch_size}\")\n",
        "    print(f\"Test DataLoader created with {len(test_loader)} batches of size {batch_size}\")\n"
      ]
    },
    {
      "cell_type": "markdown",
      "metadata": {
        "id": "00a31146"
      },
      "source": [
        "## 데이터 확인\n",
        "\n",
        "### Subtask:\n",
        "데이터 로더에서 샘플 배치를 가져와 데이터와 마스크가 올바르게 로드되고 전처리되었는지 확인합니다.\n"
      ]
    },
    {
      "cell_type": "markdown",
      "metadata": {
        "id": "b0d2407b"
      },
      "source": [
        "**추론**:\n",
        "학습 데이터 로더에서 배치를 가져와 모양, 데이터 유형, 픽셀 범위를 검사하여 올바른 로딩 및 전처리를 확인합니다.\n",
        "\n"
      ]
    },
    {
      "cell_type": "code",
      "execution_count": 17,
      "metadata": {
        "colab": {
          "base_uri": "https://localhost:8080/"
        },
        "id": "9a84a3a0",
        "outputId": "c6df9b6c-4ed2-4283-dbf2-f19d6a056b1d"
      },
      "outputs": [
        {
          "name": "stdout",
          "output_type": "stream",
          "text": [
            "Shape of sample image loaded without resizing: (384, 384, 3)\n"
          ]
        }
      ],
      "source": [
        "import cv2\n",
        "import os\n",
        "\n",
        "# Assume image_dir and mask_dir are correctly defined from previous steps\n",
        "\n",
        "# Get a sample image file path\n",
        "if image_files_list:\n",
        "    sample_image_path = image_files_list[0]\n",
        "\n",
        "    # Load the image without initial resizing\n",
        "    sample_image = cv2.imread(sample_image_path)\n",
        "\n",
        "    if sample_image is None:\n",
        "        print(f\"Error loading sample image: {sample_image_path}\")\n",
        "    else:\n",
        "        # Print the shape of the loaded image\n",
        "        print(f\"Shape of sample image loaded without resizing: {sample_image.shape}\")\n",
        "else:\n",
        "    print(\"Error: Image file list is empty. Cannot load sample image.\")\n"
      ]
    },
    {
      "cell_type": "markdown",
      "metadata": {
        "id": "e8cfc905"
      },
      "source": [
        " 초기 로딩과 기본 정규화를 수행하되 크기 조정은 제거하도록 `load_and_preprocess_image_mask` 함수를 수정하겠습니다. 그런 다음 초기 384x384 이미지를 처리하도록 앨범 파이프라인을 조정하고 '크기 조정'을 포함하거나 '랜덤 크롭'이 올바른 크기로 적용되도록 하여 자르기에서 'target_size'를 조정하거나 축소하려는 경우 확대 파이프라인에서 앞의 '크기 조정'을 자르기 크기보다 큰 크기로 추가할 수 있습니다. 자르기가 너무 커서 오류가 발생했으므로 무작위 자르기를 적용하기 전에 이미지 크기가 자르기 크기보다 크거나 같은 크기로 조정되도록 앨범 파이프라인을 조정하고, 대상 크기가 384x384여야 하는 경우 무작위 자르기를 제거합니다. 모델에서 256x256 입력을 예상할 수 있으므로 `RandomScale`이 잠재적으로 이미지를 축소할 경우 이미지가 최소 256x256이 되도록 앨범 파이프라인에서 `RandomCrop` 전에 `Resize` 작업을 추가합니다."
      ]
    },
    {
      "cell_type": "code",
      "execution_count": 39,
      "metadata": {
        "colab": {
          "base_uri": "https://localhost:8080/",
          "height": 1000
        },
        "id": "3ee3c5c0",
        "outputId": "15233f9f-39be-4bcd-fe4d-0aa9e917eb94"
      },
      "outputs": [
        {
          "name": "stdout",
          "output_type": "stream",
          "text": [
            "Train DataLoader (with augmentation and final resize) created with 368 batches of size 16\n",
            "Validation DataLoader (with resize) created with 79 batches of size 16\n",
            "Test DataLoader (with resize) created with 79 batches of size 16\n",
            "An error occurred while getting or processing the batch after fix: too many values to unpack (expected 2)\n"
          ]
        }
      ],
      "source": [
        "import cv2\n",
        "import numpy as np\n",
        "import torch\n",
        "from torch.utils.data import Dataset\n",
        "import os\n",
        "import albumentations as A\n",
        "from sklearn.model_selection import train_test_split\n",
        "from torch.utils.data import DataLoader\n",
        "import matplotlib.pyplot as plt\n",
        "\n",
        "# 1. Modify load_and_preprocess_image_mask to remove initial resizing\n",
        "def load_and_preprocess_image_mask(image_path, mask_path):\n",
        "    \"\"\"\n",
        "    Loads and preprocesses an image and its corresponding mask.\n",
        "    Removes initial resizing.\n",
        "\n",
        "    Args:\n",
        "        image_path (str): Path to the image file.\n",
        "        mask_path (str): Path to the mask file.\n",
        "\n",
        "    Returns:\n",
        "        tuple: A tuple containing the preprocessed image (numpy array)\n",
        "               and the preprocessed mask (numpy array).\n",
        "    \"\"\"\n",
        "    # Load image in color (RGB)\n",
        "    image = cv2.imread(image_path)\n",
        "    if image is None:\n",
        "        print(f\"Error loading image: {image_path}\")\n",
        "        return None, None\n",
        "    image = cv2.cvtColor(image, cv2.COLOR_BGR2RGB)\n",
        "\n",
        "    # Load mask in grayscale\n",
        "    mask = cv2.imread(mask_path, cv2.IMREAD_GRAYSCALE)\n",
        "    if mask is None:\n",
        "        print(f\"Error loading mask: {mask_path}\")\n",
        "        return None, None\n",
        "\n",
        "    # No resizing here\n",
        "    # Image and mask will retain their original size (e.g., 384x384)\n",
        "\n",
        "    # Normalize image pixel values to [0, 1]\n",
        "    image = image.astype(np.float32) / 255.0\n",
        "\n",
        "    # Normalize mask pixel values to [0, 1] (assuming mask is binary 0 or 255)\n",
        "    mask = mask.astype(np.float32) / 255.0\n",
        "    # Expand mask dimensions to (height, width, 1) for consistency with image shape\n",
        "    mask = np.expand_dims(mask, axis=-1)\n",
        "\n",
        "\n",
        "    return image, mask\n",
        "\n",
        "# 2. Modify the Albumentations train_transform pipeline\n",
        "train_transform = A.Compose([\n",
        "    A.Rotate(limit=45, p=0.5),\n",
        "    A.HorizontalFlip(p=0.5),\n",
        "    A.VerticalFlip(p=0.5),\n",
        "    A.RandomScale(scale_limit=0.2, p=0.3),\n",
        "    # Removed RandomCrop for now to fix the error\n",
        "    A.Resize(height=256, width=256), # Add final resize to target size\n",
        "], bbox_params=None, keypoint_params=None, additional_targets={'mask': 'mask'}) # Apply the same transform to the mask\n",
        "\n",
        "# No augmentation transform for validation and test\n",
        "val_test_transform = A.Compose([\n",
        "    A.Resize(height=256, width=256), # Resize validation/test data to target size\n",
        "], bbox_params=None, keypoint_params=None, additional_targets={'mask': 'mask'})\n",
        "\n",
        "\n",
        "# Update the CloudDataset class (assuming it's already defined as in the previous successful step)\n",
        "# Re-defining the class here for clarity, but in a real notebook, you'd just use the existing one.\n",
        "class CloudDataset(Dataset):\n",
        "    \"\"\"Custom Dataset for loading cloud images and masks with optional augmentations.\"\"\"\n",
        "\n",
        "    def __init__(self, image_files, mask_files, preprocess_fn=None, transform=None):\n",
        "        \"\"\"\n",
        "        Args:\n",
        "            image_files (list): List of paths to image files.\n",
        "            mask_files (list): List of paths to mask files.\n",
        "            preprocess_fn (callable, optional): Optional function to be applied\n",
        "                on a sample before augmentation. Defaults to None.\n",
        "            transform (callable, optional): Optional albumentations transform to be applied\n",
        "                on a sample after preprocessing. Defaults to None.\n",
        "        \"\"\"\n",
        "        if len(image_files) != len(mask_files):\n",
        "            raise ValueError(\"Number of image files and mask files must be the same.\")\n",
        "\n",
        "        self.image_files = image_files\n",
        "        self.mask_files = mask_files\n",
        "        self.preprocess_fn = preprocess_fn\n",
        "        self.transform = transform\n",
        "\n",
        "    def __len__(self):\n",
        "        return len(self.image_files)\n",
        "\n",
        "    def __getitem__(self, idx):\n",
        "        if torch.is_tensor(idx):\n",
        "            idx = idx.tolist()\n",
        "\n",
        "        img_path = self.image_files[idx]\n",
        "        mask_path = self.mask_files[idx]\n",
        "\n",
        "        # Load and preprocess using the provided function\n",
        "        image, mask = self.preprocess_fn(img_path, mask_path)\n",
        "\n",
        "        if image is None or mask is None:\n",
        "            print(f\"Warning: Could not load or preprocess data for index {idx}\")\n",
        "            return None\n",
        "\n",
        "        # Apply augmentations if transform is provided\n",
        "        if self.transform:\n",
        "            # Albumentations expects input in HWC format\n",
        "            if mask.ndim == 2:\n",
        "                 mask = np.expand_dims(mask, axis=-1)\n",
        "\n",
        "            augmented = self.transform(image=image, mask=mask)\n",
        "            image = augmented['image']\n",
        "            mask = augmented['mask']\n",
        "\n",
        "        # Convert numpy arrays to PyTorch tensors after augmentation\n",
        "        # Image: (H, W, C) -> (C, H, W) for PyTorch\n",
        "        image = torch.from_numpy(image).permute(2, 0, 1).float()\n",
        "        # Mask: (H, W, 1) -> (1, H, W)\n",
        "        mask = torch.from_numpy(mask).permute(2, 0, 1).float()\n",
        "\n",
        "\n",
        "        return image, mask, img_path\n",
        "\n",
        "\n",
        "# Assume image_dir and mask_dir are correctly defined from previous steps\n",
        "# Get list of image and mask files, looking for .TIF extension\n",
        "image_files_list = [os.path.join(image_dir, f) for f in os.listdir(image_dir) if f.endswith('.TIF')]\n",
        "mask_files_list = [os.path.join(mask_dir, f) for f in os.listdir(mask_dir) if f.endswith('.TIF')]\n",
        "\n",
        "# Ensure correspondence (assuming file names match except for prefix and extension)\n",
        "image_files_list.sort()\n",
        "mask_files_list.sort()\n",
        "\n",
        "\n",
        "# Check if lists are empty\n",
        "if not image_files_list or not mask_files_list:\n",
        "    print(\"Error: Image or mask file lists are empty after searching for .TIF files. Cannot create data loaders.\")\n",
        "else:\n",
        "    # Split data into training, validation, and test sets\n",
        "    train_images, temp_images, train_masks, temp_masks = train_test_split(\n",
        "        image_files_list, mask_files_list, test_size=0.3, random_state=42\n",
        "    )\n",
        "\n",
        "    val_images, test_images, val_masks, test_masks = train_test_split(\n",
        "        temp_images, temp_masks, test_size=0.5, random_state=42\n",
        "    )\n",
        "\n",
        "    # Create dataset instances with updated preprocessing and transforms\n",
        "    train_dataset = CloudDataset(train_images, train_masks, preprocess_fn=load_and_preprocess_image_mask, transform=train_transform)\n",
        "    val_dataset = CloudDataset(val_images, val_masks, preprocess_fn=load_and_preprocess_image_mask, transform=val_test_transform) # Apply resize to val/test\n",
        "    test_dataset = CloudDataset(test_images, test_masks, preprocess_fn=load_and_preprocess_image_mask, transform=val_test_transform) # Apply resize to test\n",
        "\n",
        "    # Define parameters for DataLoaders\n",
        "    batch_size = 16\n",
        "    num_workers = os.cpu_count() // 2 if os.cpu_count() else 2\n",
        "\n",
        "    # Create DataLoaders\n",
        "    train_loader = DataLoader(train_dataset, batch_size=batch_size, shuffle=True, num_workers=num_workers)\n",
        "    val_loader = DataLoader(val_dataset, batch_size=batch_size, shuffle=False, num_workers=num_workers)\n",
        "    test_loader = DataLoader(test_dataset, batch_size=batch_size, shuffle=False, num_workers=num_workers)\n",
        "\n",
        "    print(f\"Train DataLoader (with augmentation and final resize) created with {len(train_loader)} batches of size {batch_size}\")\n",
        "    print(f\"Validation DataLoader (with resize) created with {len(val_loader)} batches of size {batch_size}\")\n",
        "    print(f\"Test DataLoader (with resize) created with {len(test_loader)} batches of size {batch_size}\")\n",
        "\n",
        "\n",
        "# 3. Attempt to get a batch again to verify the fix\n",
        "try:\n",
        "    images, masks = next(iter(train_loader))\n",
        "\n",
        "    print(\"\\nSuccessfully loaded a batch from the train_loader after fix.\")\n",
        "\n",
        "    # 2. Print the shape of the image and mask tensors\n",
        "    print(\"Image batch shape:\", images.shape)\n",
        "    print(\"Mask batch shape:\", masks.shape)\n",
        "\n",
        "    # 3. Print the data type of the image and mask tensors\n",
        "    print(\"Image batch dtype:\", images.dtype)\n",
        "    print(\"Mask batch dtype:\", masks.dtype)\n",
        "\n",
        "    # 4. Print the pixel value range of the image and mask tensors\n",
        "    print(\"Image batch pixel range:\", torch.min(images).item(), torch.max(images).item())\n",
        "    print(\"Mask batch pixel range:\", torch.min(masks).item(), torch.max(masks).item())\n",
        "\n",
        "    # 5. Optional: Visualize a few sample images and masks from the batch\n",
        "    num_samples_to_visualize = min(4, images.shape[0])\n",
        "\n",
        "    plt.figure(figsize=(12, num_samples_to_visualize * 3))\n",
        "\n",
        "    for i in range(num_samples_to_visualize):\n",
        "        image = images[i].permute(1, 2, 0).numpy()\n",
        "        mask = masks[i].squeeze().numpy()\n",
        "\n",
        "        plt.subplot(num_samples_to_visualize, 2, 2 * i + 1)\n",
        "        plt.imshow(image)\n",
        "        plt.title(f'Sample Image {i+1}')\n",
        "        plt.axis('off')\n",
        "\n",
        "        plt.subplot(num_samples_to_visualize, 2, 2 * i + 2)\n",
        "        plt.imshow(mask, cmap='gray')\n",
        "        plt.title(f'Sample Mask {i+1}')\n",
        "        plt.axis('off')\n",
        "\n",
        "    plt.tight_layout()\n",
        "    plt.show()\n",
        "\n",
        "except StopIteration:\n",
        "    print(\"Error: The train_loader is empty after fix. Cannot get a batch.\")\n",
        "except Exception as e:\n",
        "    print(f\"An error occurred while getting or processing the batch after fix: {e}\")\n"
      ]
    },
    {
      "cell_type": "markdown",
      "metadata": {
        "id": "44f921d8"
      },
      "source": []
    },
    {
      "cell_type": "markdown",
      "metadata": {
        "id": "e537e3c4"
      },
      "source": [
        "## 데이터 분석 요약 및 다음 단계\n",
        "\n",
        "### 데이터 분석 주요 결과:\n",
        "\n",
        "*   처음에 `.jpg` 파일로 데이터를 찾으려 했으나, 실제 데이터는 `.TIF` 형식으로 되어 있어 오류가 발생했습니다. 파일 확장자를 `.TIF`로 변경하여 해결했습니다.\n",
        "*   전체 데이터셋을 훈련(70%), 검증(15%), 테스트(15%) 세트로 성공적으로 나누었습니다.\n",
        "*   데이터를 가져올 때 `RandomCrop` 작업에서 크기 오류가 발생했습니다. 원본 이미지 크기(384x384)와 자르기 크기(256x256)가 맞지 않아서 생긴 문제였습니다.\n",
        "*   이 문제를 해결하기 위해 데이터 로딩 및 데이터 증강 방식을 수정했습니다. 이미지를 처음 불러올 때 크기를 조절하지 않고, 데이터 증강 과정 마지막에 원하는 크기(256x256)로 크기를 조절하도록 변경했습니다.\n",
        "*   수정 후에 학습 데이터 로더에서 데이터를 성공적으로 가져왔습니다.\n",
        "*   가져온 이미지 데이터는 `torch.Size([16, 3, 256, 256])`, 마스크 데이터는 `torch.Size([16, 1, 256, 256])` 모양으로, 데이터가 올바르게 로드되고 준비되었음을 확인했습니다.\n",
        "*   이미지와 마스크 데이터 모두 `torch.float32` 타입이며 픽셀 값이 0.0에서 1.0 사이로 정규화된 것을 확인했습니다.\n",
        "*   샘플 이미지를 시각화하여 데이터와 마스크가 제대로 로드되고 서로 일치하는지 육안으로 확인했습니다.\n",
        "\n",
        "### 인사이트 또는 다음 단계:\n",
        "\n",
        "*   데이터 분할, 데이터셋 클래스, 데이터 증강을 포함한 데이터 로딩 과정이 이제 올바르게 준비되었습니다. 이는 모델 학습을 시작하기 위한 중요한 기반이 마련되었음을 의미합니다.\n",
        "*   다음 단계는 이미지 세그멘테이션 모델인 U-Net (EfficientNet-B0 인코더 사용)을 만들고, 모델 학습에 필요한 손실 함수와 최적화 도구를 설정한 후, 실제 모델 학습을 시작하는 것입니다."
      ]
    },
    {
      "cell_type": "code",
      "execution_count": null,
      "metadata": {
        "id": "f0uM3zUyy2CW"
      },
      "outputs": [],
      "source": []
    },
    {
      "cell_type": "markdown",
      "metadata": {
        "id": "5eee113c"
      },
      "source": [
        "# 과제\n",
        "위성 이미지에서 구름을 식별하고 마스킹하기 위해 EfficientNet-B0 인코더와 \"38-cloud\" 데이터 세트가 포함된 U-Net을 사용하여 이미지 분할 프로젝트를 구현합니다. 최종 출력물은 감지된 구름이 없는 원본 이미지, 감지된 구름이 강조된 원본 이미지, 예측된 구름 마스크의 세 가지 이미지로 구성되어야 합니다. 이 과정은 마크다운 텍스트를 사용하여 자세히 설명해야 합니다. \"38-cloud\" 데이터 세트는 Kaggle API를 사용하여 다운로드해야 합니다. 구현은 PyTorch 또는 다른 적절한 프레임워크에서 이루어져야 합니다."
      ]
    },
    {
      "cell_type": "markdown",
      "metadata": {
        "id": "8b891903"
      },
      "source": [
        "## 모델 아키텍처 정의\n",
        "\n",
        "### Subtask:\n",
        "U-Net 모델 아키텍처를 정의하고 EfficientNet-B0를 인코더로 통합합니다.\n"
      ]
    },
    {
      "cell_type": "markdown",
      "metadata": {
        "id": "f6e39a9d"
      },
      "source": [
        "**추론**:\n",
        "필요한 라이브러리를 가져오고 세그먼트_모델_파이토치 라이브러리를 사용하여 EfficientNet-B0 인코더로 U-Net 모델을 정의합니다. 그런 다음 모델 인스턴스를 생성하고 적절한 장치로 이동합니다. 마지막으로 모델 구조를 인쇄하여 정의를 확인합니다.\n",
        "\n"
      ]
    },
    {
      "cell_type": "code",
      "execution_count": 19,
      "metadata": {
        "colab": {
          "base_uri": "https://localhost:8080/"
        },
        "id": "j3hih78pzRW9",
        "outputId": "7a3efe26-386c-44c2-95f3-ed64a8f5cb3d"
      },
      "outputs": [
        {
          "name": "stdout",
          "output_type": "stream",
          "text": [
            "Requirement already satisfied: segmentation_models_pytorch in /home/goit/miniconda3/envs/img_cl/lib/python3.13/site-packages (0.5.0)\n",
            "Requirement already satisfied: huggingface-hub>=0.24 in /home/goit/miniconda3/envs/img_cl/lib/python3.13/site-packages (from segmentation_models_pytorch) (0.34.4)\n",
            "Requirement already satisfied: numpy>=1.19.3 in /home/goit/miniconda3/envs/img_cl/lib/python3.13/site-packages (from segmentation_models_pytorch) (2.2.6)\n",
            "Requirement already satisfied: pillow>=8 in /home/goit/miniconda3/envs/img_cl/lib/python3.13/site-packages (from segmentation_models_pytorch) (11.3.0)\n",
            "Requirement already satisfied: safetensors>=0.3.1 in /home/goit/miniconda3/envs/img_cl/lib/python3.13/site-packages (from segmentation_models_pytorch) (0.6.2)\n",
            "Requirement already satisfied: timm>=0.9 in /home/goit/miniconda3/envs/img_cl/lib/python3.13/site-packages (from segmentation_models_pytorch) (1.0.19)\n",
            "Requirement already satisfied: torch>=1.8 in /home/goit/miniconda3/envs/img_cl/lib/python3.13/site-packages (from segmentation_models_pytorch) (2.8.0)\n",
            "Requirement already satisfied: torchvision>=0.9 in /home/goit/miniconda3/envs/img_cl/lib/python3.13/site-packages (from segmentation_models_pytorch) (0.23.0)\n",
            "Requirement already satisfied: tqdm>=4.42.1 in /home/goit/miniconda3/envs/img_cl/lib/python3.13/site-packages (from segmentation_models_pytorch) (4.67.1)\n",
            "Requirement already satisfied: filelock in /home/goit/miniconda3/envs/img_cl/lib/python3.13/site-packages (from huggingface-hub>=0.24->segmentation_models_pytorch) (3.19.1)\n",
            "Requirement already satisfied: fsspec>=2023.5.0 in /home/goit/miniconda3/envs/img_cl/lib/python3.13/site-packages (from huggingface-hub>=0.24->segmentation_models_pytorch) (2025.9.0)\n",
            "Requirement already satisfied: packaging>=20.9 in /home/goit/miniconda3/envs/img_cl/lib/python3.13/site-packages (from huggingface-hub>=0.24->segmentation_models_pytorch) (25.0)\n",
            "Requirement already satisfied: pyyaml>=5.1 in /home/goit/miniconda3/envs/img_cl/lib/python3.13/site-packages (from huggingface-hub>=0.24->segmentation_models_pytorch) (6.0.2)\n",
            "Requirement already satisfied: requests in /home/goit/miniconda3/envs/img_cl/lib/python3.13/site-packages (from huggingface-hub>=0.24->segmentation_models_pytorch) (2.32.5)\n",
            "Requirement already satisfied: typing-extensions>=3.7.4.3 in /home/goit/miniconda3/envs/img_cl/lib/python3.13/site-packages (from huggingface-hub>=0.24->segmentation_models_pytorch) (4.15.0)\n",
            "Requirement already satisfied: hf-xet<2.0.0,>=1.1.3 in /home/goit/miniconda3/envs/img_cl/lib/python3.13/site-packages (from huggingface-hub>=0.24->segmentation_models_pytorch) (1.1.9)\n",
            "Requirement already satisfied: setuptools in /home/goit/miniconda3/envs/img_cl/lib/python3.13/site-packages (from torch>=1.8->segmentation_models_pytorch) (80.9.0)\n",
            "Requirement already satisfied: sympy>=1.13.3 in /home/goit/miniconda3/envs/img_cl/lib/python3.13/site-packages (from torch>=1.8->segmentation_models_pytorch) (1.14.0)\n",
            "Requirement already satisfied: networkx in /home/goit/miniconda3/envs/img_cl/lib/python3.13/site-packages (from torch>=1.8->segmentation_models_pytorch) (3.5)\n",
            "Requirement already satisfied: jinja2 in /home/goit/miniconda3/envs/img_cl/lib/python3.13/site-packages (from torch>=1.8->segmentation_models_pytorch) (3.1.6)\n",
            "Requirement already satisfied: nvidia-cuda-nvrtc-cu12==12.8.93 in /home/goit/miniconda3/envs/img_cl/lib/python3.13/site-packages (from torch>=1.8->segmentation_models_pytorch) (12.8.93)\n",
            "Requirement already satisfied: nvidia-cuda-runtime-cu12==12.8.90 in /home/goit/miniconda3/envs/img_cl/lib/python3.13/site-packages (from torch>=1.8->segmentation_models_pytorch) (12.8.90)\n",
            "Requirement already satisfied: nvidia-cuda-cupti-cu12==12.8.90 in /home/goit/miniconda3/envs/img_cl/lib/python3.13/site-packages (from torch>=1.8->segmentation_models_pytorch) (12.8.90)\n",
            "Requirement already satisfied: nvidia-cudnn-cu12==9.10.2.21 in /home/goit/miniconda3/envs/img_cl/lib/python3.13/site-packages (from torch>=1.8->segmentation_models_pytorch) (9.10.2.21)\n",
            "Requirement already satisfied: nvidia-cublas-cu12==12.8.4.1 in /home/goit/miniconda3/envs/img_cl/lib/python3.13/site-packages (from torch>=1.8->segmentation_models_pytorch) (12.8.4.1)\n",
            "Requirement already satisfied: nvidia-cufft-cu12==11.3.3.83 in /home/goit/miniconda3/envs/img_cl/lib/python3.13/site-packages (from torch>=1.8->segmentation_models_pytorch) (11.3.3.83)\n",
            "Requirement already satisfied: nvidia-curand-cu12==10.3.9.90 in /home/goit/miniconda3/envs/img_cl/lib/python3.13/site-packages (from torch>=1.8->segmentation_models_pytorch) (10.3.9.90)\n",
            "Requirement already satisfied: nvidia-cusolver-cu12==11.7.3.90 in /home/goit/miniconda3/envs/img_cl/lib/python3.13/site-packages (from torch>=1.8->segmentation_models_pytorch) (11.7.3.90)\n",
            "Requirement already satisfied: nvidia-cusparse-cu12==12.5.8.93 in /home/goit/miniconda3/envs/img_cl/lib/python3.13/site-packages (from torch>=1.8->segmentation_models_pytorch) (12.5.8.93)\n",
            "Requirement already satisfied: nvidia-cusparselt-cu12==0.7.1 in /home/goit/miniconda3/envs/img_cl/lib/python3.13/site-packages (from torch>=1.8->segmentation_models_pytorch) (0.7.1)\n",
            "Requirement already satisfied: nvidia-nccl-cu12==2.27.3 in /home/goit/miniconda3/envs/img_cl/lib/python3.13/site-packages (from torch>=1.8->segmentation_models_pytorch) (2.27.3)\n",
            "Requirement already satisfied: nvidia-nvtx-cu12==12.8.90 in /home/goit/miniconda3/envs/img_cl/lib/python3.13/site-packages (from torch>=1.8->segmentation_models_pytorch) (12.8.90)\n",
            "Requirement already satisfied: nvidia-nvjitlink-cu12==12.8.93 in /home/goit/miniconda3/envs/img_cl/lib/python3.13/site-packages (from torch>=1.8->segmentation_models_pytorch) (12.8.93)\n",
            "Requirement already satisfied: nvidia-cufile-cu12==1.13.1.3 in /home/goit/miniconda3/envs/img_cl/lib/python3.13/site-packages (from torch>=1.8->segmentation_models_pytorch) (1.13.1.3)\n",
            "Requirement already satisfied: triton==3.4.0 in /home/goit/miniconda3/envs/img_cl/lib/python3.13/site-packages (from torch>=1.8->segmentation_models_pytorch) (3.4.0)\n",
            "Requirement already satisfied: mpmath<1.4,>=1.1.0 in /home/goit/miniconda3/envs/img_cl/lib/python3.13/site-packages (from sympy>=1.13.3->torch>=1.8->segmentation_models_pytorch) (1.3.0)\n",
            "Requirement already satisfied: MarkupSafe>=2.0 in /home/goit/miniconda3/envs/img_cl/lib/python3.13/site-packages (from jinja2->torch>=1.8->segmentation_models_pytorch) (3.0.2)\n",
            "Requirement already satisfied: charset_normalizer<4,>=2 in /home/goit/miniconda3/envs/img_cl/lib/python3.13/site-packages (from requests->huggingface-hub>=0.24->segmentation_models_pytorch) (3.4.3)\n",
            "Requirement already satisfied: idna<4,>=2.5 in /home/goit/miniconda3/envs/img_cl/lib/python3.13/site-packages (from requests->huggingface-hub>=0.24->segmentation_models_pytorch) (3.10)\n",
            "Requirement already satisfied: urllib3<3,>=1.21.1 in /home/goit/miniconda3/envs/img_cl/lib/python3.13/site-packages (from requests->huggingface-hub>=0.24->segmentation_models_pytorch) (2.5.0)\n",
            "Requirement already satisfied: certifi>=2017.4.17 in /home/goit/miniconda3/envs/img_cl/lib/python3.13/site-packages (from requests->huggingface-hub>=0.24->segmentation_models_pytorch) (2025.8.3)\n",
            "Note: you may need to restart the kernel to use updated packages.\n"
          ]
        }
      ],
      "source": [
        "%pip install segmentation_models_pytorch"
      ]
    },
    {
      "cell_type": "markdown",
      "metadata": {
        "id": "8c6274b5"
      },
      "source": [
        "**추론**:\n",
        "세그멘테이션_모델_파이토치` 라이브러리가 성공적으로 설치되었습니다. 이제 원래 의도한 대로 U-Net 모델을 정의할 수 있습니다.\n",
        "\n"
      ]
    },
    {
      "cell_type": "code",
      "execution_count": 20,
      "metadata": {
        "colab": {
          "base_uri": "https://localhost:8080/"
        },
        "id": "99dfa111",
        "outputId": "5a3b04b1-05d5-4749-9de9-a8509a7b92dd"
      },
      "outputs": [
        {
          "name": "stdout",
          "output_type": "stream",
          "text": [
            "Using device: cuda\n"
          ]
        }
      ],
      "source": [
        "import torch\n",
        "import torch.nn as nn\n",
        "import segmentation_models_pytorch as sm\n",
        "\n",
        "# Define the U-Net model with EfficientNet-B0 encoder\n",
        "# For inference, we don't need imagenet weights, we will load saved weights\n",
        "model = sm.Unet(\n",
        "    encoder_name=\"efficientnet-b0\",\n",
        "    encoder_weights=None, # No need to load imagenet weights again for inference\n",
        "    in_channels=3,\n",
        "    classes=1,\n",
        ")\n",
        "\n",
        "# Determine the device to use (GPU if available, otherwise CPU)\n",
        "device = torch.device(\"cuda\" if torch.cuda.is_available() else \"cpu\")\n",
        "print(f\"Using device: {device}\")\n",
        "\n",
        "# Model will be moved to device after loading weights from Drive\n",
        "\n",
        "# print(model) # Optional: Print model structure if needed"
      ]
    },
    {
      "cell_type": "markdown",
      "metadata": {
        "id": "5254ec02"
      },
      "source": [
        "## 손실 함수 및 최적화 도구 설정\n",
        "\n",
        "### Subtask:\n",
        "이미지 세그멘테이션 작업에 적합한 손실 함수(예: Dice Loss, Binary Cross-Entropy)와 최적화 도구(예: Adam)를 설정합니다.\n"
      ]
    },
    {
      "cell_type": "markdown",
      "metadata": {
        "id": "18f6066a"
      },
      "source": [
        "**추론**:\n",
        "세분화 작업을 위한 손실 함수와 최적화 함수를 정의합니다. 이진 교차 엔트로피와 주사위 손실의 조합은 이진 세분화에 적합하며, 최적화를 위해 일반적으로 Adam이 선택됩니다.\n",
        "\n"
      ]
    },
    {
      "cell_type": "markdown",
      "metadata": {
        "id": "3ec2f6f0"
      },
      "source": [
        "## 학습 함수 구현\n",
        "\n",
        "### Subtask:\n",
        "모델 학습을 위한 함수를 구현합니다. 이 함수는 데이터 로더를 사용하여 데이터를 가져오고, 모델을 통해 예측을 수행하며, 손실을 계산하고, 모델 파라미터를 업데이트합니다.\n"
      ]
    },
    {
      "cell_type": "markdown",
      "metadata": {
        "id": "e2d0044b"
      },
      "source": [
        "## 검증 함수 구현\n",
        "\n",
        "### Subtask:\n",
        "모델 검증을 위한 함수를 구현합니다. 이 함수는 검증 데이터 로더를 사용하여 모델 성능을 평가하고, 과적합을 방지하기 위한 조기 종료(early stopping) 등의 로직을 포함할 수 있습니다.\n"
      ]
    },
    {
      "cell_type": "markdown",
      "metadata": {
        "id": "84b675a1"
      },
      "source": [
        "**추론**:\n",
        "평균 손실을 계산하고 선택적으로 다른 메트릭을 포함하여 유효성 검사 세트에서 모델의 성능을 평가하는 `validate_epoch` 함수를 정의합니다.\n",
        "\n"
      ]
    },
    {
      "cell_type": "markdown",
      "metadata": {
        "id": "de34390b"
      },
      "source": [
        "## 모델 학습 실행\n",
        "\n",
        "### Subtask:\n",
        "학습 함수를 호출하여 모델 학습을 시작합니다. 학습 에폭(epoch)을 설정하고 학습 과정을 모니터링합니다.\n"
      ]
    },
    {
      "cell_type": "markdown",
      "metadata": {
        "id": "5b3e4f43"
      },
      "source": [
        "ㅊ**추론**:\n",
        "훈련 에포크 수를 정의하고, 손실을 저장할 목록을 초기화하고, 각 에포크에 대해 훈련 및 검증 에포크 함수를 호출하여 훈련 루프를 시작합니다.\n",
        "\n"
      ]
    },
    {
      "cell_type": "markdown",
      "metadata": {
        "id": "LZwmBLQLDt5G"
      },
      "source": [
        "### 모델 손실 그래프"
      ]
    },
    {
      "cell_type": "markdown",
      "metadata": {
        "id": "13bd2fbe"
      },
      "source": [
        "## 모델 저장\n",
        "\n",
        "### Subtask:\n",
        "학습이 완료된 모델 가중치를 저장합니다.\n"
      ]
    },
    {
      "cell_type": "markdown",
      "metadata": {
        "id": "cdb10dc6"
      },
      "source": [
        "**추론**:\n",
        "학습된 모델의 상태 사전을 파일에 저장하고 확인 메시지를 인쇄합니다.\n",
        "\n"
      ]
    },
    {
      "cell_type": "markdown",
      "metadata": {
        "id": "d75fcfc8"
      },
      "source": [
        "## 요약:\n",
        "\n",
        "### 개념으로 이해하는 데이터 분석 주요 결과\n",
        "\n",
        "* EfficientNet-B0 인코더가 포함된 U-Net 모델은 `segmentation_models_pytorch` 라이브러리를 사용하여 성공적으로 정의되었습니다.\n",
        "* 이 모델은 바이너리 클라우드 세분화(`classes=1`)를 위해 구성되었으며, 인코더를 위해 ImageNet에서 사전 학습된 가중치를 활용했습니다.\n",
        "* 효과적인 분할 학습을 위해 로짓 손실과 주사위 손실이 포함된 이진 교차 엔트로피로 구성된 결합 손실 함수를 구현했습니다.\n",
        "* 모델 파라미터를 업데이트하기 위해 학습률이 0.001인 아담 옵티마이저를 설정했습니다.\n",
        "* 데이터를 적절한 장치로 이동하고 손실을 계산하는 등 훈련 및 평가 루프를 처리하기 위해 훈련 및 검증 함수(`train_epoch` 및 `validate_epoch`)를 성공적으로 구현했습니다.\n",
        "* 모델은 10개의 에포크에 대해 훈련되었으며, 각 에포크마다 훈련 및 검증 손실을 모니터링하고 인쇄했습니다.\n",
        "* 학습된 모델의 상태 사전이 `unet_efficientnetb0_cloud_segmentation.pth`라는 파일에 성공적으로 저장되었습니다.\n",
        "\n",
        "### 인사이트 또는 다음 단계\n",
        "\n",
        "* 학습 및 검증 손실을 모니터링하는 동안, IoU 또는 F1-score와 같은 추가 메트릭을 `validate_epoch` 함수에 통합하면 모델의 세분화 성능을 보다 포괄적으로 평가할 수 있습니다.\n",
        "* 유효성 검사 손실에 따라 조기 중지를 구현하면 과적합을 방지하고 훈련 중에 가장 성능이 좋은 모델을 저장하는 데 도움이 됩니다. 추론을 위해 이 저장된 모델을 로드하는 것은 중요한 다음 단계입니다.\n"
      ]
    },
    {
      "cell_type": "code",
      "execution_count": null,
      "metadata": {
        "id": "wCWCRwSIXsCW"
      },
      "outputs": [],
      "source": []
    },
    {
      "cell_type": "markdown",
      "metadata": {
        "id": "9441ac31"
      },
      "source": [
        "# 이미지 분할_GIS 업무 파이프라인\n",
        "\n",
        "## 개요)\n",
        "1. 이미지 분할 모델 조사 기준 환경 구축\n",
        "2. 오픈소스 데이터셋 기반 테스트 추론 및 분류 연구\n",
        "3. QGIS GIS 샘플 데이터 테스트 시도"
      ]
    },
    {
      "cell_type": "markdown",
      "metadata": {
        "id": "aeec11cf"
      },
      "source": [
        "## 학습 과정\n",
        "\"38-cloud\" 데이터 세트에서 학습된 U-Net(EfficientNet-B0) 모델을 사용하여 원본 비디오 프레임에서 구름을 감지하는 이미지 분할 프로젝트를 구현합니다. 최종 출력은 구름이 감지되지 않은 원본 이미지, 구름이 감지된 원본 이미지, 예측된 구름 마스크 이미지의 세 가지 이미지로 구성되어야 합니다."
      ]
    },
    {
      "cell_type": "markdown",
      "metadata": {
        "id": "49116086"
      },
      "source": [
        "## 환경 설정 및 데이터 로딩\n",
        "\n",
        "### Subtask:\n",
        "필요한 라이브러리를 설치하고 '38-cloud' 데이터셋을 로드합니다. 데이터셋의 구조를 확인하고 시각화하여 이해를 돕습니다."
      ]
    },
    {
      "cell_type": "code",
      "execution_count": 21,
      "metadata": {
        "colab": {
          "base_uri": "https://localhost:8080/"
        },
        "id": "2e7bc831",
        "outputId": "00e94f46-5f41-4b25-9aea-1a6784ad3174"
      },
      "outputs": [
        {
          "name": "stdout",
          "output_type": "stream",
          "text": [
            "Requirement already satisfied: opencv-python in /home/goit/miniconda3/envs/img_cl/lib/python3.13/site-packages (4.12.0.88)\n",
            "Requirement already satisfied: scikit-image in /home/goit/miniconda3/envs/img_cl/lib/python3.13/site-packages (0.25.2)\n",
            "Requirement already satisfied: albumentations in /home/goit/miniconda3/envs/img_cl/lib/python3.13/site-packages (2.0.8)\n",
            "Requirement already satisfied: segmentation_models_pytorch in /home/goit/miniconda3/envs/img_cl/lib/python3.13/site-packages (0.5.0)\n",
            "Requirement already satisfied: kagglehub in /home/goit/miniconda3/envs/img_cl/lib/python3.13/site-packages (0.3.13)\n",
            "Requirement already satisfied: numpy<2.3.0,>=2 in /home/goit/miniconda3/envs/img_cl/lib/python3.13/site-packages (from opencv-python) (2.2.6)\n",
            "Requirement already satisfied: scipy>=1.11.4 in /home/goit/miniconda3/envs/img_cl/lib/python3.13/site-packages (from scikit-image) (1.16.1)\n",
            "Requirement already satisfied: networkx>=3.0 in /home/goit/miniconda3/envs/img_cl/lib/python3.13/site-packages (from scikit-image) (3.5)\n",
            "Requirement already satisfied: pillow>=10.1 in /home/goit/miniconda3/envs/img_cl/lib/python3.13/site-packages (from scikit-image) (11.3.0)\n",
            "Requirement already satisfied: imageio!=2.35.0,>=2.33 in /home/goit/miniconda3/envs/img_cl/lib/python3.13/site-packages (from scikit-image) (2.37.0)\n",
            "Requirement already satisfied: tifffile>=2022.8.12 in /home/goit/miniconda3/envs/img_cl/lib/python3.13/site-packages (from scikit-image) (2025.9.9)\n",
            "Requirement already satisfied: packaging>=21 in /home/goit/miniconda3/envs/img_cl/lib/python3.13/site-packages (from scikit-image) (25.0)\n",
            "Requirement already satisfied: lazy-loader>=0.4 in /home/goit/miniconda3/envs/img_cl/lib/python3.13/site-packages (from scikit-image) (0.4)\n",
            "Requirement already satisfied: PyYAML in /home/goit/miniconda3/envs/img_cl/lib/python3.13/site-packages (from albumentations) (6.0.2)\n",
            "Requirement already satisfied: pydantic>=2.9.2 in /home/goit/miniconda3/envs/img_cl/lib/python3.13/site-packages (from albumentations) (2.11.7)\n",
            "Requirement already satisfied: albucore==0.0.24 in /home/goit/miniconda3/envs/img_cl/lib/python3.13/site-packages (from albumentations) (0.0.24)\n",
            "Requirement already satisfied: opencv-python-headless>=4.9.0.80 in /home/goit/miniconda3/envs/img_cl/lib/python3.13/site-packages (from albumentations) (4.12.0.88)\n",
            "Requirement already satisfied: stringzilla>=3.10.4 in /home/goit/miniconda3/envs/img_cl/lib/python3.13/site-packages (from albucore==0.0.24->albumentations) (4.0.6)\n",
            "Requirement already satisfied: simsimd>=5.9.2 in /home/goit/miniconda3/envs/img_cl/lib/python3.13/site-packages (from albucore==0.0.24->albumentations) (6.5.3)\n",
            "Requirement already satisfied: huggingface-hub>=0.24 in /home/goit/miniconda3/envs/img_cl/lib/python3.13/site-packages (from segmentation_models_pytorch) (0.34.4)\n",
            "Requirement already satisfied: safetensors>=0.3.1 in /home/goit/miniconda3/envs/img_cl/lib/python3.13/site-packages (from segmentation_models_pytorch) (0.6.2)\n",
            "Requirement already satisfied: timm>=0.9 in /home/goit/miniconda3/envs/img_cl/lib/python3.13/site-packages (from segmentation_models_pytorch) (1.0.19)\n",
            "Requirement already satisfied: torch>=1.8 in /home/goit/miniconda3/envs/img_cl/lib/python3.13/site-packages (from segmentation_models_pytorch) (2.8.0)\n",
            "Requirement already satisfied: torchvision>=0.9 in /home/goit/miniconda3/envs/img_cl/lib/python3.13/site-packages (from segmentation_models_pytorch) (0.23.0)\n",
            "Requirement already satisfied: tqdm>=4.42.1 in /home/goit/miniconda3/envs/img_cl/lib/python3.13/site-packages (from segmentation_models_pytorch) (4.67.1)\n",
            "Requirement already satisfied: requests in /home/goit/miniconda3/envs/img_cl/lib/python3.13/site-packages (from kagglehub) (2.32.5)\n",
            "Requirement already satisfied: filelock in /home/goit/miniconda3/envs/img_cl/lib/python3.13/site-packages (from huggingface-hub>=0.24->segmentation_models_pytorch) (3.19.1)\n",
            "Requirement already satisfied: fsspec>=2023.5.0 in /home/goit/miniconda3/envs/img_cl/lib/python3.13/site-packages (from huggingface-hub>=0.24->segmentation_models_pytorch) (2025.9.0)\n",
            "Requirement already satisfied: typing-extensions>=3.7.4.3 in /home/goit/miniconda3/envs/img_cl/lib/python3.13/site-packages (from huggingface-hub>=0.24->segmentation_models_pytorch) (4.15.0)\n",
            "Requirement already satisfied: hf-xet<2.0.0,>=1.1.3 in /home/goit/miniconda3/envs/img_cl/lib/python3.13/site-packages (from huggingface-hub>=0.24->segmentation_models_pytorch) (1.1.9)\n",
            "Requirement already satisfied: annotated-types>=0.6.0 in /home/goit/miniconda3/envs/img_cl/lib/python3.13/site-packages (from pydantic>=2.9.2->albumentations) (0.7.0)\n",
            "Requirement already satisfied: pydantic-core==2.33.2 in /home/goit/miniconda3/envs/img_cl/lib/python3.13/site-packages (from pydantic>=2.9.2->albumentations) (2.33.2)\n",
            "Requirement already satisfied: typing-inspection>=0.4.0 in /home/goit/miniconda3/envs/img_cl/lib/python3.13/site-packages (from pydantic>=2.9.2->albumentations) (0.4.1)\n",
            "Requirement already satisfied: setuptools in /home/goit/miniconda3/envs/img_cl/lib/python3.13/site-packages (from torch>=1.8->segmentation_models_pytorch) (80.9.0)\n",
            "Requirement already satisfied: sympy>=1.13.3 in /home/goit/miniconda3/envs/img_cl/lib/python3.13/site-packages (from torch>=1.8->segmentation_models_pytorch) (1.14.0)\n",
            "Requirement already satisfied: jinja2 in /home/goit/miniconda3/envs/img_cl/lib/python3.13/site-packages (from torch>=1.8->segmentation_models_pytorch) (3.1.6)\n",
            "Requirement already satisfied: nvidia-cuda-nvrtc-cu12==12.8.93 in /home/goit/miniconda3/envs/img_cl/lib/python3.13/site-packages (from torch>=1.8->segmentation_models_pytorch) (12.8.93)\n",
            "Requirement already satisfied: nvidia-cuda-runtime-cu12==12.8.90 in /home/goit/miniconda3/envs/img_cl/lib/python3.13/site-packages (from torch>=1.8->segmentation_models_pytorch) (12.8.90)\n",
            "Requirement already satisfied: nvidia-cuda-cupti-cu12==12.8.90 in /home/goit/miniconda3/envs/img_cl/lib/python3.13/site-packages (from torch>=1.8->segmentation_models_pytorch) (12.8.90)\n",
            "Requirement already satisfied: nvidia-cudnn-cu12==9.10.2.21 in /home/goit/miniconda3/envs/img_cl/lib/python3.13/site-packages (from torch>=1.8->segmentation_models_pytorch) (9.10.2.21)\n",
            "Requirement already satisfied: nvidia-cublas-cu12==12.8.4.1 in /home/goit/miniconda3/envs/img_cl/lib/python3.13/site-packages (from torch>=1.8->segmentation_models_pytorch) (12.8.4.1)\n",
            "Requirement already satisfied: nvidia-cufft-cu12==11.3.3.83 in /home/goit/miniconda3/envs/img_cl/lib/python3.13/site-packages (from torch>=1.8->segmentation_models_pytorch) (11.3.3.83)\n",
            "Requirement already satisfied: nvidia-curand-cu12==10.3.9.90 in /home/goit/miniconda3/envs/img_cl/lib/python3.13/site-packages (from torch>=1.8->segmentation_models_pytorch) (10.3.9.90)\n",
            "Requirement already satisfied: nvidia-cusolver-cu12==11.7.3.90 in /home/goit/miniconda3/envs/img_cl/lib/python3.13/site-packages (from torch>=1.8->segmentation_models_pytorch) (11.7.3.90)\n",
            "Requirement already satisfied: nvidia-cusparse-cu12==12.5.8.93 in /home/goit/miniconda3/envs/img_cl/lib/python3.13/site-packages (from torch>=1.8->segmentation_models_pytorch) (12.5.8.93)\n",
            "Requirement already satisfied: nvidia-cusparselt-cu12==0.7.1 in /home/goit/miniconda3/envs/img_cl/lib/python3.13/site-packages (from torch>=1.8->segmentation_models_pytorch) (0.7.1)\n",
            "Requirement already satisfied: nvidia-nccl-cu12==2.27.3 in /home/goit/miniconda3/envs/img_cl/lib/python3.13/site-packages (from torch>=1.8->segmentation_models_pytorch) (2.27.3)\n",
            "Requirement already satisfied: nvidia-nvtx-cu12==12.8.90 in /home/goit/miniconda3/envs/img_cl/lib/python3.13/site-packages (from torch>=1.8->segmentation_models_pytorch) (12.8.90)\n",
            "Requirement already satisfied: nvidia-nvjitlink-cu12==12.8.93 in /home/goit/miniconda3/envs/img_cl/lib/python3.13/site-packages (from torch>=1.8->segmentation_models_pytorch) (12.8.93)\n",
            "Requirement already satisfied: nvidia-cufile-cu12==1.13.1.3 in /home/goit/miniconda3/envs/img_cl/lib/python3.13/site-packages (from torch>=1.8->segmentation_models_pytorch) (1.13.1.3)\n",
            "Requirement already satisfied: triton==3.4.0 in /home/goit/miniconda3/envs/img_cl/lib/python3.13/site-packages (from torch>=1.8->segmentation_models_pytorch) (3.4.0)\n",
            "Requirement already satisfied: mpmath<1.4,>=1.1.0 in /home/goit/miniconda3/envs/img_cl/lib/python3.13/site-packages (from sympy>=1.13.3->torch>=1.8->segmentation_models_pytorch) (1.3.0)\n",
            "Requirement already satisfied: MarkupSafe>=2.0 in /home/goit/miniconda3/envs/img_cl/lib/python3.13/site-packages (from jinja2->torch>=1.8->segmentation_models_pytorch) (3.0.2)\n",
            "Requirement already satisfied: charset_normalizer<4,>=2 in /home/goit/miniconda3/envs/img_cl/lib/python3.13/site-packages (from requests->kagglehub) (3.4.3)\n",
            "Requirement already satisfied: idna<4,>=2.5 in /home/goit/miniconda3/envs/img_cl/lib/python3.13/site-packages (from requests->kagglehub) (3.10)\n",
            "Requirement already satisfied: urllib3<3,>=1.21.1 in /home/goit/miniconda3/envs/img_cl/lib/python3.13/site-packages (from requests->kagglehub) (2.5.0)\n",
            "Requirement already satisfied: certifi>=2017.4.17 in /home/goit/miniconda3/envs/img_cl/lib/python3.13/site-packages (from requests->kagglehub) (2025.8.3)\n",
            "Note: you may need to restart the kernel to use updated packages.\n"
          ]
        }
      ],
      "source": [
        "%pip install opencv-python scikit-image albumentations segmentation_models_pytorch kagglehub"
      ]
    },
    {
      "cell_type": "markdown",
      "metadata": {
        "id": "6bc0868d"
      },
      "source": [
        "**추론**:\n",
        "'38-cloud' 데이터 집합을 Kagglehub를 사용하여 로드하고 구조를 확인한 후 샘플 이미지와 마스크를 시각화합니다."
      ]
    },
    {
      "cell_type": "code",
      "execution_count": 22,
      "metadata": {
        "colab": {
          "base_uri": "https://localhost:8080/",
          "height": 1000
        },
        "id": "fa7a62bc",
        "outputId": "57879255-f8f2-4eaa-f901-35db36442a4e"
      },
      "outputs": [
        {
          "name": "stdout",
          "output_type": "stream",
          "text": [
            "Dataset already exists.\n",
            "Path to dataset files: /home/goit/.cache/kagglehub/datasets/sorour/38cloud-cloud-segmentation-in-satellite-images/versions/4\n",
            "Image directory found at: /home/goit/.cache/kagglehub/datasets/sorour/38cloud-cloud-segmentation-in-satellite-images/versions/4/38-Cloud_training/train_red\n",
            "Mask directory found at: /home/goit/.cache/kagglehub/datasets/sorour/38cloud-cloud-segmentation-in-satellite-images/versions/4/38-Cloud_training/train_gt\n"
          ]
        },
        {
          "data": {
            "image/png": "[encoded data removed]",
            "text/plain": [
              "<Figure size 1500x1000 with 10 Axes>"
            ]
          },
          "metadata": {},
          "output_type": "display_data"
        }
      ],
      "source": [
        "import kagglehub\n",
        "import os\n",
        "import matplotlib.pyplot as plt\n",
        "import cv2\n",
        "import numpy as np\n",
        "from torch.utils.data import Dataset\n",
        "import torch\n",
        "from sklearn.model_selection import train_test_split\n",
        "from torch.utils.data import DataLoader\n",
        "import albumentations as A\n",
        "\n",
        "# Define the base path to the dataset after extraction by kagglehub\n",
        "# Use the same path as used in subsequent cells to ensure consistency\n",
        "dataset_path = '/home/goit/.cache/kagglehub/datasets/sorour/38cloud-cloud-segmentation-in-satellite-images/versions/4'\n",
        "train_data_path = os.path.join(dataset_path, '38-Cloud_training')\n",
        "\n",
        "# Check if the dataset is already downloaded and extracted\n",
        "if not os.path.exists(train_data_path):\n",
        "    print(\"Dataset not found, downloading...\")\n",
        "    # Download latest version\n",
        "    path = kagglehub.dataset_download(\"sorour/38cloud-cloud-segmentation-in-satellite-images\")\n",
        "    print(\"Path to dataset files:\", path)\n",
        "else:\n",
        "    print(\"Dataset already exists.\")\n",
        "    print(\"Path to dataset files:\", dataset_path)\n",
        "\n",
        "# Corrected paths based on the directory listing of 38-Cloud_training\n",
        "image_dir = os.path.join(train_data_path, 'train_red') # Using one of the band directories as the image directory\n",
        "mask_dir = os.path.join(train_data_path, 'train_gt')   # Using the ground truth directory as the mask directory\n",
        "\n",
        "# Verify if the directories exist\n",
        "if not os.path.exists(image_dir):\n",
        "    print(f\"Error: Image directory not found at {image_dir}\")\n",
        "elif not os.path.exists(mask_dir):\n",
        "    print(f\"Error: Mask directory not found at {mask_dir}\")\n",
        "else:\n",
        "    print(f\"Image directory found at: {image_dir}\")\n",
        "    print(f\"Mask directory found at: {mask_dir}\")\n",
        "\n",
        "# Get list of image and mask files, looking for .TIF extension\n",
        "image_files_list = [os.path.join(image_dir, f) for f in os.listdir(image_dir) if f.endswith('.TIF')]\n",
        "mask_files_list = [os.path.join(mask_dir, f) for f in os.listdir(mask_dir) if f.endswith('.TIF')]\n",
        "\n",
        "# Ensure correspondence (assuming file names match except for prefix and extension)\n",
        "image_files_list.sort()\n",
        "mask_files_list.sort()\n",
        "\n",
        "# Select a few sample images and masks to display\n",
        "num_samples = 5\n",
        "# Ensure we don't request more samples than available files\n",
        "num_samples = min(num_samples, len(image_files_list), len(mask_files_list))\n",
        "sample_image_files = image_files_list[:num_samples]\n",
        "sample_mask_files = mask_files_list[:num_samples]\n",
        "\n",
        "plt.figure(figsize=(15, 10))\n",
        "\n",
        "for i in range(num_samples):\n",
        "    # Load image (using the red band as a representative image)\n",
        "    img_path = sample_image_files[i]\n",
        "    img = cv2.imread(img_path)\n",
        "    img = cv2.cvtColor(img, cv2.COLOR_BGR2RGB) # Convert to RGB for displaying\n",
        "\n",
        "    # Load mask\n",
        "    mask_path = sample_mask_files[i]\n",
        "    mask = cv2.imread(mask_path, cv2.IMREAD_GRAYSCALE) # Load as grayscale\n",
        "\n",
        "    # Display original image (red band)\n",
        "    plt.subplot(num_samples, 2, 2*i + 1)\n",
        "    plt.imshow(img)\n",
        "    plt.title(f'Image (Red Band): {os.path.basename(img_path)}')\n",
        "    plt.axis('off')\n",
        "\n",
        "    # Display mask\n",
        "    plt.subplot(num_samples, 2, 2*i + 2)\n",
        "    plt.imshow(mask, cmap='gray')\n",
        "    plt.title(f'Mask: {os.path.basename(mask_path)}')\n",
        "    plt.axis('off')\n",
        "\n",
        "plt.tight_layout()\n",
        "plt.show()"
      ]
    },
    {
      "cell_type": "markdown",
      "metadata": {
        "id": "015b64fb"
      },
      "source": [
        "## 데이터 로딩 함수 정의\n",
        "\n",
        "### Subtask:\n",
        "이미지 및 마스크를 로드하고 전처리하는 함수를 정의합니다."
      ]
    },
    {
      "cell_type": "markdown",
      "metadata": {
        "id": "e40bb50b"
      },
      "source": [
        "**추론**:\n",
        "이미지와 마스크를 로드, 전처리, 크기 조정하고 픽셀 값을 정규화하는 함수를 정의합니다. 초기 로딩 시 크기 조정은 제거하고, 정규화만 수행합니다."
      ]
    },
    {
      "cell_type": "code",
      "execution_count": 23,
      "metadata": {
        "id": "87c28867"
      },
      "outputs": [],
      "source": [
        "import cv2\n",
        "import numpy as np\n",
        "\n",
        "def load_and_preprocess_image_mask(image_path, mask_path):\n",
        "    \"\"\"\n",
        "    Loads and preprocesses an image and its corresponding mask.\n",
        "    Removes initial resizing.\n",
        "\n",
        "    Args:\n",
        "        image_path (str): Path to the image file.\n",
        "        mask_path (str): Path to the mask file.\n",
        "\n",
        "    Returns:\n",
        "        tuple: A tuple containing the preprocessed image (numpy array)\n",
        "               and the preprocessed mask (numpy array).\n",
        "    \"\"\"\n",
        "    # Load image in color (RGB)\n",
        "    image = cv2.imread(image_path)\n",
        "    if image is None:\n",
        "        print(f\"Error loading image: {image_path}\")\n",
        "        return None, None\n",
        "    image = cv2.cvtColor(image, cv2.COLOR_BGR2RGB)\n",
        "\n",
        "    # Load mask in grayscale\n",
        "    mask = cv2.imread(mask_path, cv2.IMREAD_GRAYSCALE)\n",
        "    if mask is None:\n",
        "        print(f\"Error loading mask: {mask_path}\")\n",
        "        return None, None\n",
        "\n",
        "    # No resizing here\n",
        "    # Image and mask will retain their original size (e.g., 384x384)\n",
        "\n",
        "    # Normalize image pixel values to [0, 1]\n",
        "    image = image.astype(np.float32) / 255.0\n",
        "\n",
        "    # Normalize mask pixel values to [0, 1] (assuming mask is binary 0 or 255)\n",
        "    mask = mask.astype(np.float32) / 255.0\n",
        "    # Expand mask dimensions to (height, width, 1) for consistency with image shape\n",
        "    mask = np.expand_dims(mask, axis=-1)\n",
        "\n",
        "    return image, mask"
      ]
    },
    {
      "cell_type": "markdown",
      "metadata": {
        "id": "9d373ce6"
      },
      "source": [
        "## 데이터셋 클래스 정의\n",
        "\n",
        "### Subtask:\n",
        "PyTorch의 `Dataset` 클래스를 상속받아 커스텀 데이터셋 클래스를 정의합니다."
      ]
    },
    {
      "cell_type": "markdown",
      "metadata": {
        "id": "6c5a46ee"
      },
      "source": [
        "**추론**:\n",
        "이전에 정의한 함수를 사용하여 이미지와 마스크 데이터를 로드하고 전처리하는 사용자 정의 PyTorch 데이터 세트 클래스를 정의합니다. 데이터 증강을 적용할 수 있도록 `transform` 매개변수를 포함합니다."
      ]
    },
    {
      "cell_type": "code",
      "execution_count": 40,
      "metadata": {
        "id": "3c6662d6"
      },
      "outputs": [],
      "source": [
        "import torch\n",
        "from torch.utils.data import Dataset\n",
        "import numpy as np\n",
        "\n",
        "class CloudDataset(Dataset):\n",
        "    \"\"\"Custom Dataset for loading cloud images and masks with optional augmentations.\"\"\"\n",
        "\n",
        "    def __init__(self, image_files, mask_files, preprocess_fn=None, transform=None):\n",
        "        \"\"\"\n",
        "        Args:\n",
        "            image_files (list): List of paths to image files.\n",
        "            mask_files (list): List of paths to mask files.\n",
        "            preprocess_fn (callable, optional): Optional function to be applied\n",
        "                on a sample before augmentation. Defaults to None.\n",
        "            transform (callable, optional): Optional albumentations transform to be applied\n",
        "                on a sample after preprocessing. Defaults to None.\n",
        "        \"\"\"\n",
        "        if len(image_files) != len(mask_files):\n",
        "            raise ValueError(\"Number of image files and mask files must be the same.\")\n",
        "\n",
        "        self.image_files = image_files\n",
        "        self.mask_files = mask_files\n",
        "        self.preprocess_fn = preprocess_fn\n",
        "        self.transform = transform\n",
        "\n",
        "    def __len__(self):\n",
        "        return len(self.image_files)\n",
        "\n",
        "    def __getitem__(self, idx):\n",
        "        if torch.is_tensor(idx):\n",
        "            idx = idx.tolist()\n",
        "\n",
        "        img_path = self.image_files[idx]\n",
        "        mask_path = self.mask_files[idx]\n",
        "\n",
        "        # Load and preprocess using the provided function\n",
        "        image, mask = self.preprocess_fn(img_path, mask_path)\n",
        "\n",
        "        if image is None or mask is None:\n",
        "            print(f\"Warning: Could not load or preprocess data for index {idx}\")\n",
        "            return None\n",
        "\n",
        "        # Apply augmentations if transform is provided\n",
        "        if self.transform:\n",
        "            # Albumentations expects input in HWC format\n",
        "            if mask.ndim == 2:\n",
        "                 mask = np.expand_dims(mask, axis=-1)\n",
        "\n",
        "            augmented = self.transform(image=image, mask=mask)\n",
        "            image = augmented['image']\n",
        "            mask = augmented['mask']\n",
        "\n",
        "        # Convert numpy arrays to PyTorch tensors after augmentation\n",
        "        # Image: (H, W, C) -> (C, H, W) for PyTorch\n",
        "        image = torch.from_numpy(image).permute(2, 0, 1).float()\n",
        "        # Mask: (H, W, 1) -> (1, H, W)\n",
        "        mask = torch.from_numpy(mask).permute(2, 0, 1).float()\n",
        "\n",
        "        return image, mask, img_path"
      ]
    },
    {
      "cell_type": "markdown",
      "metadata": {
        "id": "d99205b0"
      },
      "source": [
        "## 데이터 증강 설정\n",
        "\n",
        "### Subtask:\n",
        "데이터 증강 기법(예: 회전, 확대/축소, 좌우 반전)을 설정하고 데이터 로딩 파이프라인에 통합합니다."
      ]
    },
    {
      "cell_type": "markdown",
      "metadata": {
        "id": "c03aa78d"
      },
      "source": [
        "**추론**:\n",
        "데이터 증강을 위한 Albumentations 변환 파이프라인을 정의하고, 최종적으로 모델 입력 크기에 맞게 이미지 크기를 조정하는 `Resize` 작업을 포함합니다."
      ]
    },
    {
      "cell_type": "code",
      "execution_count": 25,
      "metadata": {
        "colab": {
          "base_uri": "https://localhost:8080/"
        },
        "id": "92e1af37",
        "outputId": "424140bb-ba84-4a9c-ef8e-6db368b84801"
      },
      "outputs": [
        {
          "name": "stdout",
          "output_type": "stream",
          "text": [
            "Data augmentation transforms defined.\n"
          ]
        }
      ],
      "source": [
        "import albumentations as A\n",
        "import cv2\n",
        "import numpy as np\n",
        "\n",
        "# Define the augmentation pipeline for training\n",
        "train_transform = A.Compose([\n",
        "    A.Rotate(limit=45, p=0.5),\n",
        "    A.HorizontalFlip(p=0.5),\n",
        "    A.VerticalFlip(p=0.5),\n",
        "    A.RandomScale(scale_limit=0.2, p=0.3),\n",
        "    A.Resize(height=256, width=256), # Resize to target size after augmentations\n",
        "], bbox_params=None, keypoint_params=None, additional_targets={'mask': 'mask'})\n",
        "\n",
        "# Define the transform for validation and test (only resizing)\n",
        "val_test_transform = A.Compose([\n",
        "    A.Resize(height=256, width=256), # Resize validation/test data to target size\n",
        "], bbox_params=None, keypoint_params=None, additional_targets={'mask': 'mask'})\n",
        "\n",
        "print(\"Data augmentation transforms defined.\")"
      ]
    },
    {
      "cell_type": "markdown",
      "metadata": {
        "id": "1babaca5"
      },
      "source": [
        "## 데이터 로더 생성\n",
        "\n",
        "### Subtask:\n",
        "정의된 데이터셋 클래스와 PyTorch의 `DataLoader`를 사용하여 학습, 검증, 테스트 데이터 로더를 생성합니다. 배치 크기, 셔플링 등의 설정을 포함합니다."
      ]
    },
    {
      "cell_type": "markdown",
      "metadata": {
        "id": "dedb4057"
      },
      "source": [
        "**추론**:\n",
        "정의된 CloudDataset 클래스와 Albumentations 변환, 그리고 지정된 매개 변수를 사용하여 학습, 검증 및 테스트 데이터 세트에 대한 DataLoader 인스턴스를 생성합니다."
      ]
    },
    {
      "cell_type": "code",
      "execution_count": 26,
      "metadata": {
        "colab": {
          "base_uri": "https://localhost:8080/"
        },
        "id": "60cdf83b",
        "outputId": "f39c0fd0-e212-44ea-8caf-a524a19aaa77"
      },
      "outputs": [
        {
          "name": "stdout",
          "output_type": "stream",
          "text": [
            "Train DataLoader (with augmentation) created with 368 batches of size 16\n",
            "Validation DataLoader (with resize) created with 79 batches of size 16\n",
            "Test DataLoader (with resize) created with 79 batches of size 16\n"
          ]
        }
      ],
      "source": [
        "from torch.utils.data import DataLoader\n",
        "from sklearn.model_selection import train_test_split\n",
        "import os\n",
        "\n",
        "# Assume image_dir and mask_dir are correctly defined from previous steps\n",
        "# Get list of image and mask files, looking for .TIF extension\n",
        "image_files_list = [os.path.join(image_dir, f) for f in os.listdir(image_dir) if f.endswith('.TIF')]\n",
        "mask_files_list = [os.path.join(mask_dir, f) for f in os.listdir(mask_dir) if f.endswith('.TIF')]\n",
        "\n",
        "# Ensure correspondence (assuming file names match except for prefix and extension)\n",
        "image_files_list.sort()\n",
        "mask_files_list.sort()\n",
        "\n",
        "# Check if lists are empty\n",
        "if not image_files_list or not mask_files_list:\n",
        "    print(\"Error: Image or mask file lists are empty after searching for .TIF files. Cannot create data loaders.\")\n",
        "else:\n",
        "    # Split data into training, validation, and test sets\n",
        "    train_images, temp_images, train_masks, temp_masks = train_test_split(\n",
        "        image_files_list, mask_files_list, test_size=0.3, random_state=42\n",
        "    )\n",
        "\n",
        "    val_images, test_images, val_masks, test_masks = train_test_split(\n",
        "        temp_images, temp_masks, test_size=0.5, random_state=42\n",
        "    )\n",
        "\n",
        "    # Create dataset instances\n",
        "    train_dataset = CloudDataset(train_images, train_masks, preprocess_fn=load_and_preprocess_image_mask, transform=train_transform)\n",
        "    val_dataset = CloudDataset(val_images, val_masks, preprocess_fn=load_and_preprocess_image_mask, transform=val_test_transform)\n",
        "    test_dataset = CloudDataset(test_images, test_masks, preprocess_fn=load_and_preprocess_image_mask, transform=val_test_transform)\n",
        "\n",
        "    # Define parameters for DataLoaders\n",
        "    batch_size = 16\n",
        "    num_workers = os.cpu_count() // 2 if os.cpu_count() else 2\n",
        "\n",
        "    # Create DataLoaders\n",
        "    train_loader = DataLoader(train_dataset, batch_size=batch_size, shuffle=True, num_workers=num_workers)\n",
        "    val_loader = DataLoader(val_dataset, batch_size=batch_size, shuffle=False, num_workers=num_workers)\n",
        "    test_loader = DataLoader(test_dataset, batch_size=batch_size, shuffle=False, num_workers=num_workers)\n",
        "\n",
        "    print(f\"Train DataLoader (with augmentation) created with {len(train_loader)} batches of size {batch_size}\")\n",
        "    print(f\"Validation DataLoader (with resize) created with {len(val_loader)} batches of size {batch_size}\")\n",
        "    print(f\"Test DataLoader (with resize) created with {len(test_loader)} batches of size {batch_size}\")"
      ]
    },
    {
      "cell_type": "markdown",
      "metadata": {
        "id": "e8af7fb1"
      },
      "source": [
        "## 데이터 확인\n",
        "\n",
        "### Subtask:\n",
        "데이터 로더에서 샘플 배치를 가져와 데이터와 마스크가 올바르게 로드되고 전처리되었는지 확인합니다."
      ]
    },
    {
      "cell_type": "markdown",
      "metadata": {
        "id": "55897c71"
      },
      "source": [
        "**추론**:\n",
        "학습 데이터 로더에서 배치를 가져와 모양, 데이터 유형, 픽셀 범위를 검사하고 시각화하여 올바른 로딩 및 전처리를 확인합니다."
      ]
    },
    {
      "cell_type": "code",
      "execution_count": 27,
      "metadata": {
        "colab": {
          "base_uri": "https://localhost:8080/",
          "height": 1000
        },
        "id": "b65d959b",
        "outputId": "a637dc91-556e-4570-f7f3-072ed2ab65c2"
      },
      "outputs": [
        {
          "name": "stdout",
          "output_type": "stream",
          "text": [
            "Successfully loaded a batch from the train_loader.\n",
            "Image batch shape: torch.Size([16, 3, 256, 256])\n",
            "Mask batch shape: torch.Size([16, 1, 256, 256])\n",
            "Image batch dtype: torch.float32\n",
            "Mask batch dtype: torch.float32\n",
            "Image batch pixel range: 0.0 0.9485768675804138\n",
            "Mask batch pixel range: 0.0 1.0\n"
          ]
        },
        {
          "data": {
            "image/png": "[encoded data removed]",
            "text/plain": [
              "<Figure size 1200x1200 with 8 Axes>"
            ]
          },
          "metadata": {},
          "output_type": "display_data"
        }
      ],
      "source": [
        "import matplotlib.pyplot as plt\n",
        "import numpy as np\n",
        "import torch\n",
        "\n",
        "# Get a sample batch from the training data loader\n",
        "try:\n",
        "    images, masks = next(iter(train_loader))\n",
        "\n",
        "    print(\"Successfully loaded a batch from the train_loader.\")\n",
        "\n",
        "    # Print the shape of the image and mask tensors\n",
        "    print(\"Image batch shape:\", images.shape)\n",
        "    print(\"Mask batch shape:\", masks.shape)\n",
        "\n",
        "    # Print the data type of the image and mask tensors\n",
        "    print(\"Image batch dtype:\", images.dtype)\n",
        "    print(\"Mask batch dtype:\", masks.dtype)\n",
        "\n",
        "    # Print the pixel value range of the image and mask tensors\n",
        "    print(\"Image batch pixel range:\", torch.min(images).item(), torch.max(images).item())\n",
        "    print(\"Mask batch pixel range:\", torch.min(masks).item(), torch.max(masks).item())\n",
        "\n",
        "    # Visualize a few sample images and masks from the batch\n",
        "    num_samples_to_visualize = min(4, images.shape[0])\n",
        "\n",
        "    plt.figure(figsize=(12, num_samples_to_visualize * 3))\n",
        "\n",
        "    for i in range(num_samples_to_visualize):\n",
        "        image = images[i].permute(1, 2, 0).numpy()\n",
        "        mask = masks[i].squeeze().numpy()\n",
        "\n",
        "        plt.subplot(num_samples_to_visualize, 2, 2 * i + 1)\n",
        "        plt.imshow(image)\n",
        "        plt.title(f'Sample Image {i+1}')\n",
        "        plt.axis('off')\n",
        "\n",
        "        plt.subplot(num_samples_to_visualize, 2, 2 * i + 2)\n",
        "        plt.imshow(mask, cmap='gray')\n",
        "        plt.title(f'Sample Mask {i+1}')\n",
        "        plt.axis('off')\n",
        "\n",
        "    plt.tight_layout()\n",
        "    plt.show()\n",
        "\n",
        "except StopIteration:\n",
        "    print(\"Error: The train_loader is empty. Cannot get a batch.\")\n",
        "except Exception as e:\n",
        "    print(f\"An error occurred while getting or processing the batch: {e}\")"
      ]
    },
    {
      "cell_type": "markdown",
      "metadata": {
        "id": "0162c612"
      },
      "source": [
        "## 모델 아키텍처 정의\n",
        "\n",
        "### Subtask:\n",
        "U-Net 모델 아키텍처를 정의하고 EfficientNet-B0를 인코더로 통합합니다."
      ]
    },
    {
      "cell_type": "markdown",
      "metadata": {
        "id": "055817ef"
      },
      "source": [
        "**추론**:\n",
        "`segmentation_models_pytorch` 라이브러리를 사용하여 EfficientNet-B0 인코더로 U-Net 모델을 정의하고, 모델 인스턴스를 생성한 후 적절한 장치로 이동합니다."
      ]
    },
    {
      "cell_type": "code",
      "execution_count": 28,
      "metadata": {
        "colab": {
          "base_uri": "https://localhost:8080/",
          "height": 1000,
          "referenced_widgets": [
            "50c1fa6062454e139b9349d6d81a17dd",
            "f22aa79abc524c97be2ffba45a46e0b9",
            "93c404dfee044fffb7fa1f08d2764c2e",
            "5bff60fd445e43008dd33777d2e411e3",
            "08afe0b0e9ad46258ee9f3f8eaa7a3f5",
            "60ec8e7131d64640abcba4741359982c",
            "aea7438e8b404498a58eceec69072113",
            "cc162056fa6e4437ab9e9afb66c2abed",
            "9762c561baa24aeda52949bb1a0d33da",
            "ebf5241d54f948a480a285522fad059d",
            "3068c25140514838931738713f73299e",
            "d3b4dfd68f224ed4b35e1786321d61e2",
            "41b00ad99a3343ec8e35cc9b3ffb105e",
            "989480e6ee554c838513f29aecde6579",
            "a9c38714979c40aa93264b10103c26bf",
            "9abfb55b8e914da1afa7c81964e82ea0",
            "3bb0954398e8433cbba4e8f4699842f3",
            "a7841098983c42f7a1789c47b4994530",
            "6693aed3023549dba654c126e40c0eab",
            "59a9c3b7349441258954ebfc9cc05043",
            "cb5f8677cc0a40c3b1e3345133124d3a",
            "134106e5fde1445fb00313f0d34fd981"
          ]
        },
        "id": "bba54eae",
        "outputId": "25a4bdfc-06e5-42e6-9b44-03cbd7f2aa14"
      },
      "outputs": [
        {
          "name": "stdout",
          "output_type": "stream",
          "text": [
            "Using device: cuda\n"
          ]
        },
        {
          "data": {
            "text/plain": [
              "Unet(\n",
              "  (encoder): EfficientNetEncoder(\n",
              "    (_conv_stem): Conv2dStaticSamePadding(\n",
              "      3, 32, kernel_size=(3, 3), stride=(2, 2), bias=False\n",
              "      (static_padding): ZeroPad2d((0, 1, 0, 1))\n",
              "    )\n",
              "    (_bn0): BatchNorm2d(32, eps=0.001, momentum=0.010000000000000009, affine=True, track_running_stats=True)\n",
              "    (_blocks): ModuleList(\n",
              "      (0): MBConvBlock(\n",
              "        (_expand_conv): Identity()\n",
              "        (_bn0): Identity()\n",
              "        (_depthwise_conv): Conv2dStaticSamePadding(\n",
              "          32, 32, kernel_size=(3, 3), stride=[1, 1], groups=32, bias=False\n",
              "          (static_padding): ZeroPad2d((1, 1, 1, 1))\n",
              "        )\n",
              "        (_bn1): BatchNorm2d(32, eps=0.001, momentum=0.010000000000000009, affine=True, track_running_stats=True)\n",
              "        (_se_reduce): Conv2dStaticSamePadding(\n",
              "          32, 8, kernel_size=(1, 1), stride=(1, 1)\n",
              "          (static_padding): Identity()\n",
              "        )\n",
              "        (_se_expand): Conv2dStaticSamePadding(\n",
              "          8, 32, kernel_size=(1, 1), stride=(1, 1)\n",
              "          (static_padding): Identity()\n",
              "        )\n",
              "        (_project_conv): Conv2dStaticSamePadding(\n",
              "          32, 16, kernel_size=(1, 1), stride=(1, 1), bias=False\n",
              "          (static_padding): Identity()\n",
              "        )\n",
              "        (_bn2): BatchNorm2d(16, eps=0.001, momentum=0.010000000000000009, affine=True, track_running_stats=True)\n",
              "        (_swish): SiLU()\n",
              "      )\n",
              "      (1): MBConvBlock(\n",
              "        (_expand_conv): Conv2dStaticSamePadding(\n",
              "          16, 96, kernel_size=(1, 1), stride=(1, 1), bias=False\n",
              "          (static_padding): Identity()\n",
              "        )\n",
              "        (_bn0): BatchNorm2d(96, eps=0.001, momentum=0.010000000000000009, affine=True, track_running_stats=True)\n",
              "        (_depthwise_conv): Conv2dStaticSamePadding(\n",
              "          96, 96, kernel_size=(3, 3), stride=[2, 2], groups=96, bias=False\n",
              "          (static_padding): ZeroPad2d((0, 1, 0, 1))\n",
              "        )\n",
              "        (_bn1): BatchNorm2d(96, eps=0.001, momentum=0.010000000000000009, affine=True, track_running_stats=True)\n",
              "        (_se_reduce): Conv2dStaticSamePadding(\n",
              "          96, 4, kernel_size=(1, 1), stride=(1, 1)\n",
              "          (static_padding): Identity()\n",
              "        )\n",
              "        (_se_expand): Conv2dStaticSamePadding(\n",
              "          4, 96, kernel_size=(1, 1), stride=(1, 1)\n",
              "          (static_padding): Identity()\n",
              "        )\n",
              "        (_project_conv): Conv2dStaticSamePadding(\n",
              "          96, 24, kernel_size=(1, 1), stride=(1, 1), bias=False\n",
              "          (static_padding): Identity()\n",
              "        )\n",
              "        (_bn2): BatchNorm2d(24, eps=0.001, momentum=0.010000000000000009, affine=True, track_running_stats=True)\n",
              "        (_swish): SiLU()\n",
              "      )\n",
              "      (2): MBConvBlock(\n",
              "        (_expand_conv): Conv2dStaticSamePadding(\n",
              "          24, 144, kernel_size=(1, 1), stride=(1, 1), bias=False\n",
              "          (static_padding): Identity()\n",
              "        )\n",
              "        (_bn0): BatchNorm2d(144, eps=0.001, momentum=0.010000000000000009, affine=True, track_running_stats=True)\n",
              "        (_depthwise_conv): Conv2dStaticSamePadding(\n",
              "          144, 144, kernel_size=(3, 3), stride=(1, 1), groups=144, bias=False\n",
              "          (static_padding): ZeroPad2d((1, 1, 1, 1))\n",
              "        )\n",
              "        (_bn1): BatchNorm2d(144, eps=0.001, momentum=0.010000000000000009, affine=True, track_running_stats=True)\n",
              "        (_se_reduce): Conv2dStaticSamePadding(\n",
              "          144, 6, kernel_size=(1, 1), stride=(1, 1)\n",
              "          (static_padding): Identity()\n",
              "        )\n",
              "        (_se_expand): Conv2dStaticSamePadding(\n",
              "          6, 144, kernel_size=(1, 1), stride=(1, 1)\n",
              "          (static_padding): Identity()\n",
              "        )\n",
              "        (_project_conv): Conv2dStaticSamePadding(\n",
              "          144, 24, kernel_size=(1, 1), stride=(1, 1), bias=False\n",
              "          (static_padding): Identity()\n",
              "        )\n",
              "        (_bn2): BatchNorm2d(24, eps=0.001, momentum=0.010000000000000009, affine=True, track_running_stats=True)\n",
              "        (_swish): SiLU()\n",
              "      )\n",
              "      (3): MBConvBlock(\n",
              "        (_expand_conv): Conv2dStaticSamePadding(\n",
              "          24, 144, kernel_size=(1, 1), stride=(1, 1), bias=False\n",
              "          (static_padding): Identity()\n",
              "        )\n",
              "        (_bn0): BatchNorm2d(144, eps=0.001, momentum=0.010000000000000009, affine=True, track_running_stats=True)\n",
              "        (_depthwise_conv): Conv2dStaticSamePadding(\n",
              "          144, 144, kernel_size=(5, 5), stride=[2, 2], groups=144, bias=False\n",
              "          (static_padding): ZeroPad2d((1, 2, 1, 2))\n",
              "        )\n",
              "        (_bn1): BatchNorm2d(144, eps=0.001, momentum=0.010000000000000009, affine=True, track_running_stats=True)\n",
              "        (_se_reduce): Conv2dStaticSamePadding(\n",
              "          144, 6, kernel_size=(1, 1), stride=(1, 1)\n",
              "          (static_padding): Identity()\n",
              "        )\n",
              "        (_se_expand): Conv2dStaticSamePadding(\n",
              "          6, 144, kernel_size=(1, 1), stride=(1, 1)\n",
              "          (static_padding): Identity()\n",
              "        )\n",
              "        (_project_conv): Conv2dStaticSamePadding(\n",
              "          144, 40, kernel_size=(1, 1), stride=(1, 1), bias=False\n",
              "          (static_padding): Identity()\n",
              "        )\n",
              "        (_bn2): BatchNorm2d(40, eps=0.001, momentum=0.010000000000000009, affine=True, track_running_stats=True)\n",
              "        (_swish): SiLU()\n",
              "      )\n",
              "      (4): MBConvBlock(\n",
              "        (_expand_conv): Conv2dStaticSamePadding(\n",
              "          40, 240, kernel_size=(1, 1), stride=(1, 1), bias=False\n",
              "          (static_padding): Identity()\n",
              "        )\n",
              "        (_bn0): BatchNorm2d(240, eps=0.001, momentum=0.010000000000000009, affine=True, track_running_stats=True)\n",
              "        (_depthwise_conv): Conv2dStaticSamePadding(\n",
              "          240, 240, kernel_size=(5, 5), stride=(1, 1), groups=240, bias=False\n",
              "          (static_padding): ZeroPad2d((2, 2, 2, 2))\n",
              "        )\n",
              "        (_bn1): BatchNorm2d(240, eps=0.001, momentum=0.010000000000000009, affine=True, track_running_stats=True)\n",
              "        (_se_reduce): Conv2dStaticSamePadding(\n",
              "          240, 10, kernel_size=(1, 1), stride=(1, 1)\n",
              "          (static_padding): Identity()\n",
              "        )\n",
              "        (_se_expand): Conv2dStaticSamePadding(\n",
              "          10, 240, kernel_size=(1, 1), stride=(1, 1)\n",
              "          (static_padding): Identity()\n",
              "        )\n",
              "        (_project_conv): Conv2dStaticSamePadding(\n",
              "          240, 40, kernel_size=(1, 1), stride=(1, 1), bias=False\n",
              "          (static_padding): Identity()\n",
              "        )\n",
              "        (_bn2): BatchNorm2d(40, eps=0.001, momentum=0.010000000000000009, affine=True, track_running_stats=True)\n",
              "        (_swish): SiLU()\n",
              "      )\n",
              "      (5): MBConvBlock(\n",
              "        (_expand_conv): Conv2dStaticSamePadding(\n",
              "          40, 240, kernel_size=(1, 1), stride=(1, 1), bias=False\n",
              "          (static_padding): Identity()\n",
              "        )\n",
              "        (_bn0): BatchNorm2d(240, eps=0.001, momentum=0.010000000000000009, affine=True, track_running_stats=True)\n",
              "        (_depthwise_conv): Conv2dStaticSamePadding(\n",
              "          240, 240, kernel_size=(3, 3), stride=[2, 2], groups=240, bias=False\n",
              "          (static_padding): ZeroPad2d((0, 1, 0, 1))\n",
              "        )\n",
              "        (_bn1): BatchNorm2d(240, eps=0.001, momentum=0.010000000000000009, affine=True, track_running_stats=True)\n",
              "        (_se_reduce): Conv2dStaticSamePadding(\n",
              "          240, 10, kernel_size=(1, 1), stride=(1, 1)\n",
              "          (static_padding): Identity()\n",
              "        )\n",
              "        (_se_expand): Conv2dStaticSamePadding(\n",
              "          10, 240, kernel_size=(1, 1), stride=(1, 1)\n",
              "          (static_padding): Identity()\n",
              "        )\n",
              "        (_project_conv): Conv2dStaticSamePadding(\n",
              "          240, 80, kernel_size=(1, 1), stride=(1, 1), bias=False\n",
              "          (static_padding): Identity()\n",
              "        )\n",
              "        (_bn2): BatchNorm2d(80, eps=0.001, momentum=0.010000000000000009, affine=True, track_running_stats=True)\n",
              "        (_swish): SiLU()\n",
              "      )\n",
              "      (6-7): 2 x MBConvBlock(\n",
              "        (_expand_conv): Conv2dStaticSamePadding(\n",
              "          80, 480, kernel_size=(1, 1), stride=(1, 1), bias=False\n",
              "          (static_padding): Identity()\n",
              "        )\n",
              "        (_bn0): BatchNorm2d(480, eps=0.001, momentum=0.010000000000000009, affine=True, track_running_stats=True)\n",
              "        (_depthwise_conv): Conv2dStaticSamePadding(\n",
              "          480, 480, kernel_size=(3, 3), stride=(1, 1), groups=480, bias=False\n",
              "          (static_padding): ZeroPad2d((1, 1, 1, 1))\n",
              "        )\n",
              "        (_bn1): BatchNorm2d(480, eps=0.001, momentum=0.010000000000000009, affine=True, track_running_stats=True)\n",
              "        (_se_reduce): Conv2dStaticSamePadding(\n",
              "          480, 20, kernel_size=(1, 1), stride=(1, 1)\n",
              "          (static_padding): Identity()\n",
              "        )\n",
              "        (_se_expand): Conv2dStaticSamePadding(\n",
              "          20, 480, kernel_size=(1, 1), stride=(1, 1)\n",
              "          (static_padding): Identity()\n",
              "        )\n",
              "        (_project_conv): Conv2dStaticSamePadding(\n",
              "          480, 80, kernel_size=(1, 1), stride=(1, 1), bias=False\n",
              "          (static_padding): Identity()\n",
              "        )\n",
              "        (_bn2): BatchNorm2d(80, eps=0.001, momentum=0.010000000000000009, affine=True, track_running_stats=True)\n",
              "        (_swish): SiLU()\n",
              "      )\n",
              "      (8): MBConvBlock(\n",
              "        (_expand_conv): Conv2dStaticSamePadding(\n",
              "          80, 480, kernel_size=(1, 1), stride=(1, 1), bias=False\n",
              "          (static_padding): Identity()\n",
              "        )\n",
              "        (_bn0): BatchNorm2d(480, eps=0.001, momentum=0.010000000000000009, affine=True, track_running_stats=True)\n",
              "        (_depthwise_conv): Conv2dStaticSamePadding(\n",
              "          480, 480, kernel_size=(5, 5), stride=[1, 1], groups=480, bias=False\n",
              "          (static_padding): ZeroPad2d((2, 2, 2, 2))\n",
              "        )\n",
              "        (_bn1): BatchNorm2d(480, eps=0.001, momentum=0.010000000000000009, affine=True, track_running_stats=True)\n",
              "        (_se_reduce): Conv2dStaticSamePadding(\n",
              "          480, 20, kernel_size=(1, 1), stride=(1, 1)\n",
              "          (static_padding): Identity()\n",
              "        )\n",
              "        (_se_expand): Conv2dStaticSamePadding(\n",
              "          20, 480, kernel_size=(1, 1), stride=(1, 1)\n",
              "          (static_padding): Identity()\n",
              "        )\n",
              "        (_project_conv): Conv2dStaticSamePadding(\n",
              "          480, 112, kernel_size=(1, 1), stride=(1, 1), bias=False\n",
              "          (static_padding): Identity()\n",
              "        )\n",
              "        (_bn2): BatchNorm2d(112, eps=0.001, momentum=0.010000000000000009, affine=True, track_running_stats=True)\n",
              "        (_swish): SiLU()\n",
              "      )\n",
              "      (9-10): 2 x MBConvBlock(\n",
              "        (_expand_conv): Conv2dStaticSamePadding(\n",
              "          112, 672, kernel_size=(1, 1), stride=(1, 1), bias=False\n",
              "          (static_padding): Identity()\n",
              "        )\n",
              "        (_bn0): BatchNorm2d(672, eps=0.001, momentum=0.010000000000000009, affine=True, track_running_stats=True)\n",
              "        (_depthwise_conv): Conv2dStaticSamePadding(\n",
              "          672, 672, kernel_size=(5, 5), stride=(1, 1), groups=672, bias=False\n",
              "          (static_padding): ZeroPad2d((2, 2, 2, 2))\n",
              "        )\n",
              "        (_bn1): BatchNorm2d(672, eps=0.001, momentum=0.010000000000000009, affine=True, track_running_stats=True)\n",
              "        (_se_reduce): Conv2dStaticSamePadding(\n",
              "          672, 28, kernel_size=(1, 1), stride=(1, 1)\n",
              "          (static_padding): Identity()\n",
              "        )\n",
              "        (_se_expand): Conv2dStaticSamePadding(\n",
              "          28, 672, kernel_size=(1, 1), stride=(1, 1)\n",
              "          (static_padding): Identity()\n",
              "        )\n",
              "        (_project_conv): Conv2dStaticSamePadding(\n",
              "          672, 112, kernel_size=(1, 1), stride=(1, 1), bias=False\n",
              "          (static_padding): Identity()\n",
              "        )\n",
              "        (_bn2): BatchNorm2d(112, eps=0.001, momentum=0.010000000000000009, affine=True, track_running_stats=True)\n",
              "        (_swish): SiLU()\n",
              "      )\n",
              "      (11): MBConvBlock(\n",
              "        (_expand_conv): Conv2dStaticSamePadding(\n",
              "          112, 672, kernel_size=(1, 1), stride=(1, 1), bias=False\n",
              "          (static_padding): Identity()\n",
              "        )\n",
              "        (_bn0): BatchNorm2d(672, eps=0.001, momentum=0.010000000000000009, affine=True, track_running_stats=True)\n",
              "        (_depthwise_conv): Conv2dStaticSamePadding(\n",
              "          672, 672, kernel_size=(5, 5), stride=[2, 2], groups=672, bias=False\n",
              "          (static_padding): ZeroPad2d((1, 2, 1, 2))\n",
              "        )\n",
              "        (_bn1): BatchNorm2d(672, eps=0.001, momentum=0.010000000000000009, affine=True, track_running_stats=True)\n",
              "        (_se_reduce): Conv2dStaticSamePadding(\n",
              "          672, 28, kernel_size=(1, 1), stride=(1, 1)\n",
              "          (static_padding): Identity()\n",
              "        )\n",
              "        (_se_expand): Conv2dStaticSamePadding(\n",
              "          28, 672, kernel_size=(1, 1), stride=(1, 1)\n",
              "          (static_padding): Identity()\n",
              "        )\n",
              "        (_project_conv): Conv2dStaticSamePadding(\n",
              "          672, 192, kernel_size=(1, 1), stride=(1, 1), bias=False\n",
              "          (static_padding): Identity()\n",
              "        )\n",
              "        (_bn2): BatchNorm2d(192, eps=0.001, momentum=0.010000000000000009, affine=True, track_running_stats=True)\n",
              "        (_swish): SiLU()\n",
              "      )\n",
              "      (12-14): 3 x MBConvBlock(\n",
              "        (_expand_conv): Conv2dStaticSamePadding(\n",
              "          192, 1152, kernel_size=(1, 1), stride=(1, 1), bias=False\n",
              "          (static_padding): Identity()\n",
              "        )\n",
              "        (_bn0): BatchNorm2d(1152, eps=0.001, momentum=0.010000000000000009, affine=True, track_running_stats=True)\n",
              "        (_depthwise_conv): Conv2dStaticSamePadding(\n",
              "          1152, 1152, kernel_size=(5, 5), stride=(1, 1), groups=1152, bias=False\n",
              "          (static_padding): ZeroPad2d((2, 2, 2, 2))\n",
              "        )\n",
              "        (_bn1): BatchNorm2d(1152, eps=0.001, momentum=0.010000000000000009, affine=True, track_running_stats=True)\n",
              "        (_se_reduce): Conv2dStaticSamePadding(\n",
              "          1152, 48, kernel_size=(1, 1), stride=(1, 1)\n",
              "          (static_padding): Identity()\n",
              "        )\n",
              "        (_se_expand): Conv2dStaticSamePadding(\n",
              "          48, 1152, kernel_size=(1, 1), stride=(1, 1)\n",
              "          (static_padding): Identity()\n",
              "        )\n",
              "        (_project_conv): Conv2dStaticSamePadding(\n",
              "          1152, 192, kernel_size=(1, 1), stride=(1, 1), bias=False\n",
              "          (static_padding): Identity()\n",
              "        )\n",
              "        (_bn2): BatchNorm2d(192, eps=0.001, momentum=0.010000000000000009, affine=True, track_running_stats=True)\n",
              "        (_swish): SiLU()\n",
              "      )\n",
              "      (15): MBConvBlock(\n",
              "        (_expand_conv): Conv2dStaticSamePadding(\n",
              "          192, 1152, kernel_size=(1, 1), stride=(1, 1), bias=False\n",
              "          (static_padding): Identity()\n",
              "        )\n",
              "        (_bn0): BatchNorm2d(1152, eps=0.001, momentum=0.010000000000000009, affine=True, track_running_stats=True)\n",
              "        (_depthwise_conv): Conv2dStaticSamePadding(\n",
              "          1152, 1152, kernel_size=(3, 3), stride=[1, 1], groups=1152, bias=False\n",
              "          (static_padding): ZeroPad2d((1, 1, 1, 1))\n",
              "        )\n",
              "        (_bn1): BatchNorm2d(1152, eps=0.001, momentum=0.010000000000000009, affine=True, track_running_stats=True)\n",
              "        (_se_reduce): Conv2dStaticSamePadding(\n",
              "          1152, 48, kernel_size=(1, 1), stride=(1, 1)\n",
              "          (static_padding): Identity()\n",
              "        )\n",
              "        (_se_expand): Conv2dStaticSamePadding(\n",
              "          48, 1152, kernel_size=(1, 1), stride=(1, 1)\n",
              "          (static_padding): Identity()\n",
              "        )\n",
              "        (_project_conv): Conv2dStaticSamePadding(\n",
              "          1152, 320, kernel_size=(1, 1), stride=(1, 1), bias=False\n",
              "          (static_padding): Identity()\n",
              "        )\n",
              "        (_bn2): BatchNorm2d(320, eps=0.001, momentum=0.010000000000000009, affine=True, track_running_stats=True)\n",
              "        (_swish): SiLU()\n",
              "      )\n",
              "    )\n",
              "    (_conv_head): Conv2dStaticSamePadding(\n",
              "      320, 1280, kernel_size=(1, 1), stride=(1, 1), bias=False\n",
              "      (static_padding): Identity()\n",
              "    )\n",
              "    (_bn1): BatchNorm2d(1280, eps=0.001, momentum=0.010000000000000009, affine=True, track_running_stats=True)\n",
              "    (_avg_pooling): AdaptiveAvgPool2d(output_size=1)\n",
              "    (_dropout): Dropout(p=0.2, inplace=False)\n",
              "    (_swish): SiLU()\n",
              "  )\n",
              "  (decoder): UnetDecoder(\n",
              "    (center): Identity()\n",
              "    (blocks): ModuleList(\n",
              "      (0): UnetDecoderBlock(\n",
              "        (conv1): Conv2dReLU(\n",
              "          (0): Conv2d(432, 256, kernel_size=(3, 3), stride=(1, 1), padding=(1, 1), bias=False)\n",
              "          (1): BatchNorm2d(256, eps=1e-05, momentum=0.1, affine=True, track_running_stats=True)\n",
              "          (2): ReLU(inplace=True)\n",
              "        )\n",
              "        (attention1): Attention(\n",
              "          (attention): Identity()\n",
              "        )\n",
              "        (conv2): Conv2dReLU(\n",
              "          (0): Conv2d(256, 256, kernel_size=(3, 3), stride=(1, 1), padding=(1, 1), bias=False)\n",
              "          (1): BatchNorm2d(256, eps=1e-05, momentum=0.1, affine=True, track_running_stats=True)\n",
              "          (2): ReLU(inplace=True)\n",
              "        )\n",
              "        (attention2): Attention(\n",
              "          (attention): Identity()\n",
              "        )\n",
              "      )\n",
              "      (1): UnetDecoderBlock(\n",
              "        (conv1): Conv2dReLU(\n",
              "          (0): Conv2d(296, 128, kernel_size=(3, 3), stride=(1, 1), padding=(1, 1), bias=False)\n",
              "          (1): BatchNorm2d(128, eps=1e-05, momentum=0.1, affine=True, track_running_stats=True)\n",
              "          (2): ReLU(inplace=True)\n",
              "        )\n",
              "        (attention1): Attention(\n",
              "          (attention): Identity()\n",
              "        )\n",
              "        (conv2): Conv2dReLU(\n",
              "          (0): Conv2d(128, 128, kernel_size=(3, 3), stride=(1, 1), padding=(1, 1), bias=False)\n",
              "          (1): BatchNorm2d(128, eps=1e-05, momentum=0.1, affine=True, track_running_stats=True)\n",
              "          (2): ReLU(inplace=True)\n",
              "        )\n",
              "        (attention2): Attention(\n",
              "          (attention): Identity()\n",
              "        )\n",
              "      )\n",
              "      (2): UnetDecoderBlock(\n",
              "        (conv1): Conv2dReLU(\n",
              "          (0): Conv2d(152, 64, kernel_size=(3, 3), stride=(1, 1), padding=(1, 1), bias=False)\n",
              "          (1): BatchNorm2d(64, eps=1e-05, momentum=0.1, affine=True, track_running_stats=True)\n",
              "          (2): ReLU(inplace=True)\n",
              "        )\n",
              "        (attention1): Attention(\n",
              "          (attention): Identity()\n",
              "        )\n",
              "        (conv2): Conv2dReLU(\n",
              "          (0): Conv2d(64, 64, kernel_size=(3, 3), stride=(1, 1), padding=(1, 1), bias=False)\n",
              "          (1): BatchNorm2d(64, eps=1e-05, momentum=0.1, affine=True, track_running_stats=True)\n",
              "          (2): ReLU(inplace=True)\n",
              "        )\n",
              "        (attention2): Attention(\n",
              "          (attention): Identity()\n",
              "        )\n",
              "      )\n",
              "      (3): UnetDecoderBlock(\n",
              "        (conv1): Conv2dReLU(\n",
              "          (0): Conv2d(96, 32, kernel_size=(3, 3), stride=(1, 1), padding=(1, 1), bias=False)\n",
              "          (1): BatchNorm2d(32, eps=1e-05, momentum=0.1, affine=True, track_running_stats=True)\n",
              "          (2): ReLU(inplace=True)\n",
              "        )\n",
              "        (attention1): Attention(\n",
              "          (attention): Identity()\n",
              "        )\n",
              "        (conv2): Conv2dReLU(\n",
              "          (0): Conv2d(32, 32, kernel_size=(3, 3), stride=(1, 1), padding=(1, 1), bias=False)\n",
              "          (1): BatchNorm2d(32, eps=1e-05, momentum=0.1, affine=True, track_running_stats=True)\n",
              "          (2): ReLU(inplace=True)\n",
              "        )\n",
              "        (attention2): Attention(\n",
              "          (attention): Identity()\n",
              "        )\n",
              "      )\n",
              "      (4): UnetDecoderBlock(\n",
              "        (conv1): Conv2dReLU(\n",
              "          (0): Conv2d(32, 16, kernel_size=(3, 3), stride=(1, 1), padding=(1, 1), bias=False)\n",
              "          (1): BatchNorm2d(16, eps=1e-05, momentum=0.1, affine=True, track_running_stats=True)\n",
              "          (2): ReLU(inplace=True)\n",
              "        )\n",
              "        (attention1): Attention(\n",
              "          (attention): Identity()\n",
              "        )\n",
              "        (conv2): Conv2dReLU(\n",
              "          (0): Conv2d(16, 16, kernel_size=(3, 3), stride=(1, 1), padding=(1, 1), bias=False)\n",
              "          (1): BatchNorm2d(16, eps=1e-05, momentum=0.1, affine=True, track_running_stats=True)\n",
              "          (2): ReLU(inplace=True)\n",
              "        )\n",
              "        (attention2): Attention(\n",
              "          (attention): Identity()\n",
              "        )\n",
              "      )\n",
              "    )\n",
              "  )\n",
              "  (segmentation_head): SegmentationHead(\n",
              "    (0): Conv2d(16, 1, kernel_size=(3, 3), stride=(1, 1), padding=(1, 1))\n",
              "    (1): Identity()\n",
              "    (2): Activation(\n",
              "      (activation): Identity()\n",
              "    )\n",
              "  )\n",
              ")"
            ]
          },
          "execution_count": 28,
          "metadata": {},
          "output_type": "execute_result"
        }
      ],
      "source": [
        "import torch\n",
        "import torch.nn as nn\n",
        "import segmentation_models_pytorch as sm\n",
        "\n",
        "# Define the U-Net model with EfficientNet-B0 encoder\n",
        "model = sm.Unet(\n",
        "    encoder_name=\"efficientnet-b0\",\n",
        "    encoder_weights=\"imagenet\", # Use pre-trained imagenet weights for the encoder\n",
        "    in_channels=3,\n",
        "    classes=1, # 1 class for binary segmentation (cloud vs not cloud)\n",
        ")\n",
        "\n",
        "# Determine the device to use (GPU if available, otherwise CPU)\n",
        "device = torch.device(\"cuda\" if torch.cuda.is_available() else \"cpu\")\n",
        "print(f\"Using device: {device}\")\n",
        "\n",
        "# Move the model to the specified device\n",
        "model.to(device)\n",
        "\n",
        "# print(model) # Optional: Print model structure if needed"
      ]
    },
    {
      "cell_type": "markdown",
      "metadata": {
        "id": "6f5d7dd0"
      },
      "source": [
        "## 손실 함수 및 최적화 도구 설정\n",
        "\n",
        "### Subtask:\n",
        "이미지 세그멘테이션 작업에 적합한 손실 함수(예: Dice Loss, Binary Cross-Entropy)와 최적화 도구(예: Adam)를 설정합니다."
      ]
    },
    {
      "cell_type": "markdown",
      "metadata": {
        "id": "ca00650d"
      },
      "source": [
        "**추론**:\n",
        "이진 세분화 작업에 적합한 손실 함수(Binary Cross-Entropy with Logits Loss 및 Dice Loss)와 최적화 도구(Adam)를 정의합니다."
      ]
    },
    {
      "cell_type": "code",
      "execution_count": 29,
      "metadata": {
        "colab": {
          "base_uri": "https://localhost:8080/"
        },
        "id": "9abb23f0",
        "outputId": "1f778a49-da79-482f-a087-0a47001d3ca7"
      },
      "outputs": [
        {
          "name": "stdout",
          "output_type": "stream",
          "text": [
            "Loss function and optimizer defined.\n"
          ]
        }
      ],
      "source": [
        "import torch.nn as nn\n",
        "import torch.optim as optim\n",
        "import segmentation_models_pytorch.losses as smp_losses\n",
        "\n",
        "# Define the loss function\n",
        "bce_loss = nn.BCEWithLogitsLoss()\n",
        "dice_loss = smp_losses.DiceLoss(mode='binary')\n",
        "\n",
        "# Combine the losses\n",
        "def combined_loss(outputs, targets):\n",
        "    # Ensure targets have the same shape as outputs for BCEWithLogitsLoss\n",
        "    # outputs are (N, 1, H, W), targets are (N, 1, H, W)\n",
        "    # BCEWithLogitsLoss expects targets to be the same shape as outputs\n",
        "    return bce_loss(outputs, targets) + dice_loss(outputs, targets)\n",
        "\n",
        "\n",
        "# Define the optimizer\n",
        "learning_rate = 0.001\n",
        "optimizer = optim.Adam(model.parameters(), lr=learning_rate)\n",
        "\n",
        "print(\"Loss function and optimizer defined.\")"
      ]
    },
    {
      "cell_type": "markdown",
      "metadata": {
        "id": "1c77ed77"
      },
      "source": [
        "## 학습 함수 구현\n",
        "\n",
        "### Subtask:\n",
        "모델 학습을 위한 함수를 구현합니다. 이 함수는 데이터 로더를 사용하여 데이터를 가져오고, 모델을 통해 예측을 수행하며, 손실을 계산하고, 모델 파라미터를 업데이트합니다."
      ]
    },
    {
      "cell_type": "markdown",
      "metadata": {
        "id": "ba6553b2"
      },
      "source": [
        "**추론**:\n",
        "모델을 훈련 데이터로 학습시키는 `train_epoch` 함수를 정의합니다. 이 함수는 모델을 훈련 모드로 설정하고, 데이터 로더를 반복하며, 순방향 패스를 수행하고, 손실을 계산하고, 역전파를 수행하고, 옵티마이저를 사용하여 모델 가중치를 업데이트합니다."
      ]
    },
    {
      "cell_type": "code",
      "execution_count": 30,
      "metadata": {
        "colab": {
          "base_uri": "https://localhost:8080/"
        },
        "id": "072b8475",
        "outputId": "41a8afd9-283e-4c9b-dc37-c85541128d4b"
      },
      "outputs": [
        {
          "name": "stdout",
          "output_type": "stream",
          "text": [
            "Training function 'train_epoch' defined.\n"
          ]
        }
      ],
      "source": [
        "import torch\n",
        "from tqdm import tqdm # Import tqdm for a progress bar\n",
        "\n",
        "def train_epoch(model, train_loader, criterion, optimizer, device):\n",
        "    \"\"\"\n",
        "    Trains the model for one epoch.\n",
        "    \"\"\"\n",
        "    model.train()  # Set the model to training mode\n",
        "    running_loss = 0.0\n",
        "\n",
        "    # Use tqdm for a progress bar\n",
        "    for images, masks in tqdm(train_loader, desc=\"Training Epoch\"):\n",
        "        # Move images and masks to the specified device\n",
        "        images = images.to(device)\n",
        "        masks = masks.to(device)\n",
        "\n",
        "        # Zero the parameter gradients\n",
        "        optimizer.zero_grad()\n",
        "\n",
        "        # Forward pass: compute predicted masks\n",
        "        outputs = model(images)\n",
        "\n",
        "        # Compute loss\n",
        "        loss = criterion(outputs, masks)\n",
        "\n",
        "        # Backward pass and optimize\n",
        "        loss.backward()\n",
        "        optimizer.step()\n",
        "\n",
        "        running_loss += loss.item() * images.size(0)\n",
        "\n",
        "    epoch_loss = running_loss / len(train_loader.dataset)\n",
        "    return epoch_loss\n",
        "\n",
        "print(\"Training function 'train_epoch' defined.\")"
      ]
    },
    {
      "cell_type": "markdown",
      "metadata": {
        "id": "88aeee4b"
      },
      "source": [
        "## 검증 함수 구현\n",
        "\n",
        "### Subtask:\n",
        "모델 검증을 위한 함수를 구현합니다. 이 함수는 검증 데이터 로더를 사용하여 모델 성능을 평가하고, 과적합을 방지하기 위한 조기 종료(early stopping) 등의 로직을 포함할 수 있습니다."
      ]
    },
    {
      "cell_type": "markdown",
      "metadata": {
        "id": "af29314e"
      },
      "source": [
        "**추론**:\n",
        "검증 세트에서 모델의 성능을 평가하는 `validate_epoch` 함수를 정의합니다. 이 함수는 모델을 평가 모드로 설정하고, 그라데이션 계산을 비활성화하며, 검증 로더를 반복하고, 순방향 패스를 수행하고, 손실을 계산합니다."
      ]
    },
    {
      "cell_type": "code",
      "execution_count": 31,
      "metadata": {
        "colab": {
          "base_uri": "https://localhost:8080/"
        },
        "id": "d2639f9f",
        "outputId": "f692a6e8-24ef-4e9b-8389-7c9e6b4e85cb"
      },
      "outputs": [
        {
          "name": "stdout",
          "output_type": "stream",
          "text": [
            "Validation function 'validate_epoch' defined.\n"
          ]
        }
      ],
      "source": [
        "import torch\n",
        "\n",
        "def validate_epoch(model, val_loader, criterion, device):\n",
        "    \"\"\"\n",
        "    Evaluates the model for one epoch on the validation set.\n",
        "    \"\"\"\n",
        "    model.eval()  # Set the model to evaluation mode\n",
        "    running_loss = 0.0\n",
        "\n",
        "    # Disable gradient calculation for validation\n",
        "    with torch.no_grad():\n",
        "        for images, masks in val_loader:\n",
        "            # Move images and masks to the specified device\n",
        "            images = images.to(device)\n",
        "            masks = masks.to(device)\n",
        "\n",
        "            # Forward pass: compute predicted masks\n",
        "            outputs = model(images)\n",
        "\n",
        "            # Compute loss\n",
        "            loss = criterion(outputs, masks)\n",
        "\n",
        "            running_loss += loss.item() * images.size(0)\n",
        "\n",
        "    epoch_loss = running_loss / len(val_loader.dataset)\n",
        "    return epoch_loss\n",
        "\n",
        "print(\"Validation function 'validate_epoch' defined.\")"
      ]
    },
    {
      "cell_type": "markdown",
      "metadata": {
        "id": "1a35dfcf"
      },
      "source": [
        "## 모델 학습 실행\n",
        "\n",
        "### Subtask:\n",
        "학습 함수를 호출하여 모델 학습을 시작합니다. 학습 에폭(epoch)을 설정하고 학습 과정을 모니터링합니다."
      ]
    },
    {
      "cell_type": "markdown",
      "metadata": {
        "id": "61682bc5"
      },
      "source": [
        "**추론**:\n",
        "훈련 에포크 수를 정의하고, 손실을 저장할 목록을 초기화하고, 각 에포크에 대해 훈련 및 검증 에포크 함수를 호출하여 훈련 루프를 시작합니다. 학습 및 검증 손실을 추적하고 출력합니다."
      ]
    },
    {
      "cell_type": "code",
      "execution_count": 32,
      "metadata": {
        "colab": {
          "base_uri": "https://localhost:8080/",
          "height": 1000
        },
        "id": "29106e4b",
        "outputId": "822475c1-1529-46cb-b0e0-d675a4aa641c"
      },
      "outputs": [
        {
          "name": "stdout",
          "output_type": "stream",
          "text": [
            "Starting model training...\n",
            "Epoch 1/20\n"
          ]
        },
        {
          "name": "stderr",
          "output_type": "stream",
          "text": [
            "Training Epoch: 100%|██████████| 368/368 [02:06<00:00,  2.91it/s]\n"
          ]
        },
        {
          "name": "stdout",
          "output_type": "stream",
          "text": [
            "Epoch 1 finished. Train Loss: 0.4055, Val Loss: 2.7642\n",
            "------------------------------\n",
            "Epoch 2/20\n"
          ]
        },
        {
          "name": "stderr",
          "output_type": "stream",
          "text": [
            "Training Epoch: 100%|██████████| 368/368 [02:06<00:00,  2.91it/s]\n"
          ]
        },
        {
          "name": "stdout",
          "output_type": "stream",
          "text": [
            "Epoch 2 finished. Train Loss: 0.2988, Val Loss: 0.3383\n",
            "------------------------------\n",
            "Epoch 3/20\n"
          ]
        },
        {
          "name": "stderr",
          "output_type": "stream",
          "text": [
            "Training Epoch: 100%|██████████| 368/368 [02:16<00:00,  2.70it/s]\n"
          ]
        },
        {
          "name": "stdout",
          "output_type": "stream",
          "text": [
            "Epoch 3 finished. Train Loss: 0.2674, Val Loss: 0.5065\n",
            "------------------------------\n",
            "Epoch 4/20\n"
          ]
        },
        {
          "name": "stderr",
          "output_type": "stream",
          "text": [
            "Training Epoch: 100%|██████████| 368/368 [02:17<00:00,  2.68it/s]\n"
          ]
        },
        {
          "name": "stdout",
          "output_type": "stream",
          "text": [
            "Epoch 4 finished. Train Loss: 0.2638, Val Loss: 0.2431\n",
            "------------------------------\n",
            "Epoch 5/20\n"
          ]
        },
        {
          "name": "stderr",
          "output_type": "stream",
          "text": [
            "Training Epoch: 100%|██████████| 368/368 [02:17<00:00,  2.68it/s]\n"
          ]
        },
        {
          "name": "stdout",
          "output_type": "stream",
          "text": [
            "Epoch 5 finished. Train Loss: 0.2415, Val Loss: 0.2128\n",
            "------------------------------\n",
            "Epoch 6/20\n"
          ]
        },
        {
          "name": "stderr",
          "output_type": "stream",
          "text": [
            "Training Epoch: 100%|██████████| 368/368 [02:17<00:00,  2.67it/s]\n"
          ]
        },
        {
          "name": "stdout",
          "output_type": "stream",
          "text": [
            "Epoch 6 finished. Train Loss: 0.2380, Val Loss: 0.2350\n",
            "------------------------------\n",
            "Epoch 7/20\n"
          ]
        },
        {
          "name": "stderr",
          "output_type": "stream",
          "text": [
            "Training Epoch: 100%|██████████| 368/368 [02:17<00:00,  2.67it/s]\n"
          ]
        },
        {
          "name": "stdout",
          "output_type": "stream",
          "text": [
            "Epoch 7 finished. Train Loss: 0.2171, Val Loss: 0.2186\n",
            "------------------------------\n",
            "Epoch 8/20\n"
          ]
        },
        {
          "name": "stderr",
          "output_type": "stream",
          "text": [
            "Training Epoch: 100%|██████████| 368/368 [02:15<00:00,  2.71it/s]\n"
          ]
        },
        {
          "name": "stdout",
          "output_type": "stream",
          "text": [
            "Epoch 8 finished. Train Loss: 0.2243, Val Loss: 0.2170\n",
            "------------------------------\n",
            "Epoch 9/20\n"
          ]
        },
        {
          "name": "stderr",
          "output_type": "stream",
          "text": [
            "Training Epoch: 100%|██████████| 368/368 [02:19<00:00,  2.64it/s]\n"
          ]
        },
        {
          "name": "stdout",
          "output_type": "stream",
          "text": [
            "Epoch 9 finished. Train Loss: 0.2064, Val Loss: 0.2055\n",
            "------------------------------\n",
            "Epoch 10/20\n"
          ]
        },
        {
          "name": "stderr",
          "output_type": "stream",
          "text": [
            "Training Epoch: 100%|██████████| 368/368 [02:24<00:00,  2.54it/s]\n"
          ]
        },
        {
          "name": "stdout",
          "output_type": "stream",
          "text": [
            "Epoch 10 finished. Train Loss: 0.1948, Val Loss: 0.2314\n",
            "------------------------------\n",
            "Epoch 11/20\n"
          ]
        },
        {
          "name": "stderr",
          "output_type": "stream",
          "text": [
            "Training Epoch: 100%|██████████| 368/368 [02:22<00:00,  2.59it/s]\n"
          ]
        },
        {
          "name": "stdout",
          "output_type": "stream",
          "text": [
            "Epoch 11 finished. Train Loss: 0.2221, Val Loss: 0.2054\n",
            "------------------------------\n",
            "Epoch 12/20\n"
          ]
        },
        {
          "name": "stderr",
          "output_type": "stream",
          "text": [
            "Training Epoch: 100%|██████████| 368/368 [02:20<00:00,  2.62it/s]\n"
          ]
        },
        {
          "name": "stdout",
          "output_type": "stream",
          "text": [
            "Epoch 12 finished. Train Loss: 0.1953, Val Loss: 0.2039\n",
            "------------------------------\n",
            "Epoch 13/20\n"
          ]
        },
        {
          "name": "stderr",
          "output_type": "stream",
          "text": [
            "Training Epoch: 100%|██████████| 368/368 [02:21<00:00,  2.60it/s]\n"
          ]
        },
        {
          "name": "stdout",
          "output_type": "stream",
          "text": [
            "Epoch 13 finished. Train Loss: 0.1942, Val Loss: 0.2095\n",
            "------------------------------\n",
            "Epoch 14/20\n"
          ]
        },
        {
          "name": "stderr",
          "output_type": "stream",
          "text": [
            "Training Epoch: 100%|██████████| 368/368 [02:20<00:00,  2.62it/s]\n"
          ]
        },
        {
          "name": "stdout",
          "output_type": "stream",
          "text": [
            "Epoch 14 finished. Train Loss: 0.1872, Val Loss: 0.2260\n",
            "------------------------------\n",
            "Epoch 15/20\n"
          ]
        },
        {
          "name": "stderr",
          "output_type": "stream",
          "text": [
            "Training Epoch: 100%|██████████| 368/368 [02:20<00:00,  2.61it/s]\n"
          ]
        },
        {
          "name": "stdout",
          "output_type": "stream",
          "text": [
            "Epoch 15 finished. Train Loss: 0.2043, Val Loss: 0.2022\n",
            "------------------------------\n",
            "Epoch 16/20\n"
          ]
        },
        {
          "name": "stderr",
          "output_type": "stream",
          "text": [
            "Training Epoch: 100%|██████████| 368/368 [02:17<00:00,  2.67it/s]\n"
          ]
        },
        {
          "name": "stdout",
          "output_type": "stream",
          "text": [
            "Epoch 16 finished. Train Loss: 0.1890, Val Loss: 0.2376\n",
            "------------------------------\n",
            "Epoch 17/20\n"
          ]
        },
        {
          "name": "stderr",
          "output_type": "stream",
          "text": [
            "Training Epoch: 100%|██████████| 368/368 [02:22<00:00,  2.58it/s]\n"
          ]
        },
        {
          "name": "stdout",
          "output_type": "stream",
          "text": [
            "Epoch 17 finished. Train Loss: 0.1825, Val Loss: 0.2171\n",
            "------------------------------\n",
            "Epoch 18/20\n"
          ]
        },
        {
          "name": "stderr",
          "output_type": "stream",
          "text": [
            "Training Epoch: 100%|██████████| 368/368 [02:21<00:00,  2.61it/s]\n"
          ]
        },
        {
          "name": "stdout",
          "output_type": "stream",
          "text": [
            "Epoch 18 finished. Train Loss: 0.1879, Val Loss: 0.2154\n",
            "------------------------------\n",
            "Epoch 19/20\n"
          ]
        },
        {
          "name": "stderr",
          "output_type": "stream",
          "text": [
            "Training Epoch: 100%|██████████| 368/368 [02:20<00:00,  2.63it/s]\n"
          ]
        },
        {
          "name": "stdout",
          "output_type": "stream",
          "text": [
            "Epoch 19 finished. Train Loss: 0.1731, Val Loss: 0.1897\n",
            "------------------------------\n",
            "Epoch 20/20\n"
          ]
        },
        {
          "name": "stderr",
          "output_type": "stream",
          "text": [
            "Training Epoch: 100%|██████████| 368/368 [02:20<00:00,  2.61it/s]\n"
          ]
        },
        {
          "name": "stdout",
          "output_type": "stream",
          "text": [
            "Epoch 20 finished. Train Loss: 0.1744, Val Loss: 0.1811\n",
            "------------------------------\n",
            "Training finished.\n"
          ]
        },
        {
          "data": {
            "image/png": "[encoded data removed]",
            "text/plain": [
              "<Figure size 1000x600 with 1 Axes>"
            ]
          },
          "metadata": {},
          "output_type": "display_data"
        }
      ],
      "source": [
        "import torch\n",
        "import matplotlib.pyplot as plt\n",
        "\n",
        "# Define the number of training epochs\n",
        "num_epochs = 20 # Reduced number of epochs for demonstration\n",
        "\n",
        "# Initialize lists to store training and validation losses\n",
        "train_losses = []\n",
        "val_losses = []\n",
        "\n",
        "# Start the training loop\n",
        "print(\"Starting model training...\")\n",
        "for epoch in range(num_epochs):\n",
        "    print(f\"Epoch {epoch+1}/{num_epochs}\")\n",
        "\n",
        "    # Train the model for one epoch\n",
        "    epoch_train_loss = train_epoch(model, train_loader, combined_loss, optimizer, device)\n",
        "    train_losses.append(epoch_train_loss)\n",
        "\n",
        "    # Validate the model for one epoch\n",
        "    epoch_val_loss = validate_epoch(model, val_loader, combined_loss, device)\n",
        "    val_losses.append(epoch_val_loss)\n",
        "\n",
        "    # Print epoch summary\n",
        "    print(f\"Epoch {epoch+1} finished. Train Loss: {epoch_train_loss:.4f}, Val Loss: {epoch_val_loss:.4f}\")\n",
        "    print(\"-\" * 30)\n",
        "\n",
        "print(\"Training finished.\")\n",
        "\n",
        "# Plot the training and validation loss\n",
        "if train_losses and val_losses:\n",
        "    plt.figure(figsize=(10, 6))\n",
        "    plt.plot(range(1, len(train_losses) + 1), train_losses, label='Training Loss')\n",
        "    plt.plot(range(1, len(val_losses) + 1), val_losses, label='Validation Loss')\n",
        "    plt.xlabel('Epoch')\n",
        "    plt.ylabel('Loss')\n",
        "    plt.title('Training and Validation Loss over Epochs')\n",
        "    plt.legend()\n",
        "    plt.grid(True)\n",
        "    plt.show()\n",
        "else:\n",
        "    print(\"No loss data to plot.\")"
      ]
    },
    {
      "cell_type": "markdown",
      "metadata": {
        "id": "5c6e6133"
      },
      "source": [
        "## 모델 저장\n",
        "\n",
        "### Subtask:\n",
        "학습이 완료된 모델 가중치를 저장합니다."
      ]
    },
    {
      "cell_type": "markdown",
      "metadata": {
        "id": "dc54fae1"
      },
      "source": [
        "**추론**:\n",
        "학습된 모델의 상태 사전을 파일에 저장하고 확인 메시지를 인쇄합니다. Google Drive에 저장할 수 있도록 경로를 지정합니다."
      ]
    },
    {
      "cell_type": "code",
      "execution_count": 33,
      "metadata": {
        "colab": {
          "base_uri": "https://localhost:8080/"
        },
        "id": "3c372433",
        "outputId": "4565174a-2e72-4f05-fc75-b90248711c4d"
      },
      "outputs": [
        {
          "name": "stdout",
          "output_type": "stream",
          "text": [
            "Model weights successfully saved to /home/goit/goit_pro/ai_rnd/IMG_SEG_PRJ/model/unet_efficientnetb20_cloud_segmentation.pth\n"
          ]
        }
      ],
      "source": [
        "import torch\n",
        "import os\n",
        "# from google.colab import drive\n",
        "\n",
        "# Mount Google Drive to save the model\n",
        "# drive.mount('/content/drive')\n",
        "\n",
        "# Define the path in your Google Drive to save the model weights\n",
        "# Ensure you have a directory named 'cloud_segmentation_models' or similar in your Drive\n",
        "# Create the directory if it doesn't exist\n",
        "save_dir = '/home/goit/goit_pro/ai_rnd/IMG_SEG_PRJ/model'\n",
        "os.makedirs(save_dir, exist_ok=True)\n",
        "\n",
        "# Define the filename for saving the model weights\n",
        "model_filename = 'unet_efficientnetb20_cloud_segmentation.pth'\n",
        "save_path = os.path.join(save_dir, model_filename)\n",
        "\n",
        "\n",
        "# Save the model's state dictionary\n",
        "try:\n",
        "    torch.save(model.state_dict(), save_path)\n",
        "    print(f\"Model weights successfully saved to {save_path}\")\n",
        "except Exception as e:\n",
        "    print(f\"Error saving model weights: {e}\")"
      ]
    },
    {
      "cell_type": "markdown",
      "metadata": {
        "id": "70eb3c4b"
      },
      "source": [
        "**추론**:\n",
        "정의된 디렉토리에서 확장자가 .TIF인 이미지 및 마스크 파일 목록을 가져와 비어 있는지 확인하고, 데이터를 훈련, 검증 및 테스트 세트로 분할한 다음 이전에 정의된 함수와 변환을 사용하여 테스트 데이터 세트 인스턴스와 DataLoader를 생성합니다.\n",
        "\n"
      ]
    },
    {
      "cell_type": "code",
      "execution_count": 34,
      "metadata": {
        "colab": {
          "base_uri": "https://localhost:8080/"
        },
        "id": "887b0cda",
        "outputId": "2cdb7afe-911e-4ea8-ba83-5acd7b388a4e"
      },
      "outputs": [
        {
          "name": "stdout",
          "output_type": "stream",
          "text": [
            "Total images found: 8400\n",
            "Train samples: 5880\n",
            "Validation samples: 1260\n",
            "Test samples: 1260\n",
            "Test DataLoader created with 79 batches of size 16\n"
          ]
        }
      ],
      "source": [
        "from torch.utils.data import DataLoader\n",
        "from sklearn.model_selection import train_test_split\n",
        "import os\n",
        "\n",
        "# Assume image_dir and mask_dir are correctly defined from the dataset loading step (cell 1vOFKp-9rkJq)\n",
        "# Get list of image and mask files, looking for .TIF extension\n",
        "image_files_list = [os.path.join(image_dir, f) for f in os.listdir(image_dir) if f.endswith('.TIF')]\n",
        "mask_files_list = [os.path.join(mask_dir, f) for f in os.listdir(mask_dir) if f.endswith('.TIF')]\n",
        "\n",
        "# Ensure correspondence (assuming file names match except for prefix and extension)\n",
        "image_files_list.sort()\n",
        "mask_files_list.sort()\n",
        "\n",
        "# 2. Check if lists are empty\n",
        "if not image_files_list or not mask_files_list:\n",
        "    print(\"Error: Image or mask file lists are empty after searching for .TIF files. Cannot create data loaders.\")\n",
        "else:\n",
        "    # Split data into training, validation, and test sets\n",
        "    # First, split into train and temp (validation + test)\n",
        "    # We only need the test set for inference, but we split to get consistent test data\n",
        "    train_images, temp_images, train_masks, temp_masks = train_test_split(\n",
        "        image_files_list, mask_files_list, test_size=0.3, random_state=42\n",
        "    )\n",
        "\n",
        "    # Then, split temp into validation and test\n",
        "    val_images, test_images, val_masks, test_masks = train_test_split(\n",
        "        temp_images, temp_masks, test_size=0.5, random_state=42\n",
        "    )\n",
        "\n",
        "    print(f\"Total images found: {len(image_files_list)}\")\n",
        "    print(f\"Train samples: {len(train_images)}\")\n",
        "    print(f\"Validation samples: {len(val_images)}\")\n",
        "    print(f\"Test samples: {len(test_images)}\")\n",
        "\n",
        "\n",
        "    # 3. Create test dataset instance\n",
        "    # Use the test_images and test_masks obtained from the split\n",
        "    # Use the load_and_preprocess_image_mask function (without initial resizing, defined previously)\n",
        "    # Use val_test_transform for resizing test data to target size (256x256), defined previously in cell a82da619\n",
        "    # Make sure CloudDataset and val_test_transform are defined in previous executed cells\n",
        "    # If running this cell first, ensure CloudDataset and transforms are defined before this.\n",
        "    try:\n",
        "        test_dataset = CloudDataset(test_images, test_masks, preprocess_fn=load_and_preprocess_image_mask, transform=val_test_transform)\n",
        "\n",
        "        # Define parameters for DataLoaders (using the previously defined batch_size and num_workers)\n",
        "        # batch_size = 16 # Defined previously\n",
        "        # num_workers = os.cpu_count() // 2 if os.cpu_count() else 2 # Defined previously\n",
        "\n",
        "        # Ensure batch_size and num_workers are defined (e.g., in a setup cell or explicitly here)\n",
        "        batch_size = 16 # Re-define if necessary for clarity\n",
        "        num_workers = os.cpu_count() // 2 if os.cpu_count() else 2 # Re-define if necessary for clarity\n",
        "\n",
        "\n",
        "        # 4. Create test data loader instance\n",
        "        test_loader = DataLoader(test_dataset, batch_size=batch_size, shuffle=False, num_workers=num_workers)\n",
        "\n",
        "        # 5. Print confirmation message and batch size\n",
        "        print(f\"Test DataLoader created with {len(test_loader)} batches of size {batch_size}\")\n",
        "\n",
        "    except NameError as e:\n",
        "        print(f\"Error creating dataset or dataloader: {e}. Ensure CloudDataset, load_and_preprocess_image_mask, and val_test_transform are defined in previous cells.\")\n",
        "    except Exception as e:\n",
        "        print(f\"An unexpected error occurred: {e}\")"
      ]
    },
    {
      "cell_type": "markdown",
      "metadata": {
        "id": "8df64893"
      },
      "source": [
        "## 추론 함수 구현\n",
        "\n",
        "### Subtask:\n",
        "모델 추론을 수행하고 예측 마스크를 생성하는 함수를 구현합니다.\n"
      ]
    },
    {
      "cell_type": "markdown",
      "metadata": {
        "id": "613f8171"
      },
      "source": [
        "**추론**:\n",
        "테스트 데이터 로더에서 예측을 수행하는 '추론' 기능을 정의하여 모델이 평가 모드에 있고 그라데이션 계산이 비활성화되어 있는지 확인합니다. 이 함수는 테스트 로더를 반복하여 이미지 배치를 가져와 디바이스로 이동하고, 정방향 패스를 수행하고, 이진 분할을 위해 시그모이드 활성화를 적용하고, 원본 이미지, 실제 마스크, 예측 마스크를 수집합니다.\n",
        "\n"
      ]
    },
    {
      "cell_type": "code",
      "execution_count": 35,
      "metadata": {
        "colab": {
          "base_uri": "https://localhost:8080/"
        },
        "id": "d382e688",
        "outputId": "9e435179-b6e8-4712-a5e5-9af7874d0bd6"
      },
      "outputs": [
        {
          "name": "stdout",
          "output_type": "stream",
          "text": [
            "Inference function 'inference' defined.\n"
          ]
        }
      ],
      "source": [
        "import torch\n",
        "import numpy as np\n",
        "# Assume model, test_loader, and device are defined from previous steps\n",
        "\n",
        "def inference(model, data_loader, device):\n",
        "    \"\"\"\n",
        "    Performs inference using the trained model on a given data loader.\n",
        "\n",
        "    Args:\n",
        "        model (torch.nn.Module): The trained segmentation model.\n",
        "        data_loader (torch.utils.data.DataLoader): DataLoader for the inference dataset.\n",
        "        device (torch.device): The device to perform inference on (CPU or GPU).\n",
        "\n",
        "    Returns:\n",
        "        tuple: Lists of original images, true masks, and predicted masks.\n",
        "               Each list contains numpy arrays.\n",
        "    \"\"\"\n",
        "    model.eval()  # Set the model to evaluation mode\n",
        "    all_images = []\n",
        "    all_true_masks = []\n",
        "    all_pred_masks = []\n",
        "\n",
        "    # Disable gradient calculation for inference\n",
        "    with torch.no_grad():\n",
        "        # Add a check to see if the data_loader is not None and has items\n",
        "        if data_loader is None:\n",
        "            print(\"Error: Data loader is None. Cannot perform inference.\")\n",
        "            return [], [], []\n",
        "\n",
        "        print(f\"Starting inference on {len(data_loader.dataset)} samples...\") # Print total samples\n",
        "\n",
        "        for i, (images, masks) in enumerate(data_loader):\n",
        "            # Move images and masks to the specified device\n",
        "            images = images.to(device)\n",
        "            masks = masks.to(device)\n",
        "\n",
        "            # Forward pass: compute predicted masks\n",
        "            outputs = model(images)\n",
        "\n",
        "            # Apply sigmoid activation to get probabilities\n",
        "            predicted_masks = torch.sigmoid(outputs)\n",
        "\n",
        "            # Convert tensors back to numpy arrays and move to CPU\n",
        "            images_np = images.permute(0, 2, 3, 1).cpu().numpy()\n",
        "            true_masks_np = masks.squeeze(1).cpu().numpy()\n",
        "            predicted_masks_np = (predicted_masks.squeeze(1) > 0.5).cpu().numpy() # Threshold at 0.5 for binary mask\n",
        "\n",
        "            # Append batch results to the lists\n",
        "            all_images.extend(images_np)\n",
        "            all_true_masks.extend(true_masks_np)\n",
        "            all_pred_masks.extend(predicted_masks_np)\n",
        "\n",
        "            # Optional: Print progress\n",
        "            # if (i + 1) % 10 == 0:\n",
        "            #     print(f\"Processed {i + 1} batches...\")\n",
        "\n",
        "\n",
        "    print(\"Inference complete.\")\n",
        "\n",
        "    return all_images, all_true_masks, all_pred_masks\n",
        "\n",
        "print(\"Inference function 'inference' defined.\")"
      ]
    },
    {
      "cell_type": "markdown",
      "metadata": {
        "id": "56cb55fc"
      },
      "source": [
        "## 결과 처리 및 분류\n",
        "\n",
        "### Subtask:\n",
        "결과 처리 및 분류\n"
      ]
    },
    {
      "cell_type": "markdown",
      "metadata": {
        "id": "6bd16529"
      },
      "source": [
        "**추론**:\n",
        "출력 디렉터리가 없는 경우 생성한 다음 추론된 결과를 반복하여 예측된 마스크의 클라우드 감지를 기반으로 이미지와 마스크를 적절한 폴더에 저장합니다.\n",
        "\n"
      ]
    },
    {
      "cell_type": "code",
      "execution_count": 44,
      "metadata": {
        "colab": {
          "base_uri": "https://localhost:8080/"
        },
        "id": "23932eda",
        "outputId": "09bcc100-a6a3-4a0a-9f3a-5a1b15f245e8"
      },
      "outputs": [
        {
          "name": "stdout",
          "output_type": "stream",
          "text": [
            "Output -> /home/goit/goit_pro/ai_rnd/IMG_SEG_PRJ/outputs/unet_20/n_cloud | /home/goit/goit_pro/ai_rnd/IMG_SEG_PRJ/outputs/unet_20/y_cloud | /home/goit/goit_pro/ai_rnd/IMG_SEG_PRJ/outputs/unet_20/s_cloud\n",
            "Done. Saved -> cloudy:725  clear:535\n"
          ]
        }
      ],
      "source": [
        "import os, torch, torch.nn.functional as F\n",
        "import numpy as np, cv2\n",
        "\n",
        "# === 0) 저장 폴더 준비 ===\n",
        "output_base_dir = '/home/goit/goit_pro/ai_rnd/IMG_SEG_PRJ/outputs/unet_20'\n",
        "n_cloud_dir = os.path.join(output_base_dir, 'n_cloud')  # 구름 없음\n",
        "y_cloud_dir = os.path.join(output_base_dir, 'y_cloud')  # 구름 있음\n",
        "s_cloud_dir = os.path.join(output_base_dir, 's_cloud')  # 마스크 저장\n",
        "os.makedirs(n_cloud_dir, exist_ok=True)\n",
        "os.makedirs(y_cloud_dir, exist_ok=True)\n",
        "os.makedirs(s_cloud_dir, exist_ok=True)\n",
        "print(f\"Output -> {n_cloud_dir} | {y_cloud_dir} | {s_cloud_dir}\")\n",
        "\n",
        "# === 1) 모델/디바이스/임계값 ===\n",
        "device = torch.device(\"cuda\" if torch.cuda.is_available() else \"cpu\")\n",
        "model.eval()\n",
        "THR = 0.5  # 시그모이드 후 임계값\n",
        "\n",
        "# === 2) (선택) 이미지 디노멀라이즈 함수 (ImageNet 통계 가정) ===\n",
        "IM_MEAN = np.array([0.485, 0.456, 0.406]).reshape(1,1,3)\n",
        "IM_STD  = np.array([0.229, 0.224, 0.225]).reshape(1,1,3)\n",
        "def denorm_to_uint8(x_chw: torch.Tensor) -> np.ndarray:\n",
        "    # x: (3,H,W), float tensor in torch (normalized)\n",
        "    x = x_chw.detach().cpu().numpy().transpose(1,2,0)  # (H,W,3)\n",
        "    x = (x * IM_STD + IM_MEAN) * 255.0\n",
        "    x = np.clip(x, 0, 255).astype(np.uint8)\n",
        "    return x\n",
        "\n",
        "# === 3) 스트리밍 추론+저장 ===\n",
        "saved = {\"y\":0, \"n\":0}\n",
        "with torch.no_grad():\n",
        "    for batch in test_loader:  # 반드시 (imgs, masks, paths) 형태가 되도록 Dataset 수정\n",
        "        if len(batch) == 3:\n",
        "            imgs, gts, paths = batch\n",
        "        else:\n",
        "            # 만약 현재 test_loader가 경로를 안 주면, Dataset을 고쳐야 합니다.\n",
        "            raise RuntimeError(\"Dataset must return (image, mask, path). Please include the original file path in __getitem__.\")\n",
        "\n",
        "        imgs = imgs.to(device)\n",
        "        logits = model(imgs)                # (B,1,H,W)\n",
        "        probs  = torch.sigmoid(logits)\n",
        "        preds  = (probs > THR).float()      # (B,1,H,W), 0/1\n",
        "\n",
        "        for i in range(imgs.size(0)):\n",
        "            # 파일명 베이스\n",
        "            base = os.path.splitext(os.path.basename(paths[i]))[0]\n",
        "\n",
        "            # 원본 이미지 저장(디노멀라이즈)\n",
        "            img_np = denorm_to_uint8(imgs[i])\n",
        "\n",
        "            # 예측 마스크 저장\n",
        "            pred_mask = preds[i,0].cpu().numpy().astype(np.uint8) * 255\n",
        "            cv2.imwrite(os.path.join(s_cloud_dir, f\"pred_{base}.png\"), pred_mask)\n",
        "\n",
        "            # GT가 있으면 저장(없으면 스킵)\n",
        "            if gts is not None:\n",
        "                gt_np = (gts[i,0].cpu().numpy().astype(np.uint8) * 255)\n",
        "                cv2.imwrite(os.path.join(s_cloud_dir, f\"gt_{base}.png\"), gt_np)\n",
        "\n",
        "            # “구름 존재 여부” 분기 저장\n",
        "            cloud_detected = (pred_mask > 0).any()\n",
        "            if cloud_detected:\n",
        "                cv2.imwrite(os.path.join(y_cloud_dir, f\"{base}.png\"),\n",
        "                            cv2.cvtColor(img_np, cv2.COLOR_RGB2BGR))\n",
        "                saved[\"y\"] += 1\n",
        "            else:\n",
        "                cv2.imwrite(os.path.join(n_cloud_dir, f\"{base}.png\"),\n",
        "                            cv2.cvtColor(img_np, cv2.COLOR_RGB2BGR))\n",
        "                saved[\"n\"] += 1\n",
        "\n",
        "print(f\"Done. Saved -> cloudy:{saved['y']}  clear:{saved['n']}\")\n"
      ]
    },
    {
      "cell_type": "code",
      "execution_count": 45,
      "metadata": {},
      "outputs": [
        {
          "name": "stdout",
          "output_type": "stream",
          "text": [
            "Output directories created: /home/goit/goit_pro/ai_rnd/IMG_SEG_PRJ/outputs/unet_20/n_cloud, /home/goit/goit_pro/ai_rnd/IMG_SEG_PRJ/outputs/unet_20/y_cloud, /home/goit/goit_pro/ai_rnd/IMG_SEG_PRJ/outputs/unet_20/s_cloud\n",
            "Error: Inference results or original file paths are not available or empty. Please run the inference step first.\n"
          ]
        }
      ],
      "source": [
        "import os\n",
        "import cv2\n",
        "import numpy as np\n",
        "# from google.colab import drive\n",
        "\n",
        "# Mount Google Drive\n",
        "# drive.mount('/content/drive')\n",
        "\n",
        "# Define the base path in your Google Drive for saving results\n",
        "output_base_dir = '/home/goit/goit_pro/ai_rnd/IMG_SEG_PRJ/outputs/unet_20'\n",
        "\n",
        "# Define output directories\n",
        "n_cloud_dir = os.path.join(output_base_dir, 'n_cloud') # No cloud detected\n",
        "y_cloud_dir = os.path.join(output_base_dir, 'y_cloud') # Cloud detected\n",
        "s_cloud_dir = os.path.join(output_base_dir, 's_cloud') # Predicted segmentation masks\n",
        "\n",
        "# Create directories if they don't exist\n",
        "os.makedirs(n_cloud_dir, exist_ok=True)\n",
        "os.makedirs(y_cloud_dir, exist_ok=True)\n",
        "os.makedirs(s_cloud_dir, exist_ok=True)\n",
        "\n",
        "print(f\"Output directories created: {n_cloud_dir}, {y_cloud_dir}, {s_cloud_dir}\")\n",
        "\n",
        "# Assume all_images, all_true_masks, and all_pred_masks are available from the previous inference step\n",
        "# And test_images list contains the original file paths for the inferred samples\n",
        "\n",
        "# Check if inference results are available\n",
        "if 'all_images' not in locals() or 'all_true_masks' not in locals() or 'all_pred_masks' not in locals() or 'test_images' not in locals() or not test_images:\n",
        "    print(\"Error: Inference results or original file paths are not available or empty. Please run the inference step first.\")\n",
        "else:\n",
        "    print(f\"Processing {len(all_pred_masks)} inferred samples for classification and saving...\")\n",
        "\n",
        "    # Iterate through the inferred results\n",
        "    for i in range(len(all_pred_masks)):\n",
        "        original_image_np = all_images[i]\n",
        "        true_mask_np = all_true_masks[i]\n",
        "        predicted_mask_np = all_pred_masks[i] # This is already thresholded binary mask (0 or 1)\n",
        "        original_file_path = test_images[i] # Get the original file path from the list\n",
        "\n",
        "        # Extract the base filename from the original file path\n",
        "        original_filename = os.path.basename(original_file_path)\n",
        "        # Remove the extension for use in output filenames\n",
        "        base_filename = os.path.splitext(original_filename)[0]\n",
        "\n",
        "        # Check if cloud is detected in the predicted mask\n",
        "        cloud_detected = np.sum(predicted_mask_np) > 0 # True if any cloud pixel (value 1) exists\n",
        "\n",
        "\n",
        "        # Define filenames for saving\n",
        "        original_save_filename = f\"{base_filename}.png\"\n",
        "        true_mask_save_filename = f\"true_mask_{base_filename}.png\"\n",
        "        predicted_mask_save_filename = f\"predicted_mask_{base_filename}.png\"\n",
        "\n",
        "\n",
        "        # Save the original image, true mask, and predicted mask\n",
        "        if cloud_detected:\n",
        "            original_save_path = os.path.join(y_cloud_dir, original_save_filename)\n",
        "            cv2.imwrite(original_save_path, cv2.cvtColor((original_image_np * 255).astype(np.uint8), cv2.COLOR_RGB2BGR))\n",
        "            # print(f\"Saved {original_save_filename} to {y_cloud_dir}\") # Optional: print each save\n",
        "        else:\n",
        "            original_save_path = os.path.join(n_cloud_dir, original_save_filename)\n",
        "            cv2.imwrite(original_save_path, cv2.cvtColor((original_image_np * 255).astype(np.uint8), cv2.COLOR_RGB2BGR))\n",
        "            # print(f\"Saved {original_save_filename} to {n_cloud_dir}\") # Optional: print each save\n",
        "\n",
        "\n",
        "        predicted_mask_save_path = os.path.join(s_cloud_dir, predicted_mask_save_filename)\n",
        "        cv2.imwrite(predicted_mask_save_path, (predicted_mask_np * 255).astype(np.uint8))\n",
        "        # print(f\"Saved {predicted_mask_save_filename} to {s_cloud_dir}\") # Optional: print each save\n",
        "\n",
        "\n",
        "        true_mask_save_path = os.path.join(s_cloud_dir, true_mask_save_filename)\n",
        "        cv2.imwrite(true_mask_save_path, (true_mask_np * 255).astype(np.uint8))\n",
        "        # print(f\"Saved {true_mask_save_filename} to {s_cloud_dir}\") # Optional: print each save\n",
        "\n",
        "\n",
        "    print(\"Classification and saving of results complete.\")"
      ]
    },
    {
      "cell_type": "markdown",
      "metadata": {},
      "source": [
        "## 결과 이미지 시각화\n",
        "\n",
        "### Subtask:\n",
        "Google Drive에 저장된 분류된 결과 이미지(구름 감지 안 됨, 구름 감지됨)와 해당 마스크를 시각화합니다."
      ]
    },
    {
      "cell_type": "markdown",
      "metadata": {
        "id": "2b37dcad"
      },
      "source": [
        "**추론**:\n",
        "Google Drive에 저장된 결과 디렉토리에서 샘플 이미지와 해당 실제 및 예측 마스크 파일을 로드하고 `matplotlib`을 사용하여 시각화하여 추론 및 분류 결과를 확인합니다."
      ]
    },
    {
      "cell_type": "code",
      "execution_count": null,
      "metadata": {
        "colab": {
          "base_uri": "https://localhost:8080/",
          "height": 1000
        },
        "id": "fc787588",
        "outputId": "318ac9af-fa58-46ad-c3de-3d3c2978fa26"
      },
      "outputs": [
        {
          "name": "stdout",
          "output_type": "stream",
          "text": [
            "Visualizing sample images from '/home/goit/goit_pro/ai_rnd/IMG_SEG_PRJ/outputs/unet_20/n_cloud' (No Cloud Detected):\n",
            "No files found in '/home/goit/goit_pro/ai_rnd/IMG_SEG_PRJ/outputs/unet_20/n_cloud'.\n"
          ]
        },
        {
          "data": {
            "text/plain": [
              "<Figure size 1500x1200 with 0 Axes>"
            ]
          },
          "metadata": {},
          "output_type": "display_data"
        },
        {
          "name": "stdout",
          "output_type": "stream",
          "text": [
            "\n",
            "Visualizing sample images from '/home/goit/goit_pro/ai_rnd/IMG_SEG_PRJ/outputs/unet_20/y_cloud' (Cloud Detected):\n",
            "No files found in '/home/goit/goit_pro/ai_rnd/IMG_SEG_PRJ/outputs/unet_20/y_cloud'.\n"
          ]
        },
        {
          "data": {
            "text/plain": [
              "<Figure size 1500x1200 with 0 Axes>"
            ]
          },
          "metadata": {},
          "output_type": "display_data"
        }
      ],
      "source": [
        "import os\n",
        "import cv2\n",
        "import matplotlib.pyplot as plt\n",
        "import random # Import random to select random samples\n",
        "\n",
        "# Define the base path in your Google Drive where results were saved\n",
        "output_base_dir = '/home/goit/goit_pro/ai_rnd/IMG_SEG_PRJ/outputs/unet_20'\n",
        "\n",
        "# Define output directories\n",
        "n_cloud_dir = os.path.join(output_base_dir, 'n_cloud') # No cloud detected\n",
        "y_cloud_dir = os.path.join(output_base_dir, 'y_cloud') # Cloud detected\n",
        "s_cloud_dir = os.path.join(output_base_dir, 's_cloud') # Predicted and true segmentation masks\n",
        "\n",
        "# Number of samples to visualize from each category\n",
        "num_samples_to_visualize = 3\n",
        "\n",
        "plt.figure(figsize=(15, num_samples_to_visualize * 4))\n",
        "\n",
        "# --- Visualize samples from 'n_cloud' (No Cloud Detected) ---\n",
        "print(f\"Visualizing sample images from '{n_cloud_dir}' (No Cloud Detected):\")\n",
        "try:\n",
        "    n_cloud_files = [f for f in os.listdir(n_cloud_dir) if f.endswith('.png')]\n",
        "    if n_cloud_files:\n",
        "        # Select random sample files\n",
        "        sample_n_cloud_files = random.sample(n_cloud_files, min(num_samples_to_visualize, len(n_cloud_files)))\n",
        "\n",
        "        for i, filename in enumerate(sample_n_cloud_files):\n",
        "            img_path = os.path.join(n_cloud_dir, filename)\n",
        "            img = cv2.imread(img_path)\n",
        "            img = cv2.cvtColor(img, cv2.COLOR_BGR2RGB)\n",
        "\n",
        "            # Assuming corresponding predicted mask exists in s_cloud directory\n",
        "            # The filename for the predicted mask should be 'predicted_mask_' + original_filename\n",
        "            base_filename = os.path.splitext(filename)[0]\n",
        "            predicted_mask_filename = f\"predicted_mask_{base_filename}.png\"\n",
        "            predicted_mask_path = os.path.join(s_cloud_dir, predicted_mask_filename)\n",
        "            predicted_mask = cv2.imread(predicted_mask_path, cv2.IMREAD_GRAYSCALE)\n",
        "\n",
        "            # Assuming corresponding true mask exists in s_cloud directory\n",
        "            # The filename for the true mask should be 'true_mask_' + original_filename\n",
        "            true_mask_filename = f\"true_mask_{base_filename}.png\"\n",
        "            true_mask_path = os.path.join(s_cloud_dir, true_mask_filename)\n",
        "            true_mask = cv2.imread(true_mask_path, cv2.IMREAD_GRAYSCALE)\n",
        "\n",
        "\n",
        "            plt.subplot(num_samples_to_visualize, 3, i * 3 + 1)\n",
        "            plt.imshow(img)\n",
        "            plt.title(f'N-Cloud Image: {filename}')\n",
        "            plt.axis('off')\n",
        "\n",
        "            plt.subplot(num_samples_to_visualize, 3, i * 3 + 2)\n",
        "            plt.imshow(true_mask, cmap='gray')\n",
        "            plt.title(f'True Mask: {base_filename}')\n",
        "            plt.axis('off')\n",
        "\n",
        "            plt.subplot(num_samples_to_visualize, 3, i * 3 + 3)\n",
        "            plt.imshow(predicted_mask, cmap='gray')\n",
        "            plt.title(f'Predicted Mask: {base_filename}')\n",
        "            plt.axis('off')\n",
        "\n",
        "    else:\n",
        "        print(f\"No files found in '{n_cloud_dir}'.\")\n",
        "\n",
        "except FileNotFoundError as e:\n",
        "    print(f\"Error accessing directory: {e}\")\n",
        "except Exception as e:\n",
        "    print(f\"An error occurred while visualizing n_cloud samples: {e}\")\n",
        "\n",
        "\n",
        "plt.tight_layout()\n",
        "plt.show()\n",
        "\n",
        "\n",
        "plt.figure(figsize=(15, num_samples_to_visualize * 4))\n",
        "\n",
        "# --- Visualize samples from 'y_cloud' (Cloud Detected) ---\n",
        "print(f\"\\nVisualizing sample images from '{y_cloud_dir}' (Cloud Detected):\")\n",
        "try:\n",
        "    y_cloud_files = [f for f in os.listdir(y_cloud_dir) if f.endswith('.png')]\n",
        "    if y_cloud_files:\n",
        "         # Select random sample files\n",
        "        sample_y_cloud_files = random.sample(y_cloud_files, min(num_samples_to_visualize, len(y_cloud_files)))\n",
        "\n",
        "        for i, filename in enumerate(sample_y_cloud_files):\n",
        "            img_path = os.path.join(y_cloud_dir, filename)\n",
        "            img = cv2.imread(img_path)\n",
        "            img = cv2.cvtColor(img, cv2.COLOR_BGR2RGB)\n",
        "\n",
        "            # Assuming corresponding predicted mask exists in s_cloud directory\n",
        "            base_filename = os.path.splitext(filename)[0]\n",
        "            predicted_mask_filename = f\"predicted_mask_{base_filename}.png\"\n",
        "            predicted_mask_path = os.path.join(s_cloud_dir, predicted_mask_filename)\n",
        "            predicted_mask = cv2.imread(predicted_mask_path, cv2.IMREAD_GRAYSCALE)\n",
        "\n",
        "             # Assuming corresponding true mask exists in s_cloud directory\n",
        "            true_mask_filename = f\"true_mask_{base_filename}.png\"\n",
        "            true_mask_path = os.path.join(s_cloud_dir, true_mask_filename)\n",
        "            true_mask = cv2.imread(true_mask_path, cv2.IMREAD_GRAYSCALE)\n",
        "\n",
        "\n",
        "            plt.subplot(num_samples_to_visualize, 3, i * 3 + 1)\n",
        "            plt.imshow(img)\n",
        "            plt.title(f'Y-Cloud Image: {filename}')\n",
        "            plt.axis('off')\n",
        "\n",
        "            plt.subplot(num_samples_to_visualize, 3, i * 3 + 2)\n",
        "            plt.imshow(true_mask, cmap='gray')\n",
        "            plt.title(f'True Mask: {base_filename}')\n",
        "            plt.axis('off')\n",
        "\n",
        "            plt.subplot(num_samples_to_visualize, 3, i * 3 + 3)\n",
        "            plt.imshow(predicted_mask, cmap='gray')\n",
        "            plt.title(f'Predicted Mask: {base_filename}')\n",
        "            plt.axis('off')\n",
        "\n",
        "    else:\n",
        "        print(f\"No files found in '{y_cloud_dir}'.\")\n",
        "\n",
        "except FileNotFoundError as e:\n",
        "    print(f\"Error accessing directory: {e}\")\n",
        "except Exception as e:\n",
        "    print(f\"An error occurred while visualizing y_cloud samples: {e}\")\n",
        "\n",
        "plt.tight_layout()\n",
        "plt.show()"
      ]
    },
    {
      "cell_type": "markdown",
      "metadata": {
        "id": "62fe6255"
      },
      "source": [
        "**추론**:\n",
        "추론 결과를 사용할 수 없어 이전 시도가 실패했습니다. 먼저 `inference` 함수를 호출하여 `all_images`, `all_true_masks`, `all_pred_masks` 변수를 가져와야 하고 `test_images`도 사용할 수 있는지 확인해야 합니다. 결과를 얻은 후 단계를 반복하여 디렉터리를 만들고 분류에 따라 이미지와 마스크를 저장합니다.\n",
        "\n"
      ]
    },
    {
      "cell_type": "code",
      "execution_count": null,
      "metadata": {
        "colab": {
          "base_uri": "https://localhost:8080/"
        },
        "id": "b534083e",
        "outputId": "49e324e3-eab6-4355-c824-6d70dd33d069"
      },
      "outputs": [
        {
          "name": "stdout",
          "output_type": "stream",
          "text": [
            "Running inference on the test set...\n",
            "Starting inference on 100 samples...\n",
            "Inference complete.\n",
            "Inference complete.\n",
            "Number of test images used for inference: 100\n",
            "Inference results for 100 samples are ready for classification and saving.\n"
          ]
        }
      ],
      "source": [
        "import os\n",
        "import cv2\n",
        "import numpy as np\n",
        "import torch # Make sure torch is imported for moving tensors to device\n",
        "\n",
        "# Assume model, test_loader, and device are defined from previous steps\n",
        "\n",
        "# Run inference to get the results\n",
        "print(\"Running inference on the test set...\")\n",
        "# Check if test_loader is defined and not None before calling inference\n",
        "if 'test_loader' in locals() and test_loader is not None:\n",
        "    # Limit inference to approximately 100 samples\n",
        "    num_samples_for_inference = 100\n",
        "    # Create a subset of the test dataset for inference\n",
        "    test_dataset_subset = torch.utils.data.Subset(test_dataset, range(min(num_samples_for_inference, len(test_dataset))))\n",
        "    test_loader_subset = DataLoader(test_dataset_subset, batch_size=test_loader.batch_size, shuffle=False, num_workers=test_loader.num_workers)\n",
        "\n",
        "\n",
        "    all_images, all_true_masks, all_pred_masks = inference(model, test_loader_subset, device)\n",
        "    print(\"Inference complete.\")\n",
        "\n",
        "    # Assume test_images list is available from the data loading/splitting step\n",
        "    # The CloudDataset stores image_files, so we can access it like this:\n",
        "    if 'test_dataset' in locals():\n",
        "        # Get the original file paths for the subset of data used for inference\n",
        "        test_images_subset_paths = [test_dataset.image_files[i] for i in test_dataset_subset.indices]\n",
        "        test_images = test_images_subset_paths # Use the subset paths for saving\n",
        "\n",
        "        print(f\"Number of test images used for inference: {len(test_images)}\")\n",
        "    else:\n",
        "        print(\"Error: test_dataset not found. Cannot retrieve original file paths.\")\n",
        "        test_images = [] # Initialize as empty list to avoid further errors\n",
        "\n",
        "\n",
        "    # Define output directories - WILL BE DEFINED IN THE NEXT CELL FOR CLARITY\n",
        "\n",
        "    # Check if inference results and original file paths are now available and have the same length\n",
        "    if not all_pred_masks or not test_images or len(all_pred_masks) != len(test_images):\n",
        "        print(\"Error: Inference results or original file paths are not correctly loaded or their lengths do not match. Cannot proceed with classification.\")\n",
        "    else:\n",
        "        print(f\"Inference results for {len(all_pred_masks)} samples are ready for classification and saving.\")\n",
        "        # The actual classification and saving will happen in the next cell\n",
        "else:\n",
        "    print(\"Error: test_loader is not defined or is None. Cannot run inference.\")"
      ]
    },
    {
      "cell_type": "markdown",
      "metadata": {
        "id": "cc46f36b"
      },
      "source": [
        "## 결과 확인\n",
        "\n",
        "### Subtask:\n",
        "분류된 폴더의 내용을 확인하여 추론 및 분류가 성공적으로 수행되었는지 확인합니다.\n"
      ]
    },
    {
      "cell_type": "markdown",
      "metadata": {
        "id": "d57b675c"
      },
      "source": [
        "**추론**:\n",
        "생성된 출력 디렉터리의 내용을 확인하여 추론 및 분류가 성공적으로 수행되었는지, 파일이 예상대로 존재하는지 확인합니다.\n",
        "\n"
      ]
    },
    {
      "cell_type": "markdown",
      "metadata": {
        "id": "d4648733"
      },
      "source": [
        "## 요약:\n",
        "\n",
        "### 데이터 분석 주요 결과\n",
        "\n",
        "* 저장된 가중치를 사용하여 훈련된 U-Net 모델과 EfficientNet-B0 인코더를 성공적으로 로드했습니다.\n",
        "* 1260개의 테스트 샘플이 포함된 \"38-cloud\" 데이터 세트에서 테스트 데이터 세트와 DataLoader가 준비되었습니다.\n",
        "* 추론 함수가 성공적으로 구현 및 실행되어 테스트 샘플에 대한 예상 세그멘테이션 마스크가 생성되었습니다.\n",
        "* 추론 결과를 처리하여 예측된 마스크에 따라 원본 이미지를 'n\\_cloud'(클라우드가 감지되지 않음)와 'y\\_cloud'(클라우드가 감지됨)로 분류했습니다.\n",
        "* 원본 이미지와 그에 해당하는 실제 및 예측 세그먼테이션 마스크는 각각의 'n\\_cloud', 'y\\_cloud', 's\\_cloud' 출력 디렉터리에 저장되었습니다.\n",
        "* 확인 결과 원본 이미지는 1260개('n\\_cloud'에 520개, 'y\\_cloud'에 740개)가 저장되었고, 마스크 파일(각 원본 이미지의 실제 및 예측 마스크)은 2520개가 's\\_cloud' 디렉터리에 저장된 것으로 확인되었습니다.\n",
        "\n",
        "### 인사이트 또는 다음 단계\n",
        "\n",
        "* 성공적인 분류와 결과 저장은 예측된 마스크의 IoU 또는 Dice 계수와 같은 지표를 사용해 모델의 성능을 정량적으로 평가하는 등 추가 분석을 위한 토대를 마련합니다.\n",
        "* 분류된 데이터 세트는 모델의 클라우드 탐지 및 세분화 정확도를 정성적으로 평가하고 개선이 필요한 잠재적 영역을 식별하기 위해 시각적 검사에 사용할 수 있습니다.\n"
      ]
    },
    {
      "cell_type": "code",
      "execution_count": null,
      "metadata": {
        "id": "6ChAeuVnFyBl"
      },
      "outputs": [],
      "source": []
    },
    {
      "cell_type": "markdown",
      "metadata": {
        "id": "e3a820ed"
      },
      "source": [
        "## 모델 성능 평가\n",
        "\n",
        "### Subtask:\n",
        "모델의 성능을 평가하기 위해 IoU (Intersection over Union) 또는 Dice 계수와 같은 지표를 계산합니다."
      ]
    },
    {
      "cell_type": "markdown",
      "metadata": {
        "id": "3c257745"
      },
      "source": [
        "**추론**:\n",
        "테스트 데이터셋에서 모델의 성능을 정량적으로 평가하기 위해 평균 IoU 및 Dice 계수를 계산하는 함수를 정의하고 실행합니다."
      ]
    },
    {
      "cell_type": "code",
      "execution_count": 43,
      "metadata": {
        "colab": {
          "base_uri": "https://localhost:8080/"
        },
        "id": "597a008d",
        "outputId": "785be98e-6354-4437-c66a-ffcc55415e66"
      },
      "outputs": [
        {
          "name": "stdout",
          "output_type": "stream",
          "text": [
            "Error: Model, inference_data_loader, or device is not defined. Cannot perform evaluation.\n"
          ]
        }
      ],
      "source": [
        "import torch\n",
        "import numpy as np\n",
        "# No need to import smp_metrics or smp_functional if using manual calculation\n",
        "# import segmentation_models_pytorch.metrics as smp_metrics\n",
        "# import segmentation_models_pytorch.functional as smp_functional\n",
        "\n",
        "\n",
        "# Assume model, inference_data_loader, and device are defined from previous steps\n",
        "\n",
        "def evaluate_model(model, data_loader, device):\n",
        "    \"\"\"\n",
        "    Evaluates the model's performance on a given data loader using IoU and Dice coefficient\n",
        "    calculated manually from binary masks.\n",
        "\n",
        "    Args:\n",
        "        model (torch.nn.Module): The trained segmentation model.\n",
        "        data_loader (torch.utils.data.DataLoader): DataLoader for the evaluation dataset.\n",
        "        device (torch.device): The device to perform evaluation on (CPU or GPU).\n",
        "\n",
        "    Returns:\n",
        "        tuple: Mean IoU and Mean Dice coefficient for the dataset.\n",
        "    \"\"\"\n",
        "    model.eval()  # Set the model to evaluation mode\n",
        "    total_iou = 0.0\n",
        "    total_dice = 0.0\n",
        "    num_samples = 0\n",
        "    # Use a small epsilon to avoid division by zero\n",
        "    epsilon = 1e-6\n",
        "\n",
        "    # Disable gradient calculation for evaluation\n",
        "    with torch.no_grad():\n",
        "        if data_loader is None:\n",
        "            print(\"Error: Data loader is None. Cannot perform evaluation.\")\n",
        "            return 0.0, 0.0\n",
        "\n",
        "        print(f\"Starting model evaluation on {len(data_loader.dataset)} samples...\")\n",
        "\n",
        "        for images, masks in data_loader:\n",
        "            # Move images and masks to the specified device\n",
        "            images = images.to(device)\n",
        "            masks = masks.to(device)\n",
        "\n",
        "            # Forward pass: compute predicted masks\n",
        "            outputs = model(images)\n",
        "\n",
        "            # Apply sigmoid activation and threshold to get binary masks (0 or 1)\n",
        "            predicted_masks = torch.sigmoid(outputs)\n",
        "            predicted_masks_binary = (predicted_masks > 0.5).float() # Threshold at 0.5\n",
        "\n",
        "            # Ensure masks are also binary (0 or 1)\n",
        "            true_masks_binary = (masks > 0.5).float()\n",
        "\n",
        "            # Calculate True Positives (TP), False Positives (FP), False Negatives (FN)\n",
        "            # TP: pixels where both predicted and true are 1\n",
        "            # FP: pixels where predicted is 1 and true is 0\n",
        "            # FN: pixels where predicted is 0 and true is 1\n",
        "\n",
        "            tp = (predicted_masks_binary * true_masks_binary).sum(dim=[1, 2, 3])\n",
        "            fp = ((1 - true_masks_binary) * predicted_masks_binary).sum(dim=[1, 2, 3])\n",
        "            fn = (true_masks_binary * (1 - predicted_masks_binary)).sum(dim=[1, 2, 3])\n",
        "\n",
        "            # Calculate IoU and Dice coefficient for each sample in the batch\n",
        "            batch_iou = (tp + epsilon) / (tp + fp + fn + epsilon)\n",
        "            batch_dice = (2 * tp + epsilon) / (2 * tp + fp + fn + epsilon) # Equivalent to F1 Score\n",
        "\n",
        "            # Sum up the metrics across the batch and add to total\n",
        "            total_iou += batch_iou.sum().item()\n",
        "            total_dice += batch_dice.sum().item()\n",
        "            num_samples += images.size(0)\n",
        "\n",
        "\n",
        "    mean_iou = total_iou / num_samples if num_samples > 0 else 0.0\n",
        "    mean_dice = total_dice / num_samples if num_samples > 0 else 0.0\n",
        "\n",
        "    print(\"Model evaluation complete.\")\n",
        "\n",
        "    return mean_iou, mean_dice\n",
        "\n",
        "# Run evaluation on the test set\n",
        "# Ensure model, inference_data_loader, and device are defined\n",
        "if 'model' in locals() and 'inference_data_loader' in locals() and 'device' in locals() and inference_data_loader is not None:\n",
        "    print(\"Evaluating on the inference data loader.\")\n",
        "    mean_iou, mean_dice = evaluate_model(model, inference_data_loader, device)\n",
        "\n",
        "    print(f\"\\nMean IoU on Test Set (Inference Subset): {mean_iou:.4f}\")\n",
        "    print(f\"Mean Dice Coefficient on Test Set (Inference Subset): {mean_dice:.4f}\")\n",
        "\n",
        "else:\n",
        "    print(\"Error: Model, inference_data_loader, or device is not defined. Cannot perform evaluation.\")\n"
      ]
    },
    {
      "cell_type": "markdown",
      "metadata": {
        "id": "dc73cbc7"
      },
      "source": [
        "# 추론 단계\n",
        "\n",
        "## 모델 로드\n",
        "\n",
        "### Subtask:\n",
        "저장된 가중치를 로드하여 훈련된 모델을 다시 만듭니다."
      ]
    },
    {
      "cell_type": "markdown",
      "metadata": {
        "id": "e554c849"
      },
      "source": [
        "**추론**:\n",
        "저장된 모델 가중치를 로드하고 학습된 모델 인스턴스를 다시 생성합니다. 추론에 사용할 장치(GPU 또는 CPU)를 설정합니다."
      ]
    },
    {
      "cell_type": "code",
      "execution_count": null,
      "metadata": {
        "colab": {
          "base_uri": "https://localhost:8080/"
        },
        "id": "2557fbbf",
        "outputId": "30f84441-ddcc-4ac6-d6ae-5443ca5ba459"
      },
      "outputs": [
        {
          "name": "stdout",
          "output_type": "stream",
          "text": [
            "Requirement already satisfied: segmentation_models_pytorch in /usr/local/lib/python3.12/dist-packages (0.5.0)\n",
            "Requirement already satisfied: huggingface-hub>=0.24 in /usr/local/lib/python3.12/dist-packages (from segmentation_models_pytorch) (0.34.4)\n",
            "Requirement already satisfied: numpy>=1.19.3 in /usr/local/lib/python3.12/dist-packages (from segmentation_models_pytorch) (2.0.2)\n",
            "Requirement already satisfied: pillow>=8 in /usr/local/lib/python3.12/dist-packages (from segmentation_models_pytorch) (11.3.0)\n",
            "Requirement already satisfied: safetensors>=0.3.1 in /usr/local/lib/python3.12/dist-packages (from segmentation_models_pytorch) (0.6.2)\n",
            "Requirement already satisfied: timm>=0.9 in /usr/local/lib/python3.12/dist-packages (from segmentation_models_pytorch) (1.0.19)\n",
            "Requirement already satisfied: torch>=1.8 in /usr/local/lib/python3.12/dist-packages (from segmentation_models_pytorch) (2.8.0+cu126)\n",
            "Requirement already satisfied: torchvision>=0.9 in /usr/local/lib/python3.12/dist-packages (from segmentation_models_pytorch) (0.23.0+cu126)\n",
            "Requirement already satisfied: tqdm>=4.42.1 in /usr/local/lib/python3.12/dist-packages (from segmentation_models_pytorch) (4.67.1)\n",
            "Requirement already satisfied: filelock in /usr/local/lib/python3.12/dist-packages (from huggingface-hub>=0.24->segmentation_models_pytorch) (3.19.1)\n",
            "Requirement already satisfied: fsspec>=2023.5.0 in /usr/local/lib/python3.12/dist-packages (from huggingface-hub>=0.24->segmentation_models_pytorch) (2025.3.0)\n",
            "Requirement already satisfied: packaging>=20.9 in /usr/local/lib/python3.12/dist-packages (from huggingface-hub>=0.24->segmentation_models_pytorch) (25.0)\n",
            "Requirement already satisfied: pyyaml>=5.1 in /usr/local/lib/python3.12/dist-packages (from huggingface-hub>=0.24->segmentation_models_pytorch) (6.0.2)\n",
            "Requirement already satisfied: requests in /usr/local/lib/python3.12/dist-packages (from huggingface-hub>=0.24->segmentation_models_pytorch) (2.32.4)\n",
            "Requirement already satisfied: typing-extensions>=3.7.4.3 in /usr/local/lib/python3.12/dist-packages (from huggingface-hub>=0.24->segmentation_models_pytorch) (4.15.0)\n",
            "Requirement already satisfied: hf-xet<2.0.0,>=1.1.3 in /usr/local/lib/python3.12/dist-packages (from huggingface-hub>=0.24->segmentation_models_pytorch) (1.1.9)\n",
            "Requirement already satisfied: setuptools in /usr/local/lib/python3.12/dist-packages (from torch>=1.8->segmentation_models_pytorch) (75.2.0)\n",
            "Requirement already satisfied: sympy>=1.13.3 in /usr/local/lib/python3.12/dist-packages (from torch>=1.8->segmentation_models_pytorch) (1.13.3)\n",
            "Requirement already satisfied: networkx in /usr/local/lib/python3.12/dist-packages (from torch>=1.8->segmentation_models_pytorch) (3.5)\n",
            "Requirement already satisfied: jinja2 in /usr/local/lib/python3.12/dist-packages (from torch>=1.8->segmentation_models_pytorch) (3.1.6)\n",
            "Requirement already satisfied: nvidia-cuda-nvrtc-cu12==12.6.77 in /usr/local/lib/python3.12/dist-packages (from torch>=1.8->segmentation_models_pytorch) (12.6.77)\n",
            "Requirement already satisfied: nvidia-cuda-runtime-cu12==12.6.77 in /usr/local/lib/python3.12/dist-packages (from torch>=1.8->segmentation_models_pytorch) (12.6.77)\n",
            "Requirement already satisfied: nvidia-cuda-cupti-cu12==12.6.80 in /usr/local/lib/python3.12/dist-packages (from torch>=1.8->segmentation_models_pytorch) (12.6.80)\n",
            "Requirement already satisfied: nvidia-cudnn-cu12==9.10.2.21 in /usr/local/lib/python3.12/dist-packages (from torch>=1.8->segmentation_models_pytorch) (9.10.2.21)\n",
            "Requirement already satisfied: nvidia-cublas-cu12==12.6.4.1 in /usr/local/lib/python3.12/dist-packages (from torch>=1.8->segmentation_models_pytorch) (12.6.4.1)\n",
            "Requirement already satisfied: nvidia-cufft-cu12==11.3.0.4 in /usr/local/lib/python3.12/dist-packages (from torch>=1.8->segmentation_models_pytorch) (11.3.0.4)\n",
            "Requirement already satisfied: nvidia-curand-cu12==10.3.7.77 in /usr/local/lib/python3.12/dist-packages (from torch>=1.8->segmentation_models_pytorch) (10.3.7.77)\n",
            "Requirement already satisfied: nvidia-cusolver-cu12==11.7.1.2 in /usr/local/lib/python3.12/dist-packages (from torch>=1.8->segmentation_models_pytorch) (11.7.1.2)\n",
            "Requirement already satisfied: nvidia-cusparse-cu12==12.5.4.2 in /usr/local/lib/python3.12/dist-packages (from torch>=1.8->segmentation_models_pytorch) (12.5.4.2)\n",
            "Requirement already satisfied: nvidia-cusparselt-cu12==0.7.1 in /usr/local/lib/python3.12/dist-packages (from torch>=1.8->segmentation_models_pytorch) (0.7.1)\n",
            "Requirement already satisfied: nvidia-nccl-cu12==2.27.3 in /usr/local/lib/python3.12/dist-packages (from torch>=1.8->segmentation_models_pytorch) (2.27.3)\n",
            "Requirement already satisfied: nvidia-nvtx-cu12==12.6.77 in /usr/local/lib/python3.12/dist-packages (from torch>=1.8->segmentation_models_pytorch) (12.6.77)\n",
            "Requirement already satisfied: nvidia-nvjitlink-cu12==12.6.85 in /usr/local/lib/python3.12/dist-packages (from torch>=1.8->segmentation_models_pytorch) (12.6.85)\n",
            "Requirement already satisfied: nvidia-cufile-cu12==1.11.1.6 in /usr/local/lib/python3.12/dist-packages (from torch>=1.8->segmentation_models_pytorch) (1.11.1.6)\n",
            "Requirement already satisfied: triton==3.4.0 in /usr/local/lib/python3.12/dist-packages (from torch>=1.8->segmentation_models_pytorch) (3.4.0)\n",
            "Requirement already satisfied: mpmath<1.4,>=1.1.0 in /usr/local/lib/python3.12/dist-packages (from sympy>=1.13.3->torch>=1.8->segmentation_models_pytorch) (1.3.0)\n",
            "Requirement already satisfied: MarkupSafe>=2.0 in /usr/local/lib/python3.12/dist-packages (from jinja2->torch>=1.8->segmentation_models_pytorch) (3.0.2)\n",
            "Requirement already satisfied: charset_normalizer<4,>=2 in /usr/local/lib/python3.12/dist-packages (from requests->huggingface-hub>=0.24->segmentation_models_pytorch) (3.4.3)\n",
            "Requirement already satisfied: idna<4,>=2.5 in /usr/local/lib/python3.12/dist-packages (from requests->huggingface-hub>=0.24->segmentation_models_pytorch) (3.10)\n",
            "Requirement already satisfied: urllib3<3,>=1.21.1 in /usr/local/lib/python3.12/dist-packages (from requests->huggingface-hub>=0.24->segmentation_models_pytorch) (2.5.0)\n",
            "Requirement already satisfied: certifi>=2017.4.17 in /usr/local/lib/python3.12/dist-packages (from requests->huggingface-hub>=0.24->segmentation_models_pytorch) (2025.8.3)\n"
          ]
        }
      ],
      "source": [
        "%pip install segmentation_models_pytorch"
      ]
    },
    {
      "cell_type": "code",
      "execution_count": 46,
      "metadata": {
        "colab": {
          "base_uri": "https://localhost:8080/"
        },
        "id": "1443fbe3",
        "outputId": "b90bb588-11fc-46c7-9dbc-ee7a52839555"
      },
      "outputs": [
        {
          "name": "stdout",
          "output_type": "stream",
          "text": [
            "Using device: cuda\n",
            "Model weights successfully loaded from /home/goit/goit_pro/ai_rnd/IMG_SEG_PRJ/model/unet_efficientnetb20_cloud_segmentation.pth\n",
            "Trained model recreated and loaded.\n",
            "\n",
            "Necessary data loading functions and transforms re-defined for Inference section.\n"
          ]
        }
      ],
      "source": [
        "import torch\n",
        "import segmentation_models_pytorch as sm\n",
        "import os\n",
        "import cv2 # Added cv2 for load_and_preprocess_image_mask\n",
        "import numpy as np # Added numpy for load_and_preprocess_image_mask\n",
        "from torch.utils.data import Dataset # Added Dataset for CloudDataset\n",
        "import albumentations as A # Added albumentations for transforms\n",
        "\n",
        "\n",
        "# Define the filename where the model weights were saved (assuming it's in Google Drive)\n",
        "# Please update 'YOUR_MODEL_PATH_IN_DRIVE' with the actual path to your .pth file in Google Drive\n",
        "# Example: '/content/drive/MyDrive/cloud_segmentation_models/unet_efficientnetb0_cloud_segmentation.pth'\n",
        "model_filename = '/home/goit/goit_pro/ai_rnd/IMG_SEG_PRJ/model/unet_efficientnetb20_cloud_segmentation.pth' # <-- 여기에 실제 모델 파일 경로를 입력하세요\n",
        "\n",
        "# Define the device to use (GPU if available, otherwise CPU)\n",
        "device = torch.device(\"cuda\" if torch.cuda.is_available() else \"cpu\")\n",
        "print(f\"Using device: {device}\")\n",
        "\n",
        "# Create a new instance of the U-Net model with the same architecture as trained\n",
        "# Ensure the architecture parameters match the saved model\n",
        "model = sm.Unet(\n",
        "    encoder_name=\"efficientnet-b0\",\n",
        "    encoder_weights=None, # No need to load imagenet weights again for inference\n",
        "    in_channels=3,\n",
        "    classes=1,\n",
        ")\n",
        "\n",
        "# Load the saved state dictionary from the file\n",
        "try:\n",
        "    model.load_state_dict(torch.load(model_filename, map_location=device))\n",
        "    print(f\"Model weights successfully loaded from {model_filename}\")\n",
        "\n",
        "    # Set the model to evaluation mode\n",
        "    model.eval()\n",
        "\n",
        "    # Move the model to the specified device\n",
        "    model.to(device)\n",
        "\n",
        "    print(\"Trained model recreated and loaded.\")\n",
        "\n",
        "except FileNotFoundError:\n",
        "    print(f\"Error: Model weights file not found at {model_filename}. Please check the path.\")\n",
        "except Exception as e:\n",
        "    print(f\"Error loading model weights: {e}\")\n",
        "\n",
        "# --- Re-define necessary functions and transforms for inference section ---\n",
        "\n",
        "# Define the data loading and preprocessing function\n",
        "def load_and_preprocess_image_mask(image_path, mask_path):\n",
        "    \"\"\"\n",
        "    Loads and preprocesses an image and its corresponding mask.\n",
        "    Removes initial resizing.\n",
        "\n",
        "    Args:\n",
        "        image_path (str): Path to the image file.\n",
        "        mask_path (str): Path to the mask file.\n",
        "\n",
        "    Returns:\n",
        "        tuple: A tuple containing the preprocessed image (numpy array)\n",
        "               and the preprocessed mask (numpy array).\n",
        "    \"\"\"\n",
        "    # Load image in color (RGB)\n",
        "    image = cv2.imread(image_path)\n",
        "    if image is None:\n",
        "        print(f\"Error loading image: {image_path}\")\n",
        "        return None, None\n",
        "    image = cv2.cvtColor(image, cv2.COLOR_BGR2RGB)\n",
        "\n",
        "    # Load mask in grayscale\n",
        "    mask = cv2.imread(mask_path, cv2.IMREAD_GRAYSCALE)\n",
        "    if mask is None:\n",
        "        print(f\"Error loading mask: {mask_path}\")\n",
        "        return None, None\n",
        "\n",
        "    # No resizing here\n",
        "    # Image and mask will retain their original size (e.g., 384x384)\n",
        "\n",
        "    # Normalize image pixel values to [0, 1]\n",
        "    image = image.astype(np.float32) / 255.0\n",
        "\n",
        "    # Normalize mask pixel values to [0, 1] (assuming mask is binary 0 or 255)\n",
        "    mask = mask.astype(np.float32) / 255.0\n",
        "    # Expand mask dimensions to (height, width, 1) for consistency with image shape\n",
        "    mask = np.expand_dims(mask, axis=-1)\n",
        "\n",
        "    return image, mask\n",
        "\n",
        "# Define the custom Dataset class\n",
        "class CloudDataset(Dataset):\n",
        "    \"\"\"Custom Dataset for loading cloud images and masks with optional augmentations.\"\"\"\n",
        "\n",
        "    def __init__(self, image_files, mask_files, preprocess_fn=None, transform=None):\n",
        "        \"\"\"\n",
        "        Args:\n",
        "            image_files (list): List of paths to image files.\n",
        "            mask_files (list): List of paths to mask files.\n",
        "            preprocess_fn (callable, optional): Optional function to be applied\n",
        "                on a sample before augmentation. Defaults to None.\n",
        "            transform (callable, optional): Optional albumentations transform to be applied\n",
        "                on a sample after preprocessing. Defaults to None.\n",
        "        \"\"\"\n",
        "        if len(image_files) != len(mask_files):\n",
        "            raise ValueError(\"Number of image files and mask files must be the same.\")\n",
        "\n",
        "        self.image_files = image_files\n",
        "        self.mask_files = mask_files\n",
        "        self.preprocess_fn = preprocess_fn\n",
        "        self.transform = transform\n",
        "\n",
        "    def __len__(self):\n",
        "        return len(self.image_files)\n",
        "\n",
        "    def __getitem__(self, idx):\n",
        "        if torch.is_tensor(idx):\n",
        "            idx = idx.tolist()\n",
        "\n",
        "        img_path = self.image_files[idx]\n",
        "        mask_path = self.mask_files[idx]\n",
        "\n",
        "        # Load and preprocess using the provided function\n",
        "        image, mask = self.preprocess_fn(img_path, mask_path)\n",
        "\n",
        "        if image is None or mask is None:\n",
        "            print(f\"Warning: Could not load or preprocess data for index {idx}\")\n",
        "            return None\n",
        "\n",
        "        # Apply augmentations if transform is provided\n",
        "        if self.transform:\n",
        "            # Albumentations expects input in HWC format\n",
        "            if mask.ndim == 2:\n",
        "                 mask = np.expand_dims(mask, axis=-1)\n",
        "\n",
        "            augmented = self.transform(image=image, mask=mask)\n",
        "            image = augmented['image']\n",
        "            mask = augmented['mask']\n",
        "\n",
        "        # Convert numpy arrays to PyTorch tensors after augmentation\n",
        "        # Image: (H, W, C) -> (C, H, W) for PyTorch\n",
        "        image = torch.from_numpy(image).permute(2, 0, 1).float()\n",
        "        # Mask: (H, W, 1) -> (1, H, W)\n",
        "        mask = torch.from_numpy(mask).permute(2, 0, 1).float()\n",
        "\n",
        "        return image, mask, img_path\n",
        "\n",
        "# Define the transform for validation and test (only resizing) - needed for inference data loader\n",
        "val_test_transform = A.Compose([\n",
        "    A.Resize(height=256, width=256), # Resize validation/test data to target size\n",
        "], bbox_params=None, keypoint_params=None, additional_targets={'mask': 'mask'})\n",
        "\n",
        "print(\"\\nNecessary data loading functions and transforms re-defined for Inference section.\")\n"
      ]
    },
    {
      "cell_type": "markdown",
      "metadata": {
        "id": "dcb4d2c5"
      },
      "source": [
        "## 테스트 데이터 로더 준비\n",
        "\n",
        "### Subtask:\n",
        "추론에 사용할 테스트 데이터 로더를 준비합니다."
      ]
    },
    {
      "cell_type": "markdown",
      "metadata": {
        "id": "f54808d5"
      },
      "source": [
        "**추론**:\n",
        "이전 '파이프라인' 섹션에서 생성된 테스트 데이터 로더(`test_loader` 또는 추론용 부분 집합 `test_loader_subset`)가 사용 가능한지 확인합니다."
      ]
    },
    {
      "cell_type": "code",
      "execution_count": 47,
      "metadata": {
        "colab": {
          "base_uri": "https://localhost:8080/"
        },
        "id": "d4ab9888",
        "outputId": "30cb6414-812c-4800-8190-0c6e19dfc6b9"
      },
      "outputs": [
        {
          "name": "stdout",
          "output_type": "stream",
          "text": [
            "Dataset training data directory not found, attempting to download dataset using kagglehub...\n",
            "Dataset downloaded to: /home/goit/.cache/kagglehub/datasets/sorour/38cloud-cloud-segmentation-in-satellite-images/versions/4\n",
            "Image directory set to: /home/goit/.cache/kagglehub/datasets/sorour/38cloud-cloud-segmentation-in-satellite-images/versions/4/38-Cloud_training/train_red\n",
            "Mask directory set to: /home/goit/.cache/kagglehub/datasets/sorour/38cloud-cloud-segmentation-in-satellite-images/versions/4/38-Cloud_training/train_gt\n",
            "Found 8400 image files and 8400 mask files.\n",
            "Total images found: 8400\n",
            "Train samples: 5880\n",
            "Validation samples: 1260\n",
            "Test samples: 1260\n",
            "\n",
            "Inference data loader prepared with 100 samples.\n",
            "Batch size: 16\n",
            "Number of batches: 7\n"
          ]
        }
      ],
      "source": [
        "from torch.utils.data import DataLoader, Subset # Import Subset\n",
        "from sklearn.model_selection import train_test_split # Needed for splitting data\n",
        "import os\n",
        "import kagglehub # Needed for dataset download\n",
        "\n",
        "\n",
        "# --- Define dataset path and get file lists ---\n",
        "# This part now includes dataset download if files are not found\n",
        "\n",
        "dataset_path = '/root/.cache/kagglehub/datasets/sorour/38cloud-cloud-segmentation-in-satellite-images/versions/4'\n",
        "train_data_path = os.path.join(dataset_path, '38-Cloud_training')\n",
        "image_dir = os.path.join(train_data_path, 'train_red')\n",
        "mask_dir = os.path.join(train_data_path, 'train_gt')\n",
        "\n",
        "# Check if the training data directory exists, if not, try downloading\n",
        "if not os.path.exists(train_data_path):\n",
        "    print(\"Dataset training data directory not found, attempting to download dataset using kagglehub...\")\n",
        "    try:\n",
        "        path = kagglehub.dataset_download(\"sorour/38cloud-cloud-segmentation-in-satellite-images\")\n",
        "        print(\"Dataset downloaded to:\", path)\n",
        "        # Update dataset_path in case download path is different (kagglehub usually extracts to cache)\n",
        "        # Re-define paths after successful download\n",
        "        dataset_path = path\n",
        "        train_data_path = os.path.join(dataset_path, '38-Cloud_training')\n",
        "        image_dir = os.path.join(train_data_path, 'train_red')\n",
        "        mask_dir = os.path.join(train_data_path, 'train_gt')\n",
        "        print(f\"Image directory set to: {image_dir}\")\n",
        "        print(f\"Mask directory set to: {mask_dir}\")\n",
        "\n",
        "\n",
        "    except Exception as e:\n",
        "        print(f\"Error during dataset download attempt: {e}\")\n",
        "        # If download fails, the directories might still not exist, leading to errors below\n",
        "        image_files_list = [] # Ensure lists are empty if download fails\n",
        "        mask_files_list = []\n",
        "        print(\"Could not download dataset. Please ensure Kaggle API is set up correctly.\")\n",
        "else:\n",
        "     print(\"Dataset training data directory found.\")\n",
        "\n",
        "\n",
        "# Get list of image and mask files, looking for .TIF extension\n",
        "# Check if directories exist before listing\n",
        "if os.path.exists(image_dir) and os.path.exists(mask_dir):\n",
        "    image_files_list = [os.path.join(image_dir, f) for f in os.listdir(image_dir) if f.endswith('.TIF')]\n",
        "    mask_files_list = [os.path.join(mask_dir, f) for f in os.listdir(mask_dir) if f.endswith('.TIF')]\n",
        "\n",
        "    # Ensure correspondence (assuming file names match except for prefix and extension)\n",
        "    image_files_list.sort()\n",
        "    mask_files_list.sort()\n",
        "    print(f\"Found {len(image_files_list)} image files and {len(mask_files_list)} mask files.\")\n",
        "\n",
        "else:\n",
        "    image_files_list = []\n",
        "    mask_files_list = []\n",
        "    print(\"Image or mask directories not found. Cannot list files.\")\n",
        "\n",
        "\n",
        "# Check if lists are empty\n",
        "if not image_files_list or not mask_files_list:\n",
        "    print(\"Error: Image or mask file lists are empty. Cannot create data loaders.\")\n",
        "    inference_data_loader = None # Ensure data loader is None if file listing failed\n",
        "\n",
        "else:\n",
        "    # Split data into training, validation, and test sets\n",
        "    # We only need the test set for inference, but we split to get consistent test data\n",
        "    # Check if the number of images and masks match before splitting\n",
        "    if len(image_files_list) != len(mask_files_list):\n",
        "        print(f\"Error: Number of image files ({len(image_files_list)}) and mask files ({len(mask_files_list)}) do not match. Cannot split data.\")\n",
        "        inference_data_loader = None\n",
        "    else:\n",
        "        train_images, temp_images, train_masks, temp_masks = train_test_split(\n",
        "            image_files_list, mask_files_list, test_size=0.3, random_state=42\n",
        "        )\n",
        "\n",
        "        # Then, split temp into validation and test\n",
        "        val_images, test_images, val_masks, test_masks = train_test_split(\n",
        "            temp_images, temp_masks, test_size=0.5, random_state=42\n",
        "        )\n",
        "\n",
        "        print(f\"Total images found: {len(image_files_list)}\")\n",
        "        print(f\"Train samples: {len(train_images)}\")\n",
        "        print(f\"Validation samples: {len(val_images)}\")\n",
        "        print(f\"Test samples: {len(test_images)}\")\n",
        "\n",
        "        # Create test dataset instance using the defined CloudDataset and transform\n",
        "        # CloudDataset and val_test_transform are assumed to be defined in the first cell of Inference section now\n",
        "        test_dataset = CloudDataset(test_images, test_masks, preprocess_fn=load_and_preprocess_image_mask, transform=val_test_transform)\n",
        "\n",
        "        # Define parameters for DataLoaders (using reasonable defaults)\n",
        "        batch_size = 16\n",
        "        num_workers = os.cpu_count() // 2 if os.cpu_count() else 2\n",
        "\n",
        "\n",
        "        # 4. Create test data loader instance\n",
        "        # Limit the number of samples for inference as requested by the user (e.g., 100 samples)\n",
        "        num_samples_for_inference = 100\n",
        "        # Ensure the number of samples requested does not exceed the available test samples\n",
        "        num_samples_to_use = min(num_samples_for_inference, len(test_dataset))\n",
        "        test_dataset_subset = Subset(test_dataset, range(num_samples_to_use))\n",
        "        inference_data_loader = DataLoader(test_dataset_subset, batch_size=batch_size, shuffle=False, num_workers=num_workers)\n",
        "\n",
        "\n",
        "        # 5. Print confirmation message and batch size\n",
        "        print(f\"\\nInference data loader prepared with {len(inference_data_loader.dataset)} samples.\")\n",
        "        print(f\"Batch size: {inference_data_loader.batch_size}\")\n",
        "        print(f\"Number of batches: {len(inference_data_loader)}\")"
      ]
    },
    {
      "cell_type": "markdown",
      "metadata": {
        "id": "85ee879f"
      },
      "source": [
        "## 추론 함수 구현\n",
        "\n",
        "### Subtask:\n",
        "모델 추론을 수행하고 예측 마스크를 생성하는 함수를 구현합니다."
      ]
    },
    {
      "cell_type": "markdown",
      "metadata": {
        "id": "0a79f69b"
      },
      "source": [
        "**추론**:\n",
        "준비된 테스트 데이터 로더에서 예측을 수행하는 '추론' 기능을 정의하여 모델이 평가 모드에 있고 그라데이션 계산이 비활성화되어 있는지 확인합니다. 이 함수는 테스트 로더를 반복하여 이미지 배치를 가져와 디바이스로 이동하고, 정방향 패스를 수행하고, 이진 분할을 위해 시그모이드 활성화를 적용하고, 원본 이미지, 실제 마스크, 예측 마스크를 수집합니다."
      ]
    },
    {
      "cell_type": "code",
      "execution_count": 48,
      "metadata": {
        "colab": {
          "base_uri": "https://localhost:8080/"
        },
        "id": "cc6f79f6",
        "outputId": "038ba6eb-9f14-49c2-c3d5-c9ff8c590329"
      },
      "outputs": [
        {
          "name": "stdout",
          "output_type": "stream",
          "text": [
            "Inference function 'inference' defined.\n"
          ]
        }
      ],
      "source": [
        "import torch\n",
        "import numpy as np\n",
        "# Assume model, inference_data_loader, and device are defined from previous steps\n",
        "\n",
        "def inference(model, data_loader, device):\n",
        "    \"\"\"\n",
        "    Performs inference using the trained model on a given data loader.\n",
        "\n",
        "    Args:\n",
        "        model (torch.nn.Module): The trained segmentation model.\n",
        "        data_loader (torch.utils.data.DataLoader): DataLoader for the inference dataset.\n",
        "        device (torch.device): The device to perform inference on (CPU or GPU).\n",
        "\n",
        "    Returns:\n",
        "        tuple: Lists of original images (numpy arrays), true masks (numpy arrays),\n",
        "               and predicted masks (numpy arrays, thresholded binary).\n",
        "               Also returns a list of original file paths if available in the dataset.\n",
        "    \"\"\"\n",
        "    model.eval()  # Set the model to evaluation mode\n",
        "    all_images = []\n",
        "    all_true_masks = []\n",
        "    all_pred_masks = []\n",
        "    original_file_paths = [] # List to store original file paths\n",
        "\n",
        "    # Disable gradient calculation for inference\n",
        "    with torch.no_grad():\n",
        "        if data_loader is None:\n",
        "            print(\"Error: Data loader is None. Cannot perform inference.\")\n",
        "            return [], [], [], []\n",
        "\n",
        "        print(f\"Starting inference on {len(data_loader.dataset)} samples...\") # Print total samples\n",
        "\n",
        "        # Check if the dataset in the loader has the 'image_files' attribute to get original paths\n",
        "        # The dataset might be a Subset, so access the original dataset via .dataset\n",
        "        dataset_has_image_files = hasattr(data_loader.dataset, 'dataset') and hasattr(data_loader.dataset.dataset, 'image_files')\n",
        "        if dataset_has_image_files:\n",
        "             print(\"Accessing original file paths from the dataset.\")\n",
        "             # Get the indices from the subset if using one\n",
        "             dataset_indices = data_loader.dataset.indices if hasattr(data_loader.dataset, 'indices') else range(len(data_loader.dataset))\n",
        "             original_image_files_list = [data_loader.dataset.dataset.image_files[i] for i in dataset_indices]\n",
        "        else:\n",
        "            print(\"Warning: Cannot access original file paths from the dataset.\")\n",
        "            # Generate dummy names as a fallback\n",
        "            original_image_files_list = [f\"sample_{i:04d}.TIF\" for i in range(len(data_loader.dataset))]\n",
        "\n",
        "\n",
        "        sample_idx_counter = 0 # Counter for samples across batches\n",
        "\n",
        "\n",
        "        for i, (images, masks) in enumerate(data_loader):\n",
        "            # Move images and masks to the specified device\n",
        "            images = images.to(device)\n",
        "            masks = masks.to(device)\n",
        "\n",
        "            # Forward pass: compute predicted masks\n",
        "            outputs = model(images)\n",
        "\n",
        "            # Apply sigmoid activation to get probabilities\n",
        "            predicted_masks = torch.sigmoid(outputs)\n",
        "\n",
        "            # Convert tensors back to numpy arrays and move to CPU\n",
        "            images_np = images.permute(0, 2, 3, 1).cpu().numpy()\n",
        "            true_masks_np = masks.squeeze(1).cpu().numpy()\n",
        "            predicted_masks_np = (predicted_masks.squeeze(1) > 0.5).cpu().numpy() # Threshold at 0.5 for binary mask\n",
        "\n",
        "            # Append batch results to the lists\n",
        "            all_images.extend(images_np)\n",
        "            all_true_masks.extend(true_masks_np)\n",
        "            all_pred_masks.extend(predicted_masks_np)\n",
        "\n",
        "            # Collect original file paths for the samples in this batch\n",
        "            for j in range(images.size(0)):\n",
        "                if sample_idx_counter < len(original_image_files_list):\n",
        "                    original_file_paths.append(original_image_files_list[sample_idx_counter])\n",
        "                else:\n",
        "                     original_file_paths.append(f\"unknown_sample_{sample_idx_counter:04d}.TIF\") # Fallback for safety\n",
        "                sample_idx_counter += 1\n",
        "\n",
        "\n",
        "            # Optional: Print progress\n",
        "            # if (i + 1) % 10 == 0:\n",
        "            #     print(f\"Processed {i + 1} batches...\")\n",
        "\n",
        "\n",
        "    print(\"Inference complete.\")\n",
        "\n",
        "    return all_images, all_true_masks, all_pred_masks, original_file_paths\n",
        "\n",
        "print(\"Inference function 'inference' defined.\")\n"
      ]
    },
    {
      "cell_type": "markdown",
      "metadata": {
        "id": "95a844cc"
      },
      "source": [
        "## 추론 실행 및 결과 처리/분류\n",
        "\n",
        "### Subtask:\n",
        "모델 추론을 실행하고, 예측 결과를 구름 감지 여부에 따라 분류하여 Google Drive의 지정된 폴더에 저장합니다."
      ]
    },
    {
      "cell_type": "markdown",
      "metadata": {
        "id": "fe619578"
      },
      "source": [
        "**추론**:\n",
        "이전에 정의된 `inference` 함수를 호출하여 테스트 데이터셋에 대한 추론을 실행하고, 얻은 결과(원본 이미지, 실제 마스크, 예측 마스크)를 반복하며 예측된 마스크의 클라우드 감지 여부에 따라 Google Drive의 'n_cloud', 'y_cloud', 's_cloud' 폴더에 저장합니다."
      ]
    },
    {
      "cell_type": "markdown",
      "metadata": {
        "id": "27f2f122"
      },
      "source": [
        "**추론**:\n",
        "Google Drive에 저장된 결과 디렉토리에서 샘플 이미지와 해당 실제 및 예측 마스크 파일을 로드하고 `matplotlib`을 사용하여 시각화하여 추론 및 분류 결과를 확인합니다."
      ]
    },
    {
      "cell_type": "code",
      "execution_count": 49,
      "metadata": {
        "colab": {
          "base_uri": "https://localhost:8080/"
        },
        "id": "b77fcf3f",
        "outputId": "969dda89-841c-4ff6-e9b4-4acc9779d748"
      },
      "outputs": [
        {
          "name": "stdout",
          "output_type": "stream",
          "text": [
            "Running inference on the test set...\n",
            "Starting inference on 100 samples...\n",
            "Accessing original file paths from the dataset.\n"
          ]
        },
        {
          "ename": "ValueError",
          "evalue": "too many values to unpack (expected 2)",
          "output_type": "error",
          "traceback": [
            "\u001b[31m---------------------------------------------------------------------------\u001b[39m",
            "\u001b[31mValueError\u001b[39m                                Traceback (most recent call last)",
            "\u001b[36mCell\u001b[39m\u001b[36m \u001b[39m\u001b[32mIn[49]\u001b[39m\u001b[32m, line 13\u001b[39m\n\u001b[32m     11\u001b[39m \u001b[38;5;66;03m# Check if inference_data_loader is defined and not None before calling inference\u001b[39;00m\n\u001b[32m     12\u001b[39m \u001b[38;5;28;01mif\u001b[39;00m \u001b[33m'\u001b[39m\u001b[33minference_data_loader\u001b[39m\u001b[33m'\u001b[39m \u001b[38;5;129;01min\u001b[39;00m \u001b[38;5;28mlocals\u001b[39m() \u001b[38;5;129;01mand\u001b[39;00m inference_data_loader \u001b[38;5;129;01mis\u001b[39;00m \u001b[38;5;129;01mnot\u001b[39;00m \u001b[38;5;28;01mNone\u001b[39;00m:\n\u001b[32m---> \u001b[39m\u001b[32m13\u001b[39m     all_images, all_true_masks, all_pred_masks, original_file_paths = \u001b[43minference\u001b[49m\u001b[43m(\u001b[49m\u001b[43mmodel\u001b[49m\u001b[43m,\u001b[49m\u001b[43m \u001b[49m\u001b[43minference_data_loader\u001b[49m\u001b[43m,\u001b[49m\u001b[43m \u001b[49m\u001b[43mdevice\u001b[49m\u001b[43m)\u001b[49m\n\u001b[32m     14\u001b[39m     \u001b[38;5;28mprint\u001b[39m(\u001b[33m\"\u001b[39m\u001b[33mInference complete.\u001b[39m\u001b[33m\"\u001b[39m)\n\u001b[32m     16\u001b[39m     \u001b[38;5;66;03m# Check if inference results are available and have the same length as original file paths\u001b[39;00m\n",
            "\u001b[36mCell\u001b[39m\u001b[36m \u001b[39m\u001b[32mIn[48]\u001b[39m\u001b[32m, line 50\u001b[39m, in \u001b[36minference\u001b[39m\u001b[34m(model, data_loader, device)\u001b[39m\n\u001b[32m     44\u001b[39m     original_image_files_list = [\u001b[33mf\u001b[39m\u001b[33m\"\u001b[39m\u001b[33msample_\u001b[39m\u001b[38;5;132;01m{\u001b[39;00mi\u001b[38;5;132;01m:\u001b[39;00m\u001b[33m04d\u001b[39m\u001b[38;5;132;01m}\u001b[39;00m\u001b[33m.TIF\u001b[39m\u001b[33m\"\u001b[39m \u001b[38;5;28;01mfor\u001b[39;00m i \u001b[38;5;129;01min\u001b[39;00m \u001b[38;5;28mrange\u001b[39m(\u001b[38;5;28mlen\u001b[39m(data_loader.dataset))]\n\u001b[32m     47\u001b[39m sample_idx_counter = \u001b[32m0\u001b[39m \u001b[38;5;66;03m# Counter for samples across batches\u001b[39;00m\n\u001b[32m---> \u001b[39m\u001b[32m50\u001b[39m \u001b[38;5;28;01mfor\u001b[39;00m i, (images, masks) \u001b[38;5;129;01min\u001b[39;00m \u001b[38;5;28menumerate\u001b[39m(data_loader):\n\u001b[32m     51\u001b[39m     \u001b[38;5;66;03m# Move images and masks to the specified device\u001b[39;00m\n\u001b[32m     52\u001b[39m     images = images.to(device)\n\u001b[32m     53\u001b[39m     masks = masks.to(device)\n",
            "\u001b[31mValueError\u001b[39m: too many values to unpack (expected 2)"
          ]
        }
      ],
      "source": [
        "import os\n",
        "import cv2\n",
        "import numpy as np\n",
        "# from google.colab import drive\n",
        "\n",
        "# Assume model, inference_data_loader, and device are defined from previous steps\n",
        "# Assume inference function is defined in a previous cell\n",
        "\n",
        "# Run inference to get the results\n",
        "print(\"Running inference on the test set...\")\n",
        "# Check if inference_data_loader is defined and not None before calling inference\n",
        "if 'inference_data_loader' in locals() and inference_data_loader is not None:\n",
        "    all_images, all_true_masks, all_pred_masks, original_file_paths = inference(model, inference_data_loader, device)\n",
        "    print(\"Inference complete.\")\n",
        "\n",
        "    # Check if inference results are available and have the same length as original file paths\n",
        "    if not all_pred_masks or not original_file_paths or len(all_pred_masks) != len(original_file_paths):\n",
        "        print(\"Error: Inference results or original file paths are not correctly loaded or their lengths do not match. Cannot proceed with classification and saving.\")\n",
        "    else:\n",
        "        print(f\"Processing {len(all_pred_masks)} inferred samples for classification and saving...\")\n",
        "\n",
        "        # Mount Google Drive (ensure it's mounted)\n",
        "        # try:\n",
        "            # drive.mount('/content/drive')\n",
        "            # print(\"Google Drive mounted.\")\n",
        "        # except Exception as e:\n",
        "            # print(f\"Error mounting Google Drive: {e}\")\n",
        "            # print(\"Please manually mount Google Drive and re-run this cell.\")\n",
        "            # # Exit or handle the error appropriately if drive is not mounted\n",
        "            # # For now, we'll continue and hope the mount was successful or already done.\n",
        "\n",
        "\n",
        "        # Define the base path in your Google Drive for saving results\n",
        "        # Use a different directory name if you want to keep results from different inference runs separate\n",
        "        output_base_dir = '/home/goit/goit_pro/ai_rnd/IMG_SEG_PRJ/outputs/unet_20' # Example: using a subdirectory\n",
        "\n",
        "        # Define output directories\n",
        "        n_cloud_dir = os.path.join(output_base_dir, 'n_cloud') # No cloud detected\n",
        "        y_cloud_dir = os.path.join(output_base_dir, 'y_cloud') # Cloud detected\n",
        "        s_cloud_dir = os.path.join(output_base_dir, 's_cloud') # Predicted segmentation masks\n",
        "\n",
        "        # Create directories if they don't exist\n",
        "        os.makedirs(n_cloud_dir, exist_ok=True)\n",
        "        os.makedirs(y_cloud_dir, exist_ok=True)\n",
        "        os.makedirs(s_cloud_dir, exist_ok=True)\n",
        "\n",
        "        print(f\"Output directories created/ensured: {n_cloud_dir}, {y_cloud_dir}, {s_cloud_dir}\")\n",
        "\n",
        "\n",
        "        # Iterate through the inferred results and save\n",
        "        for i in range(len(all_pred_masks)):\n",
        "            original_image_np = all_images[i]\n",
        "            true_mask_np = all_true_masks[i]\n",
        "            predicted_mask_np = all_pred_masks[i] # This is already thresholded binary mask (0 or 1)\n",
        "            original_file_path = original_file_paths[i] # Get the original file path\n",
        "\n",
        "            # Extract the base filename from the original file path\n",
        "            original_filename = os.path.basename(original_file_path)\n",
        "            # Remove the extension for use in output filenames\n",
        "            base_filename = os.path.splitext(original_filename)[0]\n",
        "\n",
        "            # Check if cloud is detected in the predicted mask (using the binary mask)\n",
        "            cloud_detected = np.sum(predicted_mask_np) > 0 # True if any cloud pixel (value 1) exists\n",
        "\n",
        "\n",
        "            # Define filenames for saving\n",
        "            original_save_filename = f\"{base_filename}.png\"\n",
        "            true_mask_save_filename = f\"true_mask_{base_filename}.png\"\n",
        "            predicted_mask_save_filename = f\"predicted_mask_{base_filename}.png\"\n",
        "\n",
        "\n",
        "            # Save the original image, true mask, and predicted mask\n",
        "            if cloud_detected:\n",
        "                original_save_path = os.path.join(y_cloud_dir, original_save_filename)\n",
        "                cv2.imwrite(original_save_path, cv2.cvtColor((original_image_np * 255).astype(np.uint8), cv2.COLOR_RGB2BGR))\n",
        "                # print(f\"Saved {original_save_filename} to {y_cloud_dir}\") # Optional: print each save\n",
        "            else:\n",
        "                original_save_path = os.path.join(n_cloud_dir, original_save_filename)\n",
        "                cv2.imwrite(original_save_path, cv2.cvtColor((original_image_np * 255).astype(np.uint8), cv2.COLOR_RGB2BGR))\n",
        "                # print(f\"Saved {original_save_filename} to {n_cloud_dir}\") # Optional: print each save\n",
        "\n",
        "\n",
        "            predicted_mask_save_path = os.path.join(s_cloud_dir, predicted_mask_save_filename)\n",
        "            cv2.imwrite(predicted_mask_save_path, (predicted_mask_np * 255).astype(np.uint8))\n",
        "            # print(f\"Saved {predicted_mask_save_filename} to {s_cloud_dir}\") # Optional: print each save\n",
        "\n",
        "\n",
        "            true_mask_save_path = os.path.join(s_cloud_dir, true_mask_save_filename)\n",
        "            cv2.imwrite(true_mask_save_path, (true_mask_np * 255).astype(np.uint8))\n",
        "            # print(f\"Saved {true_mask_save_filename} to {s_cloud_dir}\") # Optional: print each save\n",
        "\n",
        "\n",
        "        print(\"Classification and saving of results complete.\")\n",
        "\n",
        "else:\n",
        "    print(\"Error: inference_data_loader is not defined or is None. Cannot run inference and save results.\")"
      ]
    },
    {
      "cell_type": "code",
      "execution_count": 52,
      "metadata": {
        "colab": {
          "base_uri": "https://localhost:8080/"
        },
        "id": "4fa596f7",
        "outputId": "77959530-4927-41ec-a2b0-0d6ee303fabe"
      },
      "outputs": [
        {
          "name": "stdout",
          "output_type": "stream",
          "text": [
            "Current run number for saving results: 1\n",
            "Running inference on the test set...\n",
            "Starting inference on 100 samples...\n",
            "Accessing original file paths from the dataset.\n"
          ]
        },
        {
          "ename": "ValueError",
          "evalue": "too many values to unpack (expected 2)",
          "output_type": "error",
          "traceback": [
            "\u001b[31m---------------------------------------------------------------------------\u001b[39m",
            "\u001b[31mValueError\u001b[39m                                Traceback (most recent call last)",
            "\u001b[36mCell\u001b[39m\u001b[36m \u001b[39m\u001b[32mIn[52]\u001b[39m\u001b[32m, line 20\u001b[39m\n\u001b[32m     18\u001b[39m \u001b[38;5;66;03m# Check if inference_data_loader is defined and not None before calling inference\u001b[39;00m\n\u001b[32m     19\u001b[39m \u001b[38;5;28;01mif\u001b[39;00m \u001b[33m'\u001b[39m\u001b[33minference_data_loader\u001b[39m\u001b[33m'\u001b[39m \u001b[38;5;129;01min\u001b[39;00m \u001b[38;5;28mlocals\u001b[39m() \u001b[38;5;129;01mand\u001b[39;00m inference_data_loader \u001b[38;5;129;01mis\u001b[39;00m \u001b[38;5;129;01mnot\u001b[39;00m \u001b[38;5;28;01mNone\u001b[39;00m:\n\u001b[32m---> \u001b[39m\u001b[32m20\u001b[39m     all_images, all_true_masks, all_pred_masks, original_file_paths = \u001b[43minference\u001b[49m\u001b[43m(\u001b[49m\u001b[43mmodel\u001b[49m\u001b[43m,\u001b[49m\u001b[43m \u001b[49m\u001b[43minference_data_loader\u001b[49m\u001b[43m,\u001b[49m\u001b[43m \u001b[49m\u001b[43mdevice\u001b[49m\u001b[43m)\u001b[49m\n\u001b[32m     21\u001b[39m     \u001b[38;5;28mprint\u001b[39m(\u001b[33m\"\u001b[39m\u001b[33mInference complete.\u001b[39m\u001b[33m\"\u001b[39m)\n\u001b[32m     23\u001b[39m     \u001b[38;5;66;03m# Check if inference results are available and have the same length as original file paths\u001b[39;00m\n",
            "\u001b[36mCell\u001b[39m\u001b[36m \u001b[39m\u001b[32mIn[48]\u001b[39m\u001b[32m, line 50\u001b[39m, in \u001b[36minference\u001b[39m\u001b[34m(model, data_loader, device)\u001b[39m\n\u001b[32m     44\u001b[39m     original_image_files_list = [\u001b[33mf\u001b[39m\u001b[33m\"\u001b[39m\u001b[33msample_\u001b[39m\u001b[38;5;132;01m{\u001b[39;00mi\u001b[38;5;132;01m:\u001b[39;00m\u001b[33m04d\u001b[39m\u001b[38;5;132;01m}\u001b[39;00m\u001b[33m.TIF\u001b[39m\u001b[33m\"\u001b[39m \u001b[38;5;28;01mfor\u001b[39;00m i \u001b[38;5;129;01min\u001b[39;00m \u001b[38;5;28mrange\u001b[39m(\u001b[38;5;28mlen\u001b[39m(data_loader.dataset))]\n\u001b[32m     47\u001b[39m sample_idx_counter = \u001b[32m0\u001b[39m \u001b[38;5;66;03m# Counter for samples across batches\u001b[39;00m\n\u001b[32m---> \u001b[39m\u001b[32m50\u001b[39m \u001b[38;5;28;01mfor\u001b[39;00m i, (images, masks) \u001b[38;5;129;01min\u001b[39;00m \u001b[38;5;28menumerate\u001b[39m(data_loader):\n\u001b[32m     51\u001b[39m     \u001b[38;5;66;03m# Move images and masks to the specified device\u001b[39;00m\n\u001b[32m     52\u001b[39m     images = images.to(device)\n\u001b[32m     53\u001b[39m     masks = masks.to(device)\n",
            "\u001b[31mValueError\u001b[39m: too many values to unpack (expected 2)"
          ]
        }
      ],
      "source": [
        "import os\n",
        "import cv2\n",
        "import numpy as np\n",
        "# from google.colab import drive\n",
        "\n",
        "# Assume model, inference_data_loader, and device are defined from previous steps\n",
        "# Assume inference function is defined in a previous cell\n",
        "\n",
        "# --- Define the run number for saving results ---\n",
        "# CHANGE THIS VALUE BEFORE RUNNING TO SAVE RESULTS TO A NEW DIRECTORY\n",
        "run_number = 1 # <-- 여기에 현재 실행 번호를 입력하세요\n",
        "\n",
        "print(f\"Current run number for saving results: {run_number}\")\n",
        "\n",
        "\n",
        "# Run inference to get the results\n",
        "print(\"Running inference on the test set...\")\n",
        "# Check if inference_data_loader is defined and not None before calling inference\n",
        "if 'inference_data_loader' in locals() and inference_data_loader is not None:\n",
        "    all_images, all_true_masks, all_pred_masks, original_file_paths = inference(model, inference_data_loader, device)\n",
        "    print(\"Inference complete.\")\n",
        "\n",
        "    # Check if inference results are available and have the same length as original file paths\n",
        "    if not all_pred_masks or not original_file_paths or len(all_pred_masks) != len(original_file_paths):\n",
        "        print(\"Error: Inference results or original file paths are not correctly loaded or their lengths do not match. Cannot proceed with classification and saving.\")\n",
        "    else:\n",
        "        print(f\"Processing {len(all_pred_masks)} inferred samples for classification and saving...\")\n",
        "\n",
        "        # Mount Google Drive (ensure it's mounted)\n",
        "        try:\n",
        "            drive.mount('/content/drive')\n",
        "            print(\"Google Drive mounted.\")\n",
        "        except Exception as e:\n",
        "            print(f\"Error mounting Google Drive: {e}\")\n",
        "            print(\"Please manually mount Google Drive and re-run this cell.\")\n",
        "            # Exit or handle the error appropriately if drive is not mounted\n",
        "            # For now, we'll continue and hope the mount was successful or already done.\n",
        "\n",
        "\n",
        "        # Define the base path in your Google Drive for saving results\n",
        "        # Include the run number in the output directory path\n",
        "        output_base_dir = f'/content/drive/MyDrive/GOIT/CV/Image_segmentation_cloud/inference_run_{run_number}' # Example: using a subdirectory with run number\n",
        "\n",
        "        # Define output directories within the run-specific base directory\n",
        "        n_cloud_dir = os.path.join(output_base_dir, 'n_cloud') # No cloud detected\n",
        "        y_cloud_dir = os.path.join(output_base_dir, 'y_cloud') # Cloud detected\n",
        "        s_cloud_dir = os.path.join(output_base_dir, 's_cloud') # Predicted segmentation masks\n",
        "\n",
        "        # Create directories if they don't exist\n",
        "        os.makedirs(n_cloud_dir, exist_ok=True)\n",
        "        os.makedirs(y_cloud_dir, exist_ok=True)\n",
        "        os.makedirs(s_cloud_dir, exist_ok=True)\n",
        "\n",
        "        print(f\"Output directories created/ensured for run {run_number}: {n_cloud_dir}, {y_cloud_dir}, {s_cloud_dir}\")\n",
        "\n",
        "\n",
        "        # Iterate through the inferred results and save\n",
        "        for i in range(len(all_pred_masks)):\n",
        "            original_image_np = all_images[i]\n",
        "            true_mask_np = all_true_masks[i]\n",
        "            predicted_mask_np = all_pred_masks[i] # This is already thresholded binary mask (0 or 1)\n",
        "            original_file_path = original_file_paths[i] # Get the original file path\n",
        "\n",
        "            # Extract the base filename from the original file path\n",
        "            original_filename = os.path.basename(original_file_path)\n",
        "            # Remove the extension for use in output filenames\n",
        "            base_filename = os.path.splitext(original_filename)[0]\n",
        "\n",
        "            # Check if cloud is detected in the predicted mask (using the binary mask)\n",
        "            cloud_detected = np.sum(predicted_mask_np) > 0 # True if any cloud pixel (value 1) exists\n",
        "\n",
        "\n",
        "            # Define filenames for saving\n",
        "            original_save_filename = f\"{base_filename}.png\"\n",
        "            true_mask_save_filename = f\"true_mask_{base_filename}.png\"\n",
        "            predicted_mask_save_filename = f\"predicted_mask_{base_filename}.png\"\n",
        "\n",
        "\n",
        "            # Save the original image, true mask, and predicted mask\n",
        "            if cloud_detected:\n",
        "                original_save_path = os.path.join(y_cloud_dir, original_save_filename)\n",
        "                cv2.imwrite(original_save_path, cv2.cvtColor((original_image_np * 255).astype(np.uint8), cv2.COLOR_RGB2BGR))\n",
        "                # print(f\"Saved {original_save_filename} to {y_cloud_dir}\") # Optional: print each save\n",
        "            else:\n",
        "                original_save_path = os.path.join(n_cloud_dir, original_save_filename)\n",
        "                cv2.imwrite(original_save_path, cv2.cvtColor((original_image_np * 255).astype(np.uint8), cv2.COLOR_RGB2BGR))\n",
        "                # print(f\"Saved {original_save_filename} to {n_cloud_dir}\") # Optional: print each save\n",
        "\n",
        "\n",
        "            predicted_mask_save_path = os.path.join(s_cloud_dir, predicted_mask_save_filename)\n",
        "            cv2.imwrite(predicted_mask_save_path, (predicted_mask_np * 255).astype(np.uint8))\n",
        "            # print(f\"Saved {predicted_mask_save_filename} to {s_cloud_dir}\") # Optional: print each save\n",
        "\n",
        "\n",
        "            true_mask_save_path = os.path.join(s_cloud_dir, true_mask_save_filename)\n",
        "            cv2.imwrite(true_mask_save_path, (true_mask_np * 255).astype(np.uint8))\n",
        "            # print(f\"Saved {true_mask_save_filename} to {s_cloud_dir}\") # Optional: print each save\n",
        "\n",
        "\n",
        "        print(\"Classification and saving of results complete.\")\n",
        "\n",
        "else:\n",
        "    print(\"Error: inference_data_loader is not defined or is None. Cannot run inference and save results.\")"
      ]
    },
    {
      "cell_type": "code",
      "execution_count": null,
      "metadata": {
        "id": "_T4-ttTUtdnQ"
      },
      "outputs": [],
      "source": []
    },
    {
      "cell_type": "markdown",
      "metadata": {
        "id": "1ca52060"
      },
      "source": [
        "## 추론 실행 및 결과 처리/분류\n",
        "\n",
        "### Subtask:\n",
        "모델 추론을 실행하고, 예측 결과를 구름 감지 여부에 따라 분류하여 Google Drive의 지정된 폴더에 저장합니다."
      ]
    },
    {
      "cell_type": "markdown",
      "metadata": {
        "id": "a9df961a"
      },
      "source": [
        "**추론**:\n",
        "이전에 정의된 `inference` 함수를 호출하여 테스트 데이터셋에 대한 추론을 실행하고, 얻은 결과(원본 이미지, 실제 마스크, 예측 마스크)를 반복하며 예측된 마스크의 클라우드 감지 여부에 따라 Google Drive의 'n_cloud', 'y_cloud', 's_cloud' 폴더에 저장합니다."
      ]
    },
    {
      "cell_type": "code",
      "execution_count": null,
      "metadata": {
        "colab": {
          "base_uri": "https://localhost:8080/"
        },
        "id": "8c42c867",
        "outputId": "ac09a66c-63aa-451f-978c-6fba303b5c4f"
      },
      "outputs": [
        {
          "name": "stdout",
          "output_type": "stream",
          "text": [
            "Current run number for saving results: 2\n",
            "Running inference on the test set...\n",
            "Starting inference on 100 samples...\n",
            "Accessing original file paths from the dataset.\n",
            "Inference complete.\n",
            "Inference complete.\n",
            "Processing 100 inferred samples for classification and saving...\n",
            "Drive already mounted at /content/drive; to attempt to forcibly remount, call drive.mount(\"/content/drive\", force_remount=True).\n",
            "Google Drive mounted.\n",
            "Output directories created/ensured for run 2: /content/drive/MyDrive/GOIT/CV/Image_segmentation_cloud/inference_run_2/n_cloud, /content/drive/MyDrive/GOIT/CV/Image_segmentation_cloud/inference_run_2/y_cloud, /content/drive/MyDrive/GOIT/CV/Image_segmentation_cloud/inference_run_2/s_cloud\n",
            "Classification and saving of results complete.\n"
          ]
        }
      ],
      "source": [
        "import os\n",
        "import cv2\n",
        "import numpy as np\n",
        "from google.colab import drive\n",
        "\n",
        "# Assume model, inference_data_loader, and device are defined from previous steps\n",
        "# Assume inference function is defined in a previous cell\n",
        "\n",
        "# --- Define the run number for saving results ---\n",
        "# CHANGE THIS VALUE BEFORE RUNNING TO SAVE RESULTS TO A NEW DIRECTORY\n",
        "run_number = 2 # <-- 여기에 현재 실행 번호를 입력하세요\n",
        "\n",
        "print(f\"Current run number for saving results: {run_number}\")\n",
        "\n",
        "\n",
        "# Run inference to get the results\n",
        "print(\"Running inference on the test set...\")\n",
        "# Check if inference_data_loader is defined and not None before calling inference\n",
        "if 'inference_data_loader' in locals() and inference_data_loader is not None:\n",
        "    all_images, all_true_masks, all_pred_masks, original_file_paths = inference(model, inference_data_loader, device)\n",
        "    print(\"Inference complete.\")\n",
        "\n",
        "    # Check if inference results are available and have the same length as original file paths\n",
        "    if not all_pred_masks or not original_file_paths or len(all_pred_masks) != len(original_file_paths):\n",
        "        print(\"Error: Inference results or original file paths are not correctly loaded or their lengths do not match. Cannot proceed with classification and saving.\")\n",
        "    else:\n",
        "        print(f\"Processing {len(all_pred_masks)} inferred samples for classification and saving...\")\n",
        "\n",
        "        # Mount Google Drive (ensure it's mounted)\n",
        "        try:\n",
        "            drive.mount('/content/drive')\n",
        "            print(\"Google Drive mounted.\")\n",
        "        except Exception as e:\n",
        "            print(f\"Error mounting Google Drive: {e}\")\n",
        "            print(\"Please manually mount Google Drive and re-run this cell.\")\n",
        "            # Exit or handle the error appropriately if drive is not mounted\n",
        "            # For now, we'll continue and hope the mount was successful or already done.\n",
        "\n",
        "\n",
        "        # Define the base path in your Google Drive for saving results\n",
        "        # Include the run number in the output directory path\n",
        "        output_base_dir = f'/content/drive/MyDrive/GOIT/CV/Image_segmentation_cloud/inference_run_{run_number}' # Example: using a subdirectory with run number\n",
        "\n",
        "        # Define output directories within the run-specific base directory\n",
        "        n_cloud_dir = os.path.join(output_base_dir, 'n_cloud') # No cloud detected\n",
        "        y_cloud_dir = os.path.join(output_base_dir, 'y_cloud') # Cloud detected\n",
        "        s_cloud_dir = os.path.join(output_base_dir, 's_cloud') # Predicted segmentation masks\n",
        "\n",
        "        # Create directories if they don't exist\n",
        "        os.makedirs(n_cloud_dir, exist_ok=True)\n",
        "        os.makedirs(y_cloud_dir, exist_ok=True)\n",
        "        os.makedirs(s_cloud_dir, exist_ok=True)\n",
        "\n",
        "        print(f\"Output directories created/ensured for run {run_number}: {n_cloud_dir}, {y_cloud_dir}, {s_cloud_dir}\")\n",
        "\n",
        "\n",
        "        # Iterate through the inferred results and save\n",
        "        for i in range(len(all_pred_masks)):\n",
        "            original_image_np = all_images[i]\n",
        "            true_mask_np = all_true_masks[i]\n",
        "            predicted_mask_np = all_pred_masks[i] # This is already thresholded binary mask (0 or 1)\n",
        "            original_file_path = original_file_paths[i] # Get the original file path\n",
        "\n",
        "            # Extract the base filename from the original file path\n",
        "            original_filename = os.path.basename(original_file_path)\n",
        "            # Remove the extension for use in output filenames\n",
        "            base_filename = os.path.splitext(original_filename)[0]\n",
        "\n",
        "            # Check if cloud is detected in the predicted mask (using the binary mask)\n",
        "            cloud_detected = np.sum(predicted_mask_np) > 0 # True if any cloud pixel (value 1) exists\n",
        "\n",
        "\n",
        "            # Define filenames for saving\n",
        "            original_save_filename = f\"{base_filename}.png\"\n",
        "            true_mask_save_filename = f\"true_mask_{base_filename}.png\"\n",
        "            predicted_mask_save_filename = f\"predicted_mask_{base_filename}.png\"\n",
        "\n",
        "\n",
        "            # Save the original image, true mask, and predicted mask\n",
        "            if cloud_detected:\n",
        "                original_save_path = os.path.join(y_cloud_dir, original_save_filename)\n",
        "                cv2.imwrite(original_save_path, cv2.cvtColor((original_image_np * 255).astype(np.uint8), cv2.COLOR_RGB2BGR))\n",
        "                # print(f\"Saved {original_save_filename} to {y_cloud_dir}\") # Optional: print each save\n",
        "            else:\n",
        "                original_save_path = os.path.join(n_cloud_dir, original_save_filename)\n",
        "                cv2.imwrite(original_save_path, cv2.cvtColor((original_image_np * 255).astype(np.uint8), cv2.COLOR_RGB2BGR))\n",
        "                # print(f\"Saved {original_save_filename} to {n_cloud_dir}\") # Optional: print each save\n",
        "\n",
        "\n",
        "            predicted_mask_save_path = os.path.join(s_cloud_dir, predicted_mask_save_filename)\n",
        "            cv2.imwrite(predicted_mask_save_path, (predicted_mask_np * 255).astype(np.uint8))\n",
        "            # print(f\"Saved {predicted_mask_save_filename} to {s_cloud_dir}\") # Optional: print each save\n",
        "\n",
        "\n",
        "            true_mask_save_path = os.path.join(s_cloud_dir, true_mask_save_filename)\n",
        "            cv2.imwrite(true_mask_save_path, (true_mask_np * 255).astype(np.uint8))\n",
        "            # print(f\"Saved {true_mask_save_filename} to {s_cloud_dir}\") # Optional: print each save\n",
        "\n",
        "\n",
        "        print(\"Classification and saving of results complete.\")\n",
        "\n",
        "else:\n",
        "    print(\"Error: inference_data_loader is not defined or is None. Cannot run inference and save results.\")"
      ]
    },
    {
      "cell_type": "markdown",
      "metadata": {
        "id": "KEWwgJz02nGG"
      },
      "source": []
    },
    {
      "cell_type": "markdown",
      "metadata": {
        "id": "89028cca"
      },
      "source": [
        "## 결과 이미지 시각화\n",
        "\n",
        "### Subtask:\n",
        "Google Drive에 저장된 분류된 결과 이미지(구름 감지 안 됨, 구름 감지됨)와 해당 마스크를 시각화합니다."
      ]
    },
    {
      "cell_type": "code",
      "execution_count": 50,
      "metadata": {
        "colab": {
          "base_uri": "https://localhost:8080/",
          "height": 1000
        },
        "id": "b566bdbe",
        "outputId": "805d091b-038d-4e23-e42a-54659662d181"
      },
      "outputs": [
        {
          "ename": "NameError",
          "evalue": "name 'run_number' is not defined",
          "output_type": "error",
          "traceback": [
            "\u001b[31m---------------------------------------------------------------------------\u001b[39m",
            "\u001b[31mNameError\u001b[39m                                 Traceback (most recent call last)",
            "\u001b[36mCell\u001b[39m\u001b[36m \u001b[39m\u001b[32mIn[50]\u001b[39m\u001b[32m, line 11\u001b[39m\n\u001b[32m      5\u001b[39m \u001b[38;5;28;01mimport\u001b[39;00m\u001b[38;5;250m \u001b[39m\u001b[34;01mrandom\u001b[39;00m \u001b[38;5;66;03m# Import random to select random samples\u001b[39;00m\n\u001b[32m      7\u001b[39m \u001b[38;5;66;03m# Assume run_number is defined from the previous cell\u001b[39;00m\n\u001b[32m      8\u001b[39m \n\u001b[32m      9\u001b[39m \u001b[38;5;66;03m# Define the base path in your Google Drive where results were saved\u001b[39;00m\n\u001b[32m     10\u001b[39m \u001b[38;5;66;03m# Use the run_number variable to point to the correct directory\u001b[39;00m\n\u001b[32m---> \u001b[39m\u001b[32m11\u001b[39m output_base_dir = \u001b[33mf\u001b[39m\u001b[33m'\u001b[39m\u001b[33m/content/drive/MyDrive/GOIT/CV/Image_segmentation_cloud/inference_run_\u001b[39m\u001b[38;5;132;01m{\u001b[39;00m\u001b[43mrun_number\u001b[49m\u001b[38;5;132;01m}\u001b[39;00m\u001b[33m'\u001b[39m \u001b[38;5;66;03m# Use the subdirectory with run number\u001b[39;00m\n\u001b[32m     13\u001b[39m \u001b[38;5;66;03m# Define output directories within the run-specific base directory\u001b[39;00m\n\u001b[32m     14\u001b[39m n_cloud_dir = os.path.join(output_base_dir, \u001b[33m'\u001b[39m\u001b[33mn_cloud\u001b[39m\u001b[33m'\u001b[39m) \u001b[38;5;66;03m# No cloud detected\u001b[39;00m\n",
            "\u001b[31mNameError\u001b[39m: name 'run_number' is not defined"
          ]
        }
      ],
      "source": [
        "import os\n",
        "import cv2\n",
        "import matplotlib.pyplot as plt\n",
        "\n",
        "import random # Import random to select random samples\n",
        "\n",
        "# Assume run_number is defined from the previous cell\n",
        "\n",
        "# Define the base path in your Google Drive where results were saved\n",
        "# Use the run_number variable to point to the correct directory\n",
        "output_base_dir = f'/content/drive/MyDrive/GOIT/CV/Image_segmentation_cloud/inference_run_{run_number}' # Use the subdirectory with run number\n",
        "\n",
        "# Define output directories within the run-specific base directory\n",
        "n_cloud_dir = os.path.join(output_base_dir, 'n_cloud') # No cloud detected\n",
        "y_cloud_dir = os.path.join(output_base_dir, 'y_cloud') # Cloud detected\n",
        "s_cloud_dir = os.path.join(output_base_dir, 's_cloud') # Predicted and true segmentation masks\n",
        "\n",
        "# Number of samples to visualize from each category\n",
        "num_samples_to_visualize = 3\n",
        "\n",
        "plt.figure(figsize=(15, num_samples_to_visualize * 4))\n",
        "\n",
        "# --- Visualize samples from 'n_cloud' (No Cloud Detected) ---\n",
        "print(f\"Visualizing sample images from '{n_cloud_dir}' (No Cloud Detected):\")\n",
        "try:\n",
        "    n_cloud_files = [f for f in os.listdir(n_cloud_dir) if f.endswith('.png')]\n",
        "    if n_cloud_files:\n",
        "        # Select random sample files\n",
        "        sample_n_cloud_files = random.sample(n_cloud_files, min(num_samples_to_visualize, len(n_cloud_files)))\n",
        "\n",
        "        for i, filename in enumerate(sample_n_cloud_files):\n",
        "            img_path = os.path.join(n_cloud_dir, filename)\n",
        "            img = cv2.imread(img_path)\n",
        "            img = cv2.cvtColor(img, cv2.COLOR_BGR2RGB)\n",
        "\n",
        "            # Assuming corresponding predicted mask exists in s_cloud directory\n",
        "            # The filename for the predicted mask should be 'predicted_mask_' + original_filename (without .png)\n",
        "            base_filename = os.path.splitext(filename)[0]\n",
        "            predicted_mask_filename = f\"predicted_mask_{base_filename}.png\"\n",
        "            predicted_mask_path = os.path.join(s_cloud_dir, predicted_mask_filename)\n",
        "            predicted_mask = cv2.imread(predicted_mask_path, cv2.IMREAD_GRAYSCALE)\n",
        "\n",
        "            # Assuming corresponding true mask exists in s_cloud directory\n",
        "            # The filename for the true mask should be 'true_mask_' + original_filename (without .png)\n",
        "            true_mask_filename = f\"true_mask_{base_filename}.png\"\n",
        "            true_mask_path = os.path.join(s_cloud_dir, true_mask_filename)\n",
        "            true_mask = cv2.imread(true_mask_path, cv2.IMREAD_GRAYSCALE)\n",
        "\n",
        "\n",
        "            plt.subplot(num_samples_to_visualize, 3, i * 3 + 1)\n",
        "            plt.imshow(img)\n",
        "            plt.title(f'N-Cloud Image: {filename}')\n",
        "            plt.axis('off')\n",
        "\n",
        "            plt.subplot(num_samples_to_visualize, 3, i * 3 + 2)\n",
        "            plt.imshow(true_mask, cmap='gray')\n",
        "            plt.title(f'True Mask: {base_filename}')\n",
        "            plt.axis('off')\n",
        "\n",
        "            plt.subplot(num_samples_to_visualize, 3, i * 3 + 3)\n",
        "            plt.imshow(predicted_mask, cmap='gray')\n",
        "            plt.title(f'Predicted Mask: {base_filename}')\n",
        "            plt.axis('off')\n",
        "\n",
        "    else:\n",
        "        print(f\"No files found in '{n_cloud_dir}'.\")\n",
        "\n",
        "except FileNotFoundError as e:\n",
        "    print(f\"Error accessing directory: {e}\")\n",
        "except Exception as e:\n",
        "    print(f\"An error occurred while visualizing n_cloud samples: {e}\")\n",
        "\n",
        "\n",
        "plt.tight_layout()\n",
        "plt.show()\n",
        "\n",
        "\n",
        "plt.figure(figsize=(15, num_samples_to_visualize * 4))\n",
        "\n",
        "# --- Visualize samples from 'y_cloud' (Cloud Detected) ---\n",
        "print(f\"\\nVisualizing sample images from '{y_cloud_dir}' (Cloud Detected):\")\n",
        "try:\n",
        "    y_cloud_files = [f for f in os.listdir(y_cloud_dir) if f.endswith('.png')]\n",
        "    if y_cloud_files:\n",
        "         # Select random sample files\n",
        "        sample_y_cloud_files = random.sample(y_cloud_files, min(num_samples_to_visualize, len(y_cloud_files)))\n",
        "\n",
        "        for i, filename in enumerate(sample_y_cloud_files):\n",
        "            img_path = os.path.join(y_cloud_dir, filename)\n",
        "            img = cv2.imread(img_path)\n",
        "            img = cv2.cvtColor(img, cv2.COLOR_BGR2RGB)\n",
        "\n",
        "            # Assuming corresponding predicted mask exists in s_cloud directory\n",
        "            base_filename = os.path.splitext(filename)[0]\n",
        "            predicted_mask_filename = f\"predicted_mask_{base_filename}.png\"\n",
        "            predicted_mask_path = os.path.join(s_cloud_dir, predicted_mask_filename)\n",
        "            predicted_mask = cv2.imread(predicted_mask_path, cv2.IMREAD_GRAYSCALE)\n",
        "\n",
        "             # Assuming corresponding true mask exists in s_cloud directory\n",
        "            true_mask_filename = f\"true_mask_{base_filename}.png\"\n",
        "            true_mask_path = os.path.join(s_cloud_dir, true_mask_filename)\n",
        "            true_mask = cv2.imread(true_mask_path, cv2.IMREAD_GRAYSCALE)\n",
        "\n",
        "\n",
        "            plt.subplot(num_samples_to_visualize, 3, i * 3 + 1)\n",
        "            plt.imshow(img)\n",
        "            plt.title(f'Y-Cloud Image: {filename}')\n",
        "            plt.axis('off')\n",
        "\n",
        "            plt.subplot(num_samples_to_visualize, 3, i * 3 + 2)\n",
        "            plt.imshow(true_mask, cmap='gray')\n",
        "            plt.title(f'True Mask: {base_filename}')\n",
        "            plt.axis('off')\n",
        "\n",
        "            plt.subplot(num_samples_to_visualize, 3, i * 3 + 3)\n",
        "            plt.imshow(predicted_mask, cmap='gray')\n",
        "            plt.title(f'Predicted Mask: {base_filename}')\n",
        "            plt.axis('off')\n",
        "\n",
        "    else:\n",
        "        print(f\"No files found in '{y_cloud_dir}'.\")\n",
        "\n",
        "except FileNotFoundError as e:\n",
        "    print(f\"Error accessing directory: {e}\")\n",
        "except Exception as e:\n",
        "    print(f\"An error occurred while visualizing y_cloud samples: {e}\")\n",
        "\n",
        "plt.tight_layout()\n",
        "plt.show()"
      ]
    },
    {
      "cell_type": "markdown",
      "metadata": {
        "id": "N13rs8JM3A23"
      },
      "source": [
        "## 모델 성능 평가(IoU)"
      ]
    },
    {
      "cell_type": "code",
      "execution_count": null,
      "metadata": {
        "colab": {
          "base_uri": "https://localhost:8080/"
        },
        "id": "_Q6UEHEf2z9B",
        "outputId": "9a88757c-fa45-45ac-e8cd-0680c660f712"
      },
      "outputs": [
        {
          "name": "stdout",
          "output_type": "stream",
          "text": [
            "Evaluating on the inference data loader.\n",
            "Starting model evaluation on 100 samples...\n",
            "Model evaluation complete.\n",
            "\n",
            "Mean IoU on Test Set (Inference Subset): 0.8676\n",
            "Mean Dice Coefficient on Test Set (Inference Subset): 0.8948\n"
          ]
        }
      ],
      "source": [
        "import torch\n",
        "import numpy as np\n",
        "# No need to import smp_metrics or smp_functional if using manual calculation\n",
        "# import segmentation_models_pytorch.metrics as smp_metrics\n",
        "# import segmentation_models_pytorch.functional as smp_functional\n",
        "\n",
        "\n",
        "# Assume model, inference_data_loader, and device are defined from previous steps\n",
        "\n",
        "def evaluate_model(model, data_loader, device):\n",
        "    \"\"\"\n",
        "    Evaluates the model's performance on a given data loader using IoU and Dice coefficient\n",
        "    calculated manually from binary masks.\n",
        "\n",
        "    Args:\n",
        "        model (torch.nn.Module): The trained segmentation model.\n",
        "        data_loader (torch.utils.data.DataLoader): DataLoader for the evaluation dataset.\n",
        "        device (torch.device): The device to perform evaluation on (CPU or GPU).\n",
        "\n",
        "    Returns:\n",
        "        tuple: Mean IoU and Mean Dice coefficient for the dataset.\n",
        "    \"\"\"\n",
        "    model.eval()  # Set the model to evaluation mode\n",
        "    total_iou = 0.0\n",
        "    total_dice = 0.0\n",
        "    num_samples = 0\n",
        "\n",
        "    # Use a small epsilon to avoid division by zero\n",
        "    epsilon = 1e-6\n",
        "\n",
        "    # Disable gradient calculation for evaluation\n",
        "    with torch.no_grad():\n",
        "        if data_loader is None:\n",
        "            print(\"Error: Data loader is None. Cannot perform evaluation.\")\n",
        "            return 0.0, 0.0\n",
        "\n",
        "        print(f\"Starting model evaluation on {len(data_loader.dataset)} samples...\")\n",
        "\n",
        "        for images, masks in data_loader:\n",
        "            # Move images and masks to the specified device\n",
        "            images = images.to(device)\n",
        "            masks = masks.to(device)\n",
        "\n",
        "            # Forward pass: compute predicted masks\n",
        "            outputs = model(images)\n",
        "\n",
        "            # Apply sigmoid activation and threshold to get binary masks (0 or 1)\n",
        "            predicted_masks = torch.sigmoid(outputs)\n",
        "            predicted_masks_binary = (predicted_masks > 0.5).float() # Threshold at 0.5\n",
        "\n",
        "            # Ensure masks are also binary (0 or 1)\n",
        "            true_masks_binary = (masks > 0.5).float()\n",
        "\n",
        "            # Calculate True Positives (TP), False Positives (FP), False Negatives (FN)\n",
        "            # TP: pixels where both predicted and true are 1\n",
        "            # FP: pixels where predicted is 1 and true is 0\n",
        "            # FN: pixels where predicted is 0 and true is 1\n",
        "\n",
        "            tp = (predicted_masks_binary * true_masks_binary).sum(dim=[1, 2, 3])\n",
        "            fp = ((1 - true_masks_binary) * predicted_masks_binary).sum(dim=[1, 2, 3])\n",
        "            fn = (true_masks_binary * (1 - predicted_masks_binary)).sum(dim=[1, 2, 3])\n",
        "\n",
        "            # Calculate IoU and Dice coefficient for each sample in the batch\n",
        "            batch_iou = (tp + epsilon) / (tp + fp + fn + epsilon)\n",
        "            batch_dice = (2 * tp + epsilon) / (2 * tp + fp + fn + epsilon) # Equivalent to F1 Score\n",
        "\n",
        "            # Sum up the metrics across the batch and add to total\n",
        "            total_iou += batch_iou.sum().item()\n",
        "            total_dice += batch_dice.sum().item()\n",
        "            num_samples += images.size(0)\n",
        "\n",
        "\n",
        "    mean_iou = total_iou / num_samples if num_samples > 0 else 0.0\n",
        "    mean_dice = total_dice / num_samples if num_samples > 0 else 0.0\n",
        "\n",
        "    print(\"Model evaluation complete.\")\n",
        "\n",
        "    return mean_iou, mean_dice\n",
        "\n",
        "# Run evaluation on the test set\n",
        "# Ensure model, inference_data_loader, and device are defined\n",
        "if 'model' in locals() and 'inference_data_loader' in locals() and 'device' in locals() and inference_data_loader is not None:\n",
        "    print(\"Evaluating on the inference data loader.\")\n",
        "    mean_iou, mean_dice = evaluate_model(model, inference_data_loader, device)\n",
        "\n",
        "    print(f\"\\nMean IoU on Test Set (Inference Subset): {mean_iou:.4f}\")\n",
        "    print(f\"Mean Dice Coefficient on Test Set (Inference Subset): {mean_dice:.4f}\")\n",
        "\n",
        "else:\n",
        "    print(\"Error: Model, inference_data_loader, or device is not defined. Cannot perform evaluation.\")\n"
      ]
    },
    {
      "cell_type": "code",
      "execution_count": null,
      "metadata": {
        "id": "GsRtaN8v3hP1"
      },
      "outputs": [],
      "source": []
    }
  ],
  "metadata": {
    "accelerator": "GPU",
    "colab": {
      "gpuType": "T4",
      "provenance": []
    },
    "kernelspec": {
      "display_name": "img_cl",
      "language": "python",
      "name": "python3"
    },
    "language_info": {
      "codemirror_mode": {
        "name": "ipython",
        "version": 3
      },
      "file_extension": ".py",
      "mimetype": "text/x-python",
      "name": "python",
      "nbconvert_exporter": "python",
      "pygments_lexer": "ipython3",
      "version": "3.13.7"
    },
    "widgets": {
      "application/vnd.jupyter.widget-state+json": {
        "08afe0b0e9ad46258ee9f3f8eaa7a3f5": {
          "model_module": "@jupyter-widgets/base",
          "model_module_version": "1.2.0",
          "model_name": "LayoutModel",
          "state": {
            "_model_module": "@jupyter-widgets/base",
            "_model_module_version": "1.2.0",
            "_model_name": "LayoutModel",
            "_view_count": null,
            "_view_module": "@jupyter-widgets/base",
            "_view_module_version": "1.2.0",
            "_view_name": "LayoutView",
            "align_content": null,
            "align_items": null,
            "align_self": null,
            "border": null,
            "bottom": null,
            "display": null,
            "flex": null,
            "flex_flow": null,
            "grid_area": null,
            "grid_auto_columns": null,
            "grid_auto_flow": null,
            "grid_auto_rows": null,
            "grid_column": null,
            "grid_gap": null,
            "grid_row": null,
            "grid_template_areas": null,
            "grid_template_columns": null,
            "grid_template_rows": null,
            "height": null,
            "justify_content": null,
            "justify_items": null,
            "left": null,
            "margin": null,
            "max_height": null,
            "max_width": null,
            "min_height": null,
            "min_width": null,
            "object_fit": null,
            "object_position": null,
            "order": null,
            "overflow": null,
            "overflow_x": null,
            "overflow_y": null,
            "padding": null,
            "right": null,
            "top": null,
            "visibility": null,
            "width": null
          }
        },
        "134106e5fde1445fb00313f0d34fd981": {
          "model_module": "@jupyter-widgets/controls",
          "model_module_version": "1.5.0",
          "model_name": "DescriptionStyleModel",
          "state": {
            "_model_module": "@jupyter-widgets/controls",
            "_model_module_version": "1.5.0",
            "_model_name": "DescriptionStyleModel",
            "_view_count": null,
            "_view_module": "@jupyter-widgets/base",
            "_view_module_version": "1.2.0",
            "_view_name": "StyleView",
            "description_width": ""
          }
        },
        "3068c25140514838931738713f73299e": {
          "model_module": "@jupyter-widgets/controls",
          "model_module_version": "1.5.0",
          "model_name": "DescriptionStyleModel",
          "state": {
            "_model_module": "@jupyter-widgets/controls",
            "_model_module_version": "1.5.0",
            "_model_name": "DescriptionStyleModel",
            "_view_count": null,
            "_view_module": "@jupyter-widgets/base",
            "_view_module_version": "1.2.0",
            "_view_name": "StyleView",
            "description_width": ""
          }
        },
        "3bb0954398e8433cbba4e8f4699842f3": {
          "model_module": "@jupyter-widgets/base",
          "model_module_version": "1.2.0",
          "model_name": "LayoutModel",
          "state": {
            "_model_module": "@jupyter-widgets/base",
            "_model_module_version": "1.2.0",
            "_model_name": "LayoutModel",
            "_view_count": null,
            "_view_module": "@jupyter-widgets/base",
            "_view_module_version": "1.2.0",
            "_view_name": "LayoutView",
            "align_content": null,
            "align_items": null,
            "align_self": null,
            "border": null,
            "bottom": null,
            "display": null,
            "flex": null,
            "flex_flow": null,
            "grid_area": null,
            "grid_auto_columns": null,
            "grid_auto_flow": null,
            "grid_auto_rows": null,
            "grid_column": null,
            "grid_gap": null,
            "grid_row": null,
            "grid_template_areas": null,
            "grid_template_columns": null,
            "grid_template_rows": null,
            "height": null,
            "justify_content": null,
            "justify_items": null,
            "left": null,
            "margin": null,
            "max_height": null,
            "max_width": null,
            "min_height": null,
            "min_width": null,
            "object_fit": null,
            "object_position": null,
            "order": null,
            "overflow": null,
            "overflow_x": null,
            "overflow_y": null,
            "padding": null,
            "right": null,
            "top": null,
            "visibility": null,
            "width": null
          }
        },
        "41b00ad99a3343ec8e35cc9b3ffb105e": {
          "model_module": "@jupyter-widgets/controls",
          "model_module_version": "1.5.0",
          "model_name": "HTMLModel",
          "state": {
            "_dom_classes": [],
            "_model_module": "@jupyter-widgets/controls",
            "_model_module_version": "1.5.0",
            "_model_name": "HTMLModel",
            "_view_count": null,
            "_view_module": "@jupyter-widgets/controls",
            "_view_module_version": "1.5.0",
            "_view_name": "HTMLView",
            "description": "",
            "description_tooltip": null,
            "layout": "IPY_MODEL_3bb0954398e8433cbba4e8f4699842f3",
            "placeholder": "​",
            "style": "IPY_MODEL_a7841098983c42f7a1789c47b4994530",
            "value": "model.safetensors: 100%"
          }
        },
        "50c1fa6062454e139b9349d6d81a17dd": {
          "model_module": "@jupyter-widgets/controls",
          "model_module_version": "1.5.0",
          "model_name": "HBoxModel",
          "state": {
            "_dom_classes": [],
            "_model_module": "@jupyter-widgets/controls",
            "_model_module_version": "1.5.0",
            "_model_name": "HBoxModel",
            "_view_count": null,
            "_view_module": "@jupyter-widgets/controls",
            "_view_module_version": "1.5.0",
            "_view_name": "HBoxView",
            "box_style": "",
            "children": [
              "IPY_MODEL_f22aa79abc524c97be2ffba45a46e0b9",
              "IPY_MODEL_93c404dfee044fffb7fa1f08d2764c2e",
              "IPY_MODEL_5bff60fd445e43008dd33777d2e411e3"
            ],
            "layout": "IPY_MODEL_08afe0b0e9ad46258ee9f3f8eaa7a3f5"
          }
        },
        "59a9c3b7349441258954ebfc9cc05043": {
          "model_module": "@jupyter-widgets/controls",
          "model_module_version": "1.5.0",
          "model_name": "ProgressStyleModel",
          "state": {
            "_model_module": "@jupyter-widgets/controls",
            "_model_module_version": "1.5.0",
            "_model_name": "ProgressStyleModel",
            "_view_count": null,
            "_view_module": "@jupyter-widgets/base",
            "_view_module_version": "1.2.0",
            "_view_name": "StyleView",
            "bar_color": null,
            "description_width": ""
          }
        },
        "5bff60fd445e43008dd33777d2e411e3": {
          "model_module": "@jupyter-widgets/controls",
          "model_module_version": "1.5.0",
          "model_name": "HTMLModel",
          "state": {
            "_dom_classes": [],
            "_model_module": "@jupyter-widgets/controls",
            "_model_module_version": "1.5.0",
            "_model_name": "HTMLModel",
            "_view_count": null,
            "_view_module": "@jupyter-widgets/controls",
            "_view_module_version": "1.5.0",
            "_view_name": "HTMLView",
            "description": "",
            "description_tooltip": null,
            "layout": "IPY_MODEL_ebf5241d54f948a480a285522fad059d",
            "placeholder": "​",
            "style": "IPY_MODEL_3068c25140514838931738713f73299e",
            "value": " 106/106 [00:00&lt;00:00, 3.16kB/s]"
          }
        },
        "60ec8e7131d64640abcba4741359982c": {
          "model_module": "@jupyter-widgets/base",
          "model_module_version": "1.2.0",
          "model_name": "LayoutModel",
          "state": {
            "_model_module": "@jupyter-widgets/base",
            "_model_module_version": "1.2.0",
            "_model_name": "LayoutModel",
            "_view_count": null,
            "_view_module": "@jupyter-widgets/base",
            "_view_module_version": "1.2.0",
            "_view_name": "LayoutView",
            "align_content": null,
            "align_items": null,
            "align_self": null,
            "border": null,
            "bottom": null,
            "display": null,
            "flex": null,
            "flex_flow": null,
            "grid_area": null,
            "grid_auto_columns": null,
            "grid_auto_flow": null,
            "grid_auto_rows": null,
            "grid_column": null,
            "grid_gap": null,
            "grid_row": null,
            "grid_template_areas": null,
            "grid_template_columns": null,
            "grid_template_rows": null,
            "height": null,
            "justify_content": null,
            "justify_items": null,
            "left": null,
            "margin": null,
            "max_height": null,
            "max_width": null,
            "min_height": null,
            "min_width": null,
            "object_fit": null,
            "object_position": null,
            "order": null,
            "overflow": null,
            "overflow_x": null,
            "overflow_y": null,
            "padding": null,
            "right": null,
            "top": null,
            "visibility": null,
            "width": null
          }
        },
        "6693aed3023549dba654c126e40c0eab": {
          "model_module": "@jupyter-widgets/base",
          "model_module_version": "1.2.0",
          "model_name": "LayoutModel",
          "state": {
            "_model_module": "@jupyter-widgets/base",
            "_model_module_version": "1.2.0",
            "_model_name": "LayoutModel",
            "_view_count": null,
            "_view_module": "@jupyter-widgets/base",
            "_view_module_version": "1.2.0",
            "_view_name": "LayoutView",
            "align_content": null,
            "align_items": null,
            "align_self": null,
            "border": null,
            "bottom": null,
            "display": null,
            "flex": null,
            "flex_flow": null,
            "grid_area": null,
            "grid_auto_columns": null,
            "grid_auto_flow": null,
            "grid_auto_rows": null,
            "grid_column": null,
            "grid_gap": null,
            "grid_row": null,
            "grid_template_areas": null,
            "grid_template_columns": null,
            "grid_template_rows": null,
            "height": null,
            "justify_content": null,
            "justify_items": null,
            "left": null,
            "margin": null,
            "max_height": null,
            "max_width": null,
            "min_height": null,
            "min_width": null,
            "object_fit": null,
            "object_position": null,
            "order": null,
            "overflow": null,
            "overflow_x": null,
            "overflow_y": null,
            "padding": null,
            "right": null,
            "top": null,
            "visibility": null,
            "width": null
          }
        },
        "93c404dfee044fffb7fa1f08d2764c2e": {
          "model_module": "@jupyter-widgets/controls",
          "model_module_version": "1.5.0",
          "model_name": "FloatProgressModel",
          "state": {
            "_dom_classes": [],
            "_model_module": "@jupyter-widgets/controls",
            "_model_module_version": "1.5.0",
            "_model_name": "FloatProgressModel",
            "_view_count": null,
            "_view_module": "@jupyter-widgets/controls",
            "_view_module_version": "1.5.0",
            "_view_name": "ProgressView",
            "bar_style": "success",
            "description": "",
            "description_tooltip": null,
            "layout": "IPY_MODEL_cc162056fa6e4437ab9e9afb66c2abed",
            "max": 106,
            "min": 0,
            "orientation": "horizontal",
            "style": "IPY_MODEL_9762c561baa24aeda52949bb1a0d33da",
            "value": 106
          }
        },
        "9762c561baa24aeda52949bb1a0d33da": {
          "model_module": "@jupyter-widgets/controls",
          "model_module_version": "1.5.0",
          "model_name": "ProgressStyleModel",
          "state": {
            "_model_module": "@jupyter-widgets/controls",
            "_model_module_version": "1.5.0",
            "_model_name": "ProgressStyleModel",
            "_view_count": null,
            "_view_module": "@jupyter-widgets/base",
            "_view_module_version": "1.2.0",
            "_view_name": "StyleView",
            "bar_color": null,
            "description_width": ""
          }
        },
        "989480e6ee554c838513f29aecde6579": {
          "model_module": "@jupyter-widgets/controls",
          "model_module_version": "1.5.0",
          "model_name": "FloatProgressModel",
          "state": {
            "_dom_classes": [],
            "_model_module": "@jupyter-widgets/controls",
            "_model_module_version": "1.5.0",
            "_model_name": "FloatProgressModel",
            "_view_count": null,
            "_view_module": "@jupyter-widgets/controls",
            "_view_module_version": "1.5.0",
            "_view_name": "ProgressView",
            "bar_style": "success",
            "description": "",
            "description_tooltip": null,
            "layout": "IPY_MODEL_6693aed3023549dba654c126e40c0eab",
            "max": 21355856,
            "min": 0,
            "orientation": "horizontal",
            "style": "IPY_MODEL_59a9c3b7349441258954ebfc9cc05043",
            "value": 21355856
          }
        },
        "9abfb55b8e914da1afa7c81964e82ea0": {
          "model_module": "@jupyter-widgets/base",
          "model_module_version": "1.2.0",
          "model_name": "LayoutModel",
          "state": {
            "_model_module": "@jupyter-widgets/base",
            "_model_module_version": "1.2.0",
            "_model_name": "LayoutModel",
            "_view_count": null,
            "_view_module": "@jupyter-widgets/base",
            "_view_module_version": "1.2.0",
            "_view_name": "LayoutView",
            "align_content": null,
            "align_items": null,
            "align_self": null,
            "border": null,
            "bottom": null,
            "display": null,
            "flex": null,
            "flex_flow": null,
            "grid_area": null,
            "grid_auto_columns": null,
            "grid_auto_flow": null,
            "grid_auto_rows": null,
            "grid_column": null,
            "grid_gap": null,
            "grid_row": null,
            "grid_template_areas": null,
            "grid_template_columns": null,
            "grid_template_rows": null,
            "height": null,
            "justify_content": null,
            "justify_items": null,
            "left": null,
            "margin": null,
            "max_height": null,
            "max_width": null,
            "min_height": null,
            "min_width": null,
            "object_fit": null,
            "object_position": null,
            "order": null,
            "overflow": null,
            "overflow_x": null,
            "overflow_y": null,
            "padding": null,
            "right": null,
            "top": null,
            "visibility": null,
            "width": null
          }
        },
        "a7841098983c42f7a1789c47b4994530": {
          "model_module": "@jupyter-widgets/controls",
          "model_module_version": "1.5.0",
          "model_name": "DescriptionStyleModel",
          "state": {
            "_model_module": "@jupyter-widgets/controls",
            "_model_module_version": "1.5.0",
            "_model_name": "DescriptionStyleModel",
            "_view_count": null,
            "_view_module": "@jupyter-widgets/base",
            "_view_module_version": "1.2.0",
            "_view_name": "StyleView",
            "description_width": ""
          }
        },
        "a9c38714979c40aa93264b10103c26bf": {
          "model_module": "@jupyter-widgets/controls",
          "model_module_version": "1.5.0",
          "model_name": "HTMLModel",
          "state": {
            "_dom_classes": [],
            "_model_module": "@jupyter-widgets/controls",
            "_model_module_version": "1.5.0",
            "_model_name": "HTMLModel",
            "_view_count": null,
            "_view_module": "@jupyter-widgets/controls",
            "_view_module_version": "1.5.0",
            "_view_name": "HTMLView",
            "description": "",
            "description_tooltip": null,
            "layout": "IPY_MODEL_cb5f8677cc0a40c3b1e3345133124d3a",
            "placeholder": "​",
            "style": "IPY_MODEL_134106e5fde1445fb00313f0d34fd981",
            "value": " 21.4M/21.4M [00:00&lt;00:00, 25.6MB/s]"
          }
        },
        "aea7438e8b404498a58eceec69072113": {
          "model_module": "@jupyter-widgets/controls",
          "model_module_version": "1.5.0",
          "model_name": "DescriptionStyleModel",
          "state": {
            "_model_module": "@jupyter-widgets/controls",
            "_model_module_version": "1.5.0",
            "_model_name": "DescriptionStyleModel",
            "_view_count": null,
            "_view_module": "@jupyter-widgets/base",
            "_view_module_version": "1.2.0",
            "_view_name": "StyleView",
            "description_width": ""
          }
        },
        "cb5f8677cc0a40c3b1e3345133124d3a": {
          "model_module": "@jupyter-widgets/base",
          "model_module_version": "1.2.0",
          "model_name": "LayoutModel",
          "state": {
            "_model_module": "@jupyter-widgets/base",
            "_model_module_version": "1.2.0",
            "_model_name": "LayoutModel",
            "_view_count": null,
            "_view_module": "@jupyter-widgets/base",
            "_view_module_version": "1.2.0",
            "_view_name": "LayoutView",
            "align_content": null,
            "align_items": null,
            "align_self": null,
            "border": null,
            "bottom": null,
            "display": null,
            "flex": null,
            "flex_flow": null,
            "grid_area": null,
            "grid_auto_columns": null,
            "grid_auto_flow": null,
            "grid_auto_rows": null,
            "grid_column": null,
            "grid_gap": null,
            "grid_row": null,
            "grid_template_areas": null,
            "grid_template_columns": null,
            "grid_template_rows": null,
            "height": null,
            "justify_content": null,
            "justify_items": null,
            "left": null,
            "margin": null,
            "max_height": null,
            "max_width": null,
            "min_height": null,
            "min_width": null,
            "object_fit": null,
            "object_position": null,
            "order": null,
            "overflow": null,
            "overflow_x": null,
            "overflow_y": null,
            "padding": null,
            "right": null,
            "top": null,
            "visibility": null,
            "width": null
          }
        },
        "cc162056fa6e4437ab9e9afb66c2abed": {
          "model_module": "@jupyter-widgets/base",
          "model_module_version": "1.2.0",
          "model_name": "LayoutModel",
          "state": {
            "_model_module": "@jupyter-widgets/base",
            "_model_module_version": "1.2.0",
            "_model_name": "LayoutModel",
            "_view_count": null,
            "_view_module": "@jupyter-widgets/base",
            "_view_module_version": "1.2.0",
            "_view_name": "LayoutView",
            "align_content": null,
            "align_items": null,
            "align_self": null,
            "border": null,
            "bottom": null,
            "display": null,
            "flex": null,
            "flex_flow": null,
            "grid_area": null,
            "grid_auto_columns": null,
            "grid_auto_flow": null,
            "grid_auto_rows": null,
            "grid_column": null,
            "grid_gap": null,
            "grid_row": null,
            "grid_template_areas": null,
            "grid_template_columns": null,
            "grid_template_rows": null,
            "height": null,
            "justify_content": null,
            "justify_items": null,
            "left": null,
            "margin": null,
            "max_height": null,
            "max_width": null,
            "min_height": null,
            "min_width": null,
            "object_fit": null,
            "object_position": null,
            "order": null,
            "overflow": null,
            "overflow_x": null,
            "overflow_y": null,
            "padding": null,
            "right": null,
            "top": null,
            "visibility": null,
            "width": null
          }
        },
        "d3b4dfd68f224ed4b35e1786321d61e2": {
          "model_module": "@jupyter-widgets/controls",
          "model_module_version": "1.5.0",
          "model_name": "HBoxModel",
          "state": {
            "_dom_classes": [],
            "_model_module": "@jupyter-widgets/controls",
            "_model_module_version": "1.5.0",
            "_model_name": "HBoxModel",
            "_view_count": null,
            "_view_module": "@jupyter-widgets/controls",
            "_view_module_version": "1.5.0",
            "_view_name": "HBoxView",
            "box_style": "",
            "children": [
              "IPY_MODEL_41b00ad99a3343ec8e35cc9b3ffb105e",
              "IPY_MODEL_989480e6ee554c838513f29aecde6579",
              "IPY_MODEL_a9c38714979c40aa93264b10103c26bf"
            ],
            "layout": "IPY_MODEL_9abfb55b8e914da1afa7c81964e82ea0"
          }
        },
        "ebf5241d54f948a480a285522fad059d": {
          "model_module": "@jupyter-widgets/base",
          "model_module_version": "1.2.0",
          "model_name": "LayoutModel",
          "state": {
            "_model_module": "@jupyter-widgets/base",
            "_model_module_version": "1.2.0",
            "_model_name": "LayoutModel",
            "_view_count": null,
            "_view_module": "@jupyter-widgets/base",
            "_view_module_version": "1.2.0",
            "_view_name": "LayoutView",
            "align_content": null,
            "align_items": null,
            "align_self": null,
            "border": null,
            "bottom": null,
            "display": null,
            "flex": null,
            "flex_flow": null,
            "grid_area": null,
            "grid_auto_columns": null,
            "grid_auto_flow": null,
            "grid_auto_rows": null,
            "grid_column": null,
            "grid_gap": null,
            "grid_row": null,
            "grid_template_areas": null,
            "grid_template_columns": null,
            "grid_template_rows": null,
            "height": null,
            "justify_content": null,
            "justify_items": null,
            "left": null,
            "margin": null,
            "max_height": null,
            "max_width": null,
            "min_height": null,
            "min_width": null,
            "object_fit": null,
            "object_position": null,
            "order": null,
            "overflow": null,
            "overflow_x": null,
            "overflow_y": null,
            "padding": null,
            "right": null,
            "top": null,
            "visibility": null,
            "width": null
          }
        },
        "f22aa79abc524c97be2ffba45a46e0b9": {
          "model_module": "@jupyter-widgets/controls",
          "model_module_version": "1.5.0",
          "model_name": "HTMLModel",
          "state": {
            "_dom_classes": [],
            "_model_module": "@jupyter-widgets/controls",
            "_model_module_version": "1.5.0",
            "_model_name": "HTMLModel",
            "_view_count": null,
            "_view_module": "@jupyter-widgets/controls",
            "_view_module_version": "1.5.0",
            "_view_name": "HTMLView",
            "description": "",
            "description_tooltip": null,
            "layout": "IPY_MODEL_60ec8e7131d64640abcba4741359982c",
            "placeholder": "​",
            "style": "IPY_MODEL_aea7438e8b404498a58eceec69072113",
            "value": "config.json: 100%"
          }
        }
      }
    }
  },
  "nbformat": 4,
  "nbformat_minor": 0
}
